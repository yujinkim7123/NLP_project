{
 "cells": [
  {
   "cell_type": "code",
   "execution_count": 1,
   "metadata": {},
   "outputs": [],
   "source": [
    "#!pip install nltk\n",
    "#!pip install --upgrade pip\n",
    "#!pip install JPype1-1.2.0-cp38-cp38-win_amd64.whl\n",
    "#!pip install konlpy\n",
    "#!pip install wordcloud\n",
    "#!pip install numpy"
   ]
  },
  {
   "cell_type": "markdown",
   "metadata": {},
   "source": [
    "# 데이터 전처리 과정"
   ]
  },
  {
   "cell_type": "code",
   "execution_count": 838,
   "metadata": {},
   "outputs": [],
   "source": [
    "from konlpy.tag import Kkma"
   ]
  },
  {
   "cell_type": "markdown",
   "metadata": {},
   "source": [
    "## 데이터 분석"
   ]
  },
  {
   "cell_type": "code",
   "execution_count": 2035,
   "metadata": {},
   "outputs": [],
   "source": [
    "import numpy as np\n",
    "import pandas as pd\n",
    "import os\n",
    "import matplotlib.pyplot as plt\n",
    "import seaborn as sns\n",
    "from wordcloud import WordCloud"
   ]
  },
  {
   "cell_type": "markdown",
   "metadata": {},
   "source": [
    "* 데이터 크기, 수, 길이 확인"
   ]
  },
  {
   "cell_type": "code",
   "execution_count": 840,
   "metadata": {},
   "outputs": [
    {
     "name": "stdout",
     "output_type": "stream",
     "text": [
      "파일크기 : 1.04MB\n"
     ]
    }
   ],
   "source": [
    "DATA_IN_PATH = './dataset.csv'\n",
    "print('파일크기 : ' + str(round(os.path.getsize(DATA_IN_PATH) / 1000000, 2)) + 'MB')"
   ]
  },
  {
   "cell_type": "code",
   "execution_count": 841,
   "metadata": {},
   "outputs": [],
   "source": [
    "train_data = pd.read_csv(DATA_IN_PATH, header = 0)\n",
    "train_data.head()"
   ]
  },
  {
   "cell_type": "code",
   "execution_count": 843,
   "metadata": {},
   "outputs": [
    {
     "name": "stdout",
     "output_type": "stream",
     "text": [
      "전체 데이터 수: 10000\n"
     ]
    }
   ],
   "source": [
    "print('전체 데이터 수: {}'.format(len(train_data)))"
   ]
  },
  {
   "cell_type": "code",
   "execution_count": 844,
   "metadata": {},
   "outputs": [
    {
     "data": {
      "text/plain": [
       "0     12\n",
       "1     40\n",
       "2    103\n",
       "3     60\n",
       "4     28\n",
       "Name: txt, dtype: int64"
      ]
     },
     "execution_count": 844,
     "metadata": {},
     "output_type": "execute_result"
    }
   ],
   "source": [
    "train_lenght = train_data['txt'].astype(str).apply(len)\n",
    "train_lenght.head()"
   ]
  },
  {
   "cell_type": "markdown",
   "metadata": {},
   "source": [
    "### 데이터의 평균적인 길이를 추론"
   ]
  },
  {
   "cell_type": "code",
   "execution_count": 845,
   "metadata": {},
   "outputs": [
    {
     "data": {
      "text/plain": [
       "Text(0, 0.5, 'number')"
      ]
     },
     "execution_count": 845,
     "metadata": {},
     "output_type": "execute_result"
    },
    {
     "data": {
      "image/png": "[encoded data removed]",
      "text/plain": [
       "<Figure size 432x288 with 1 Axes>"
      ]
     },
     "metadata": {
      "needs_background": "light"
     },
     "output_type": "display_data"
    }
   ],
   "source": [
    "plt.hist(train_lenght, bins=200, alpha=0.5, color= 'r', label='word')\n",
    "plt.yscale('log', nonpositive='clip')\n",
    "plt.title('choice_moive')\n",
    "plt.xlabel('lenght')\n",
    "plt.ylabel('number')"
   ]
  },
  {
   "cell_type": "markdown",
   "metadata": {},
   "source": [
    "* 그래프에서 50자 이내로 가장 많이 분포되어있고 이후로는 서서히 줄어드는 것으로 보아 짧은 문자을 구사하는 채팅에 성질을 보인다"
   ]
  },
  {
   "cell_type": "code",
   "execution_count": 846,
   "metadata": {},
   "outputs": [
    {
     "name": "stdout",
     "output_type": "stream",
     "text": [
      "리뷰 길이 최댓값: 168\n",
      "리뷰 길이 최솟값: 1\n",
      "리뷰 길이 평균값: 38.51\n",
      "리뷰 길이 표준편차: 26.00\n",
      "리뷰 길이 중간값: 33.0\n"
     ]
    }
   ],
   "source": [
    "print('리뷰 길이 최댓값: {}'. format(np.max(train_lenght)))\n",
    "print('리뷰 길이 최솟값: {}'. format(np.min(train_lenght)))\n",
    "print('리뷰 길이 평균값: {:.2f}'. format(np.mean(train_lenght)))\n",
    "print('리뷰 길이 표준편차: {:.2f}'. format(np.std(train_lenght)))\n",
    "print('리뷰 길이 중간값: {}'. format(np.median(train_lenght)))"
   ]
  },
  {
   "cell_type": "markdown",
   "metadata": {},
   "source": [
    "* 평균에 경우 38이고 중간값과도 6정도에 차이를 보인다"
   ]
  },
  {
   "cell_type": "code",
   "execution_count": 847,
   "metadata": {
    "scrolled": true
   },
   "outputs": [
    {
     "data": {
      "text/plain": [
       "{'whiskers': [<matplotlib.lines.Line2D at 0x1c9d35cdac0>,\n",
       "  <matplotlib.lines.Line2D at 0x1c9d35bcfa0>],\n",
       " 'caps': [<matplotlib.lines.Line2D at 0x1c9ca306190>,\n",
       "  <matplotlib.lines.Line2D at 0x1c9d3d70580>],\n",
       " 'boxes': [<matplotlib.lines.Line2D at 0x1c9d3e6bc70>],\n",
       " 'medians': [<matplotlib.lines.Line2D at 0x1c9c6b28310>],\n",
       " 'fliers': [<matplotlib.lines.Line2D at 0x1c9d3dd9880>],\n",
       " 'means': [<matplotlib.lines.Line2D at 0x1c9d3dd9fd0>]}"
      ]
     },
     "execution_count": 847,
     "metadata": {},
     "output_type": "execute_result"
    },
    {
     "data": {
      "image/png": "[encoded data removed]",
      "text/plain": [
       "<Figure size 864x360 with 1 Axes>"
      ]
     },
     "metadata": {
      "needs_background": "light"
     },
     "output_type": "display_data"
    }
   ],
   "source": [
    "plt.figure(figsize=(12, 5))\n",
    "plt.boxplot(train_lenght, labels=['counts'], showmeans=True)"
   ]
  },
  {
   "cell_type": "markdown",
   "metadata": {},
   "source": [
    "### 어휘 빈도 확인\n",
    "* 사전 제작시 빈도수가 높은 단어를 참고하여 전처리하기 위한 과정\n",
    "* 불필요한 단어의 빈도수가 높은 경우 제거"
   ]
  },
  {
   "cell_type": "code",
   "execution_count": 848,
   "metadata": {},
   "outputs": [],
   "source": [
    "train_re = [re for re in train_data['txt'] if type(re) is str]"
   ]
  },
  {
   "cell_type": "code",
   "execution_count": 849,
   "metadata": {},
   "outputs": [
    {
     "data": {
      "image/png": "[encoded data removed]",
      "text/plain": [
       "<Figure size 432x288 with 1 Axes>"
      ]
     },
     "metadata": {
      "needs_background": "light"
     },
     "output_type": "display_data"
    }
   ],
   "source": [
    "wordcloud = WordCloud(font_path = './NanumPen.ttf').generate(' '.join(train_re))\n",
    "plt.imshow(wordcloud, interpolation='bilinear')\n",
    "plt.axis('off')\n",
    "plt.show()"
   ]
  },
  {
   "cell_type": "markdown",
   "metadata": {},
   "source": [
    "* 데이터에서 많이 사용되는 단어 중에 \"왜\", \"너무\", \"정말\", \"좀\", \"잘\", \"진짜\" 같이 추임새가 상당히 많은 편이다 \n",
    "  이러한 추임새를 데이터 전처리에서 불용어 사전에 추가하여 제거하는게 좋을 듯하다."
   ]
  },
  {
   "cell_type": "markdown",
   "metadata": {},
   "source": [
    "### 단어 빈도 확인\n",
    "* 평균값과 중간값 차이가 크지 않아 모델에 적용할 길이 10정도 예상"
   ]
  },
  {
   "cell_type": "code",
   "execution_count": 850,
   "metadata": {},
   "outputs": [],
   "source": [
    "train_word_counts = train_data['txt'].astype(str).apply(lambda x:len(x.split(' ')))"
   ]
  },
  {
   "cell_type": "code",
   "execution_count": 851,
   "metadata": {},
   "outputs": [
    {
     "data": {
      "text/plain": [
       "Text(0, 0.5, 'number of re')"
      ]
     },
     "execution_count": 851,
     "metadata": {},
     "output_type": "execute_result"
    },
    {
     "data": {
      "image/png": "[encoded data removed]",
      "text/plain": [
       "<Figure size 1080x720 with 1 Axes>"
      ]
     },
     "metadata": {
      "needs_background": "light"
     },
     "output_type": "display_data"
    }
   ],
   "source": [
    "plt.figure(figsize=(15, 10))\n",
    "plt.hist(train_word_counts, bins=50, facecolor='r', label='train')\n",
    "plt.title('word count', fontsize=15)\n",
    "plt.yscale('log', nonpositive='clip')\n",
    "plt.legend()\n",
    "plt.xlabel('number of words', fontsize=15)\n",
    "plt.ylabel('number of re', fontsize=15)"
   ]
  },
  {
   "cell_type": "code",
   "execution_count": 852,
   "metadata": {},
   "outputs": [
    {
     "name": "stdout",
     "output_type": "stream",
     "text": [
      "단어 최댓값: 38\n",
      "단어 최솟값: 1\n",
      "단어 평균값: 7.31\n",
      "단어 표준편차: 5.42\n",
      "단어 중간값: 6.0\n"
     ]
    }
   ],
   "source": [
    "print('단어 최댓값: {}'. format(np.max(train_word_counts)))\n",
    "print('단어 최솟값: {}'. format(np.min(train_word_counts)))\n",
    "print('단어 평균값: {:.2f}'. format(np.mean(train_word_counts)))\n",
    "print('단어 표준편차: {:.2f}'. format(np.std(train_word_counts)))\n",
    "print('단어 중간값: {}'. format(np.median(train_word_counts)))"
   ]
  },
  {
   "cell_type": "markdown",
   "metadata": {},
   "source": [
    "## 데이터 전처리"
   ]
  },
  {
   "cell_type": "code",
   "execution_count": 2034,
   "metadata": {},
   "outputs": [],
   "source": [
    "import re\n",
    "import json\n",
    "from konlpy.tag import Okt\n",
    "import tensorflow as tf\n",
    "from tensorflow.python.keras.preprocessing.sequence import pad_sequences\n",
    "from tensorflow.python.keras.preprocessing.text import Tokenizer"
   ]
  },
  {
   "cell_type": "markdown",
   "metadata": {},
   "source": [
    "### 정규표현식을 통해서 숫자, 영어, 한글을 제외하고 불필요한 것 모두 제거"
   ]
  },
  {
   "cell_type": "code",
   "execution_count": 854,
   "metadata": {},
   "outputs": [],
   "source": [
    " re_text = re.sub(\"[^1-9a-zA-Z가-힣ㄱ-ㅎㅏ-ㅣ\\\\s]\", \"\", train_data['txt'][21])"
   ]
  },
  {
   "cell_type": "markdown",
   "metadata": {},
   "source": [
    "### 형태소 분석시를 적용하여 형태소 단위 토크나이징\n",
    "* 어간 추출을 사용해 어간이 추출된 단어로 나눔\n",
    "* 어간 추출이 글의 잠재적의미 회손이 가장 덜하다고 판담함\n",
    "* 서술어 , 명사, 또한 서술어를 일관성있게 만들어 판단이 쉬울거라 예상함"
   ]
  },
  {
   "cell_type": "code",
   "execution_count": 856,
   "metadata": {},
   "outputs": [
    {
     "name": "stdout",
     "output_type": "stream",
     "text": [
      "['오승아']\n"
     ]
    }
   ],
   "source": [
    "okt=Okt()\n",
    "re_text1 = okt.nouns(re_text)\n",
    "print(re_text1)"
   ]
  },
  {
   "cell_type": "code",
   "execution_count": 857,
   "metadata": {},
   "outputs": [
    {
     "name": "stdout",
     "output_type": "stream",
     "text": [
      "['오승아', '너무', '좋았다']\n"
     ]
    }
   ],
   "source": [
    "re_text2 = okt.morphs(re_text)\n",
    "print(re_text2)"
   ]
  },
  {
   "cell_type": "code",
   "execution_count": 858,
   "metadata": {},
   "outputs": [
    {
     "name": "stdout",
     "output_type": "stream",
     "text": [
      "['오승아', '너무', '좋다']\n"
     ]
    }
   ],
   "source": [
    "re_text2 = okt.morphs(re_text, stem=True)\n",
    "print(re_text2)"
   ]
  },
  {
   "cell_type": "code",
   "execution_count": 859,
   "metadata": {},
   "outputs": [
    {
     "name": "stdout",
     "output_type": "stream",
     "text": [
      "['오승아']\n"
     ]
    }
   ],
   "source": [
    "re_text3 = okt.phrases(re_text)\n",
    "print(re_text3)"
   ]
  },
  {
   "cell_type": "code",
   "execution_count": 860,
   "metadata": {},
   "outputs": [
    {
     "name": "stdout",
     "output_type": "stream",
     "text": [
      "['오승아/Noun', '너무/Adverb', '좋았다/Adjective']\n"
     ]
    }
   ],
   "source": [
    "re_text4 = okt.pos(re_text, join=True)\n",
    "print(re_text4)"
   ]
  },
  {
   "cell_type": "markdown",
   "metadata": {},
   "source": [
    "#### 불용어 제거\n",
    "* 불용어 목록을 txt 파일로 만든 후 해당 목록에 있는 불용어를 제거한다."
   ]
  },
  {
   "cell_type": "code",
   "execution_count": 861,
   "metadata": {},
   "outputs": [],
   "source": [
    "stop_word = pd.read_csv('./ko_stopword.txt',header = 0)\n",
    "stop_word = np.array(stop_word['txt'].tolist())\n",
    "stop_words = set(stop_word)"
   ]
  },
  {
   "cell_type": "code",
   "execution_count": 862,
   "metadata": {},
   "outputs": [
    {
     "name": "stdout",
     "output_type": "stream",
     "text": [
      "['오승아', '좋다']\n"
     ]
    }
   ],
   "source": [
    "clean_text = [token for token in re_text2 if not token in stop_words]\n",
    "print(clean_text)"
   ]
  },
  {
   "cell_type": "markdown",
   "metadata": {},
   "source": [
    "#### 전처리 과정 함수 제작\n",
    "* 위 전처리과정을 담은 함수를 제작"
   ]
  },
  {
   "cell_type": "code",
   "execution_count": 863,
   "metadata": {},
   "outputs": [],
   "source": [
    " def preprocessing(text, okt, re_stopword = True):\n",
    "        \n",
    "        re_text = re.sub(\"[^가-힣ㄱ-ㅎㅏ-ㅣ\\\\s]\", \"\", text) #한글외 삭제\n",
    "         \n",
    "        re_text2 = okt.morphs(re_text, stem=True) #어간추출\n",
    "        \n",
    "        if re_stopword:\n",
    "            clean_text = [token for token in re_text2 if not token in stop_words] #불용어 처리\n",
    "            \n",
    "        clean_text = ' '.join(clean_text)\n",
    "\n",
    "        return clean_text"
   ]
  },
  {
   "cell_type": "markdown",
   "metadata": {},
   "source": [
    "### 전처리 과정 일괄 수행"
   ]
  },
  {
   "cell_type": "code",
   "execution_count": 2119,
   "metadata": {
    "scrolled": false
   },
   "outputs": [],
   "source": [
    "clean_train_word=[]\n",
    "\n",
    "for re_text in train_data['txt']:\n",
    "\n",
    "    if type(re_text) == str:\n",
    "        clean_train_word.append(preprocessing(re_text, okt))\n",
    "    else\n",
    "        clean_train_word.append([])"
   ]
  },
  {
   "cell_type": "code",
   "execution_count": 2291,
   "metadata": {
    "scrolled": true
   },
   "outputs": [],
   "source": [
    "clean_train_df = pd.DataFrame({'txt': clean_train_word, 'sentiment': train_data['txt']}) \n",
    "clean_train_df.to_csv('./train_clean.csv', index=False ,encoding='utf-8-sig' )\n",
    "#모델에 따라서 입력값 다를수 있어 저장"
   ]
  },
  {
   "cell_type": "markdown",
   "metadata": {},
   "source": [
    "### 결측값 제거\n",
    "* 빈문자열 nan으로 변환 후 제거"
   ]
  },
  {
   "cell_type": "code",
   "execution_count": 2293,
   "metadata": {},
   "outputs": [],
   "source": [
    "clean_train_df.replace('', np.nan, inplace=True)"
   ]
  },
  {
   "cell_type": "code",
   "execution_count": 2294,
   "metadata": {},
   "outputs": [
    {
     "data": {
      "text/plain": [
       "txt          93\n",
       "sentiment     0\n",
       "dtype: int64"
      ]
     },
     "execution_count": 2294,
     "metadata": {},
     "output_type": "execute_result"
    }
   ],
   "source": [
    "clean_train_df.isnull().sum()"
   ]
  },
  {
   "cell_type": "code",
   "execution_count": 2295,
   "metadata": {},
   "outputs": [],
   "source": [
    "clean_train_df = clean_train_df.dropna()"
   ]
  },
  {
   "cell_type": "code",
   "execution_count": 2296,
   "metadata": {},
   "outputs": [
    {
     "data": {
      "text/plain": [
       "txt          0\n",
       "sentiment    0\n",
       "dtype: int64"
      ]
     },
     "execution_count": 2296,
     "metadata": {},
     "output_type": "execute_result"
    }
   ],
   "source": [
    "clean_train_df.isnull().sum()"
   ]
  },
  {
   "cell_type": "code",
   "execution_count": 2297,
   "metadata": {},
   "outputs": [
    {
     "data": {
      "text/plain": [
       "9907"
      ]
     },
     "execution_count": 2297,
     "metadata": {},
     "output_type": "execute_result"
    }
   ],
   "source": [
    "len(clean_train_df)"
   ]
  },
  {
   "cell_type": "code",
   "execution_count": 2298,
   "metadata": {},
   "outputs": [],
   "source": [
    "clean_train_df.to_csv('./train_clean.csv', index=False ,encoding='utf-8-sig' )"
   ]
  },
  {
   "cell_type": "markdown",
   "metadata": {},
   "source": [
    "### 문장당 단어 개수 확인\n",
    "* 전처리 후에 문장당 단어 개수 모델에 적용할 길이 30정도 예상"
   ]
  },
  {
   "cell_type": "code",
   "execution_count": 866,
   "metadata": {},
   "outputs": [],
   "source": [
    "train_word_counts = clean_train_df['txt'].astype(str).apply(lambda x:len(x.split(' ')))"
   ]
  },
  {
   "cell_type": "code",
   "execution_count": 867,
   "metadata": {},
   "outputs": [
    {
     "name": "stdout",
     "output_type": "stream",
     "text": [
      "단어 최댓값: 69\n",
      "단어 최솟값: 1\n",
      "단어 평균값: 11.08\n",
      "단어 표준편차: 7.93\n",
      "단어 중간값: 9.0\n"
     ]
    }
   ],
   "source": [
    "print('단어 최댓값: {}'. format(np.max(train_word_counts)))\n",
    "print('단어 최솟값: {}'. format(np.min(train_word_counts)))\n",
    "print('단어 평균값: {:.2f}'. format(np.mean(train_word_counts)))\n",
    "print('단어 표준편차: {:.2f}'. format(np.std(train_word_counts)))\n",
    "print('단어 중간값: {}'. format(np.median(train_word_counts)))"
   ]
  },
  {
   "cell_type": "markdown",
   "metadata": {},
   "source": [
    "* 평균값과 중간값이 10 - 11 정도"
   ]
  },
  {
   "cell_type": "code",
   "execution_count": 868,
   "metadata": {},
   "outputs": [
    {
     "data": {
      "text/plain": [
       "Text(0, 0.5, 'number of re')"
      ]
     },
     "execution_count": 868,
     "metadata": {},
     "output_type": "execute_result"
    },
    {
     "data": {
      "image/png": "[encoded data removed]",
      "text/plain": [
       "<Figure size 1080x720 with 1 Axes>"
      ]
     },
     "metadata": {
      "needs_background": "light"
     },
     "output_type": "display_data"
    }
   ],
   "source": [
    "plt.figure(figsize=(15, 10))\n",
    "plt.hist(train_word_counts, bins=50, facecolor='r', label='train')\n",
    "plt.title('word count', fontsize=15)\n",
    "plt.yscale('log', nonpositive='clip')\n",
    "plt.legend()\n",
    "plt.xlabel('number of words', fontsize=15)\n",
    "plt.ylabel('number of re', fontsize=15)"
   ]
  },
  {
   "cell_type": "markdown",
   "metadata": {},
   "source": [
    "* 그래프상 대부분 20개 이내의 단어를 가지고 있다.\n",
    "* 많은 부분도 어느정도 비율을 차지하므로 이를 고려하여 25 - 30정도가 적당하다 판단"
   ]
  },
  {
   "cell_type": "markdown",
   "metadata": {},
   "source": [
    "# 라벨링 확보 과정"
   ]
  },
  {
   "cell_type": "markdown",
   "metadata": {},
   "source": [
    "## 라벨링을 위한 모델링 전체 과정 설명 "
   ]
  },
  {
   "cell_type": "markdown",
   "metadata": {},
   "source": [
    "## 1. 영화리뷰데이터전처리"
   ]
  },
  {
   "cell_type": "markdown",
   "metadata": {},
   "source": [
    "### 영화리뷰 데이터 분석"
   ]
  },
  {
   "cell_type": "code",
   "execution_count": 869,
   "metadata": {},
   "outputs": [],
   "source": [
    "moive_review_word = pd.read_csv('./moive_review_nlp.txt', header = 0, sep='\\t', low_memory=False)"
   ]
  },
  {
   "cell_type": "markdown",
   "metadata": {},
   "source": [
    "### 어휘 빈도 확인\n",
    "* 사전 제작시 빈도수가 높은 단어를 참고하여 전처리하기 위한 과정\n",
    "* 불필요한 단어의 빈도수가 높은 경우 제거"
   ]
  },
  {
   "cell_type": "code",
   "execution_count": 870,
   "metadata": {},
   "outputs": [],
   "source": [
    "train_re = [re for re in moive_review_word['document'] if type(re) is str]"
   ]
  },
  {
   "cell_type": "code",
   "execution_count": 58,
   "metadata": {},
   "outputs": [
    {
     "data": {
      "image/png": "[encoded data removed]",
      "text/plain": [
       "<Figure size 432x288 with 1 Axes>"
      ]
     },
     "metadata": {
      "needs_background": "light"
     },
     "output_type": "display_data"
    }
   ],
   "source": [
    "wordcloud = WordCloud(font_path = './NanumPen.ttf').generate(' '.join(train_re))\n",
    "plt.imshow(wordcloud, interpolation='bilinear')\n",
    "plt.axis('off')\n",
    "plt.show()"
   ]
  },
  {
   "cell_type": "markdown",
   "metadata": {},
   "source": [
    "* 정말 , 너무 , 진짜, ㅋㅋㅋ ,그냥 등 불용어처리하기"
   ]
  },
  {
   "cell_type": "markdown",
   "metadata": {},
   "source": [
    "### 추가 영화 리뷰 데이터 전처리"
   ]
  },
  {
   "cell_type": "code",
   "execution_count": 59,
   "metadata": {},
   "outputs": [],
   "source": [
    "def label_preprocessing(text, okt, re_stopword = True):\n",
    "        \n",
    "        re_text = re.sub(\"[^가-힣\\\\s]\", \"\", text)\n",
    "        \n",
    "        re_text2 = okt.morphs(re_text, stem=True)\n",
    "        \n",
    "        if re_stopword:\n",
    "            clean_text = [token for token in re_text2 if not token in stop_words]\n",
    "\n",
    "        return clean_text"
   ]
  },
  {
   "cell_type": "markdown",
   "metadata": {},
   "source": [
    "* 확실한 단어만 추출하기 위해서 전처리시 한글만 허용"
   ]
  },
  {
   "cell_type": "code",
   "execution_count": 60,
   "metadata": {
    "scrolled": true
   },
   "outputs": [],
   "source": [
    "moive_word=[]\n",
    "\n",
    "for re_text in moive_review_word['document']:\n",
    "\n",
    "    if type(re_text)==str:\n",
    "        moive_word.append(label_preprocessing(re_text, okt))\n",
    "    else:\n",
    "        moive_word.append([])\n"
   ]
  },
  {
   "cell_type": "code",
   "execution_count": 88,
   "metadata": {},
   "outputs": [],
   "source": [
    "#np.save(open('./moive_input2.npy', 'wb'), moive_word)\n",
    "#전처리한 문장 파일로 저장"
   ]
  },
  {
   "cell_type": "code",
   "execution_count": 89,
   "metadata": {},
   "outputs": [],
   "source": [
    "train_input = np.load(open('./moive_input2.npy', 'rb'), allow_pickle=True)"
   ]
  },
  {
   "cell_type": "code",
   "execution_count": 63,
   "metadata": {},
   "outputs": [],
   "source": [
    "moive_input = []\n",
    "\n",
    "for m in train_input:\n",
    "    for w in m:\n",
    "         moive_input.append(w)"
   ]
  },
  {
   "cell_type": "markdown",
   "metadata": {},
   "source": [
    "* 1차원으로 변환"
   ]
  },
  {
   "cell_type": "markdown",
   "metadata": {},
   "source": [
    "### 영화 리뷰 데이터 단어 추출 사전 제작\n",
    "* 단어 빈도 수가 높은 순으로 추출"
   ]
  },
  {
   "cell_type": "code",
   "execution_count": 1724,
   "metadata": {},
   "outputs": [],
   "source": [
    "from collections import Counter\n",
    "\n",
    "count = Counter(moive_input)\n",
    "\n",
    "morphs_list = count.most_common(1000) # 단어 빈도수 높은 순 추출"
   ]
  },
  {
   "cell_type": "code",
   "execution_count": 1725,
   "metadata": {
    "scrolled": true
   },
   "outputs": [],
   "source": [
    "moive_word_input = []\n",
    "for w in morphs_list:\n",
    "    moive_word_input.append(w[0])"
   ]
  },
  {
   "cell_type": "code",
   "execution_count": 1726,
   "metadata": {},
   "outputs": [],
   "source": [
    "moive_word_input = np.array(moive_word_input)\n",
    "moive_word_input = set(moive_word_input)"
   ]
  },
  {
   "cell_type": "markdown",
   "metadata": {},
   "source": [
    "## 2. 초기 일부 데이터 라벨링을 위한 수작업\n",
    "* 일정 데이터에 대한 라벨링을 수작업으로 진행한 후 이후 자동시스템으로 라벨링\n",
    "* 모든 데이터를 확인하며 100개 라벨링 어려움. \n",
    "* 네이버 영화리뷰 데이터와 미분류데이터의 단어가 있을 시 출력해서 라벨링"
   ]
  },
  {
   "cell_type": "markdown",
   "metadata": {},
   "source": [
    "### 수동라벨링위한 추출\n",
    "* 영화리뷰데이터로 만든 사전을 기준으로 문장을 추출\n",
    "* 추출된 문장 확인 후 라벨링 진행\n",
    "\n",
    "* 영화관련 문장 (1) : 100개\n",
    "* 무관한 문장(0) : 100개"
   ]
  },
  {
   "cell_type": "code",
   "execution_count": 1747,
   "metadata": {},
   "outputs": [],
   "source": [
    "right_text = []\n",
    "wrong_text = []\n",
    "\n",
    "c = 0\n",
    "for text in clean_train_word: \n",
    "  \n",
    "    c = 0\n",
    "    \n",
    "    words = text.split(' ')\n",
    "    \n",
    "    for token in  words:\n",
    "        if token in moive_word_input: #사전안에 단어가 있는 경우 영화관련 문장으로 예측\n",
    "            c = c + 1\n",
    "            \n",
    "    if c == 0:\n",
    "        wrong_text.append(text)        # 영화관련 문장리스트 (9단어 이상 있어야함)\n",
    "            \n",
    "    elif c > 20:\n",
    "        right_text.append(text)        # 아닌경우리스트"
   ]
  },
  {
   "cell_type": "markdown",
   "metadata": {},
   "source": [
    "* 세개의 파일(증식할 데이터 넣는 곳, 라벨링된 원본 + 전처리된 데이터, 최종라벨링 파일)\n",
    "* 1, 0 (영화관련된 문장, 아닌 문장) 각각 파일 \n",
    "* 원본데이터와 전처리이 데이터가 매핑되어있는 csv 파일(테스트 데이터로 활용예정)에서 라벨링된 데이터 제거\n",
    "#### 라벨링된 데이터 제거하고 테스트할 데이터 만들기(직접해야함)\n"
   ]
  },
  {
   "cell_type": "code",
   "execution_count": 1748,
   "metadata": {},
   "outputs": [],
   "source": [
    "right_text = pd.DataFrame({'txt': right_text }) \n",
    "right_text.to_csv('./right_text.csv', index=False ,encoding='utf-8-sig' ) #증식데이터와 원본데이터 다 넣음\n",
    "right_text.to_csv('./right_text_re.csv', index=False ,encoding='utf-8-sig' ) #데이터 증식될 문장만 넣는곳\n",
    "right_text.to_csv('./right_text_result.csv', index=False ,encoding='utf-8-sig' )#최종라벨링이 된 문장"
   ]
  },
  {
   "cell_type": "code",
   "execution_count": 1750,
   "metadata": {},
   "outputs": [],
   "source": [
    "wrong_text = pd.DataFrame({'txt': wrong_text}) \n",
    "wrong_text.to_csv('./wrong_text.csv', index=False ,encoding='utf-8-sig' ) #증식데이터와 원본데이터 다 넣음\n",
    "wrong_text.to_csv('./wrong_text_re.csv', index=False ,encoding='utf-8-sig' )#데이터 증식될 문장만 넣는곳\n",
    "wrong_text.to_csv('./wrong_text_result.csv', index=False ,encoding='utf-8-sig' ) #최종라벨링이 된 문장"
   ]
  },
  {
   "cell_type": "markdown",
   "metadata": {},
   "source": [
    "#### 라벨링 된 문장 원본데이터에서 제거"
   ]
  },
  {
   "cell_type": "code",
   "execution_count": 2129,
   "metadata": {},
   "outputs": [],
   "source": [
    "right_text = pd.read_csv('./right_text.csv', header = 0)\n",
    "wrong_text = pd.read_csv('./wrong_text.csv', header = 0)\n",
    "clean_data = pd.read_csv('./train_clean.csv', header = 0)"
   ]
  },
  {
   "cell_type": "code",
   "execution_count": 2130,
   "metadata": {},
   "outputs": [],
   "source": [
    "right_text = right_text['txt'].tolist()\n",
    "wrong_text = wrong_text['txt'].tolist()"
   ]
  },
  {
   "cell_type": "code",
   "execution_count": 2131,
   "metadata": {},
   "outputs": [],
   "source": [
    "clean_train = []\n",
    "data_list = []\n",
    "check = []\n",
    "for text, data in zip(clean_data['txt'], clean_data['sentiment']):\n",
    "    if text in right_text:  \n",
    "        pass\n",
    "    elif text in wrong_text:\n",
    "        check.append(text)\n",
    "    else:\n",
    "        clean_train.append(text) #라벨링되지않은 데이터만 저장\n",
    "        data_list.append(data) "
   ]
  },
  {
   "cell_type": "code",
   "execution_count": 2286,
   "metadata": {},
   "outputs": [],
   "source": [
    "clean_train_df = pd.DataFrame({'txt': clean_train, 'sentiment': data_list}) \n",
    "clean_train_df.to_csv('./train_clean.csv', index=False ,encoding='utf-8-sig' ) #테스트 데이터로 활용"
   ]
  },
  {
   "cell_type": "code",
   "execution_count": 2287,
   "metadata": {},
   "outputs": [
    {
     "data": {
      "text/plain": [
       "9701"
      ]
     },
     "execution_count": 2287,
     "metadata": {},
     "output_type": "execute_result"
    }
   ],
   "source": [
    "len(clean_train_df)"
   ]
  },
  {
   "cell_type": "markdown",
   "metadata": {},
   "source": [
    "### (txt 파일보고 직접 수행)\n",
    "* 각각 txt 자료에서 실제 1, 0 에 해당하는 문장 100개 제외하고 모두 삭제\n",
    "\n",
    "* 데이터 증식한 데이터만 사용할 파일 제작 내용 적용(훈련때마다 증식되는 데이터만)"
   ]
  },
  {
   "cell_type": "markdown",
   "metadata": {},
   "source": [
    "### 데이터 증식\n",
    "\n",
    "안전하게 데이터 증강을 하기위해 RD, RS만을 사용.\n",
    "RI, SR은 의미 변형을 일으킬 가능성 있음"
   ]
  },
  {
   "cell_type": "markdown",
   "metadata": {},
   "source": [
    "#### RS : 단어 간 바꾸기(교환)"
   ]
  },
  {
   "cell_type": "code",
   "execution_count": 2032,
   "metadata": {},
   "outputs": [],
   "source": [
    "import pickle\n",
    "import random"
   ]
  },
  {
   "cell_type": "code",
   "execution_count": 2036,
   "metadata": {},
   "outputs": [],
   "source": [
    "def random_swap(words, n):\n",
    "    new_words = words.copy()\n",
    "    \n",
    "    for _ in range(n):\n",
    "        new_words = swap_word(new_words) \n",
    "\n",
    "    return new_words  \n",
    "\n",
    "def swap_word(new_words):\n",
    "    random_idx_1 = random.randint(0, len(new_words)-1)  #랜덤으로 교환할 인덱스 결정\n",
    "    random_idx_2 = random_idx_1\n",
    "    counter = 0\n",
    "\n",
    "    while random_idx_2 == random_idx_1:\n",
    "        random_idx_2 = random.randint(0, len(new_words)-1)\n",
    "        counter += 1 \n",
    "        if counter > 3: # 랜덤을 돌려도 계속 인덱스가 겹칠경우(3번) 원래값 리턴\n",
    "                return new_words\n",
    "    \n",
    "    #인덱스에 단어 서로 맞교환 후에 리턴\n",
    "    new_words[random_idx_1], new_words[random_idx_2] = new_words[random_idx_2], new_words[random_idx_1]\n",
    "    return new_words"
   ]
  },
  {
   "cell_type": "markdown",
   "metadata": {},
   "source": [
    "#### RD : 랜덤선택하여 단어 삭제"
   ]
  },
  {
   "cell_type": "code",
   "execution_count": 2037,
   "metadata": {},
   "outputs": [],
   "source": [
    "def random_deletion(words, p):\n",
    "    if len(words) == 1:\n",
    "        return words\n",
    "\n",
    "    new_words = []\n",
    "    for word in words:\n",
    "        r = random.uniform(0, 1)  #랜덤으로 확률 지정 P 확률이상일 시 단어추가 아니면 삭제\n",
    "        if r > p:                \n",
    "            new_words.append(word)\n",
    "\n",
    "    if len(new_words) == 0:\n",
    "        rand_int = random.randint(0, len(words)-1) #모두 제거된 경우 랜덤 인덱스 후 단어하나 선택하여 출력\n",
    "        return [words[rand_int]]\n",
    "\n",
    "    return new_words"
   ]
  },
  {
   "cell_type": "markdown",
   "metadata": {},
   "source": [
    "* 증식된 데이터 각 파일에 저장"
   ]
  },
  {
   "cell_type": "code",
   "execution_count": 2012,
   "metadata": {},
   "outputs": [],
   "source": [
    "right_text_re = pd.read_csv('./right_text_re.csv', header = 0)\n",
    "wrong_text_re = pd.read_csv('./wrong_text_re.csv', header = 0)\n",
    "right_text_re = right_text_re['txt'].tolist()\n",
    "wrong_text_re = wrong_text_re['txt'].tolist()"
   ]
  },
  {
   "cell_type": "code",
   "execution_count": 2013,
   "metadata": {},
   "outputs": [],
   "source": [
    "list_file_re = []\n",
    "for line in right_text_re :\n",
    "    list_file_re.append(line.split(' '))\n",
    "\n",
    "list_file_re2 = []\n",
    "for line in wrong_text_re:\n",
    "    list_file_re2.append(line.split(' '))"
   ]
  },
  {
   "cell_type": "code",
   "execution_count": 2153,
   "metadata": {},
   "outputs": [],
   "source": [
    "sw_de_data = []\n",
    "\n",
    "for words in list_file_re: \n",
    "    num =  len(words)#단어 길이에 따라 확률값과 교환 획수 결정\n",
    "    if num > 1:\n",
    "        n_rs = np.max([1, int(0.1*num)]) #교환횟수\n",
    "        p_rd = random.uniform(0, 1) #삭제확률값\n",
    "        a_words = random_swap(words, n_rs) \n",
    "        b_words = random_deletion(words, p_rd)\n",
    "        Stra = \" \".join(a_words)  \n",
    "        Strb = \" \".join(b_words) \n",
    "        sw_de_data.append(Stra)\n",
    "        sw_de_data.append(Strb)"
   ]
  },
  {
   "cell_type": "code",
   "execution_count": 2047,
   "metadata": {},
   "outputs": [],
   "source": [
    "sw_de_data2 = []\n",
    "\n",
    "for words in list_file_re2: \n",
    "    num =  len(words) #단어 길이에 따라 확률값과 교환 획수 결정\n",
    "    if num > 1:\n",
    "        n_rs = np.max([1, int(0.1*num)]) #교환횟수\n",
    "        p_rd = random.uniform(0, 1) #삭제확률값\n",
    "        a_words = random_swap(words, n_rs) \n",
    "        b_words = random_deletion(words, p_rd)\n",
    "        Stra = \" \".join(a_words)  \n",
    "        Strb = \" \".join(b_words) \n",
    "        sw_de_data2.append(Stra)\n",
    "        sw_de_data2.append(Strb)"
   ]
  },
  {
   "cell_type": "code",
   "execution_count": 2049,
   "metadata": {},
   "outputs": [],
   "source": [
    "sw_de_df = pd.DataFrame({'txt': sw_de_data }) \n",
    "sw_de_df.to_csv('./right_text.csv', mode='a',header=False, index=False ,encoding='utf-8-sig' ) #테스트 데이터로 활용\n",
    "sw_de_df2 = pd.DataFrame({'txt': sw_de_data2 }) \n",
    "sw_de_df2.to_csv('./wrong_text.csv', mode='a',header=False, index=False ,encoding='utf-8-sig' ) #테스트 데이터로 활용"
   ]
  },
  {
   "cell_type": "markdown",
   "metadata": {},
   "source": [
    "* 증식 데이터와 원본 데이터 병합\n",
    "* 라벨링이 된 원본데이터만 허용 함.(원본은 같은 파일에 저장되어있음)"
   ]
  },
  {
   "cell_type": "markdown",
   "metadata": {},
   "source": [
    "### 라벨링 확보된 일부 데이터 훈련모델 적용을 위한 전처리"
   ]
  },
  {
   "cell_type": "code",
   "execution_count": 2050,
   "metadata": {},
   "outputs": [],
   "source": [
    "right_text = pd.read_csv('./right_text.csv', header = 0)\n",
    "wrong_text = pd.read_csv('./wrong_text.csv', header = 0)\n",
    "right_text = right_text['txt'].tolist()\n",
    "wrong_text = wrong_text['txt'].tolist()\n",
    "array1 = np.array(right_text)   \n",
    "array3 = np.array(wrong_text)   \n",
    "total_train = np.concatenate([array1,array3], axis=0) #병합"
   ]
  },
  {
   "cell_type": "code",
   "execution_count": 2051,
   "metadata": {},
   "outputs": [],
   "source": [
    "really_data = pd.read_csv('./train_clean.csv', header = 0)\n",
    "really_data = really_data['txt'].tolist()\n",
    "really_data = np.array(really_data)"
   ]
  },
  {
   "cell_type": "code",
   "execution_count": 2052,
   "metadata": {},
   "outputs": [],
   "source": [
    "array1_label = np.ones(len(right_text))\n",
    "array3_label = np.zeros(len(wrong_text))\n",
    "total_label = np.concatenate([array1_label,array3_label], axis=0) #병합"
   ]
  },
  {
   "cell_type": "code",
   "execution_count": 2053,
   "metadata": {},
   "outputs": [],
   "source": [
    "tmp = [[x,y] for x, y in zip(total_train, total_label)]"
   ]
  },
  {
   "cell_type": "code",
   "execution_count": 2054,
   "metadata": {},
   "outputs": [],
   "source": [
    "random.shuffle(tmp) #데이터셋이 골고루 분포하도록 섞음"
   ]
  },
  {
   "cell_type": "code",
   "execution_count": 2055,
   "metadata": {},
   "outputs": [],
   "source": [
    "total_train = [n[0] for n in tmp]\n",
    "total_label = [n[1] for n in tmp]"
   ]
  },
  {
   "cell_type": "markdown",
   "metadata": {},
   "source": [
    "* 변환사전\n",
    "* 인덱스변환\n",
    "* 사이즈 패딩\n",
    "* 벡터화"
   ]
  },
  {
   "cell_type": "code",
   "execution_count": 2056,
   "metadata": {},
   "outputs": [],
   "source": [
    "tokenizer = Tokenizer()\n",
    "tokenizer.fit_on_texts(clean_train_word) #전체데이터를 전처리했던 걸로 변환사전만들기\n",
    "train_sequences = tokenizer.texts_to_sequences(total_train) #데이터증식한 라벨링된 데이터\n",
    "test_sequences = tokenizer.texts_to_sequences(really_data) #라벨링데이터를 제외한 데이터\n",
    "# 인덱스의 벡터로 구성\n",
    "\n",
    "word_vocab = tokenizer.word_index \n",
    "\n",
    "MAX_SEQUENCE_LENGH = 35 # 문장 최대 길이 \n",
    "\n",
    "train_inputs = pad_sequences(train_sequences, maxlen=MAX_SEQUENCE_LENGH, padding='post')\n",
    "test_inputs = pad_sequences(test_sequences, maxlen=MAX_SEQUENCE_LENGH, padding='post')\n",
    "train_labels = np.array(total_label)\n",
    "#패딩 처리"
   ]
  },
  {
   "cell_type": "code",
   "execution_count": 2057,
   "metadata": {},
   "outputs": [],
   "source": [
    "TRAIN_INPUT_DATA = './train_input.npy'\n",
    "TEST_INPUT_DATA = './test_input.npy'\n",
    "TRAIN_IABEL = './train_label.npy'\n",
    "DATA_CONFIGS = './data_configs.json'\n",
    "\n",
    "data_configs = {}\n",
    "\n",
    "data_configs['vocab'] = word_vocab\n",
    "data_configs['vocab_size'] = len(word_vocab)+1 #vocab size 추가\n",
    "\n",
    "#전처리된 학습 데이터를 넘파이 형태로 저장 \n",
    "np.save(open(TRAIN_INPUT_DATA, 'wb'), train_inputs)\n",
    "np.save(open(TEST_INPUT_DATA, 'wb'), test_inputs)\n",
    "np.save(open(TRAIN_IABEL, 'wb'), train_labels)\n",
    "#평가데이터 넘파이 형태로 저장\n",
    "\n",
    "#데이터 사전을 json 형태로 저장\n",
    "json.dump(data_configs, open(DATA_CONFIGS, 'w'), ensure_ascii=False)"
   ]
  },
  {
   "cell_type": "markdown",
   "metadata": {},
   "source": [
    "## 3.자동 데이터라벨링을 위한 모델링과 작업과정 구축\n",
    "* 일부 라벨링된 데이터로 모델 훈련(검증셋, 훈련셋 분배)\n",
    "* 훈련된 모델로 test 예측값 출력\n",
    "* 0.9 이상/ 0.2 미만 의 예측값의 데이터 라벨링(이미 라벨링된 문장은 제외하기)\n",
    "* 데이터 증식 \n",
    "* 라벨링된 데이터간 병합 후에 전처리 \n",
    "* 작업할 것이 100개 이하일 경우 (확률상) 중지 \n",
    "* 애매한 확률들은 직접 확인 분류하기"
   ]
  },
  {
   "cell_type": "code",
   "execution_count": 2058,
   "metadata": {},
   "outputs": [],
   "source": [
    "import json\n",
    "import os\n",
    "from konlpy.tag import Okt\n",
    "from tensorflow.keras.callbacks import EarlyStopping, ModelCheckpoint\n",
    "from tensorflow.keras import layers\n",
    "import matplotlib.pyplot as plt"
   ]
  },
  {
   "cell_type": "code",
   "execution_count": 2059,
   "metadata": {},
   "outputs": [],
   "source": [
    "SEED_NUM = 1234\n",
    "tf.random.set_seed(SEED_NUM)"
   ]
  },
  {
   "cell_type": "code",
   "execution_count": 2060,
   "metadata": {},
   "outputs": [],
   "source": [
    "def plot_graphs(history, string):\n",
    "    plt.plot(history.history[string])\n",
    "    plt.plot(history.history['val_'+string], '')\n",
    "    plt.xlabel(\"Epochs\")\n",
    "    plt.ylabel(string)\n",
    "    plt.legend([string, 'val_'+string])\n",
    "    plt.show()"
   ]
  },
  {
   "cell_type": "markdown",
   "metadata": {},
   "source": [
    "#### 2) RNN"
   ]
  },
  {
   "cell_type": "code",
   "execution_count": 2061,
   "metadata": {},
   "outputs": [],
   "source": [
    "train_input = np.load(open('./train_input.npy', 'rb'))\n",
    "train_input = pad_sequences(train_input, maxlen=train_input.shape[1])\n",
    "train_label = np.load(open('./train_label.npy', 'rb'))\n",
    "test_input = np.load(open('./test_input.npy', 'rb'))\n",
    "test_input = pad_sequences(test_input, maxlen=test_input.shape[1])\n",
    "prepro_configs = json.load(open('./data_configs.json', 'r'))"
   ]
  },
  {
   "cell_type": "code",
   "execution_count": 2355,
   "metadata": {},
   "outputs": [],
   "source": [
    "model_name = 'rnn_classifier_en'\n",
    "BATCH_SIZE = 64\n",
    "NUM_EPOCHS = 100\n",
    "VALID_SPLIT = 0.1\n",
    "MAX_LEN = train_input.shape[1]\n",
    "global i\n",
    "i = 0\n",
    "kargs = {'model_name': model_name,\n",
    "        'vocab_size': prepro_configs['vocab_size'],\n",
    "        'embedding_dimension': 100,\n",
    "        'dropout_rate': 0.2,\n",
    "        'lstm_dimension': 150,\n",
    "        'dense_dimension': 150,\n",
    "        'output_dimension':1}"
   ]
  },
  {
   "cell_type": "markdown",
   "metadata": {},
   "source": [
    "* 적은 데이터인 만큼 과적합 방지를 위해서 층을 단순화"
   ]
  },
  {
   "cell_type": "code",
   "execution_count": 2356,
   "metadata": {},
   "outputs": [],
   "source": [
    "class RNNClassifier(tf.keras.Model):\n",
    "    def __init__(self, **kargs):\n",
    "        super(RNNClassifier, self).__init__(name=kargs['model_name'])\n",
    "        self.embedding = layers.Embedding(input_dim=kargs['vocab_size'],\n",
    "                                     output_dim=kargs['embedding_dimension']) #데이터 사전 수와, 임베딩 차원 수 입력\n",
    "        self.lstm_1_layer = tf.keras.layers.LSTM(kargs['lstm_dimension'], return_sequences=True)\n",
    "        # lstm를 통해 각 문장의 의미벡터 출력 \n",
    "        #마지막 시퉌스의 은닉 상태 벡터를 얻기 위해서 첫레이어에서 다음 레이어에 입력할 시퀀스 벡터 구성(return_sequences=True)\n",
    "        self.lstm_2_layer = tf.keras.layers.LSTM(kargs['lstm_dimension'])\n",
    "        #마지막 스템의 은닉상태 벡터 출력\n",
    "        self.dropout = layers.Dropout(kargs['dropout_rate']) #과적합 방지 레리어\n",
    "        self.fc1 = layers.Dense(units=kargs['dense_dimension'],\n",
    "                           activation=tf.keras.activations.tanh)  \n",
    "        #피드 포워드 네트워크(벡터 차원수, 활성화함수 지정)\n",
    "        self.fc2 = layers.Dense(units=kargs['output_dimension'], \n",
    "                           activation=tf.keras.activations.sigmoid) \n",
    "        #회귀하게 만들기 위해 \n",
    "        # 예측값 0 - 1 확률로 출력(sigmoid 활성화함수)\n",
    "    \n",
    "    def call(self, x):\n",
    "        x = self.embedding(x)\n",
    "        x = self.dropout(x)\n",
    "        x = self.lstm_1_layer(x)\n",
    "        x = self.lstm_2_layer(x)\n",
    "        x = self.dropout(x)\n",
    "        x = self.fc1(x)\n",
    "        x = self.dropout(x)\n",
    "        x = self.fc2(x)\n",
    "        \n",
    "        return x"
   ]
  },
  {
   "cell_type": "code",
   "execution_count": 2357,
   "metadata": {},
   "outputs": [],
   "source": [
    "model = RNNClassifier(**kargs)\n",
    "model.compile(optimizer=tf.keras.optimizers.Adam(1e-4),\n",
    "              loss=tf.keras.losses.BinaryCrossentropy(),\n",
    "              metrics=[tf.keras.metrics.BinaryAccuracy(name='accuracy')])"
   ]
  },
  {
   "cell_type": "code",
   "execution_count": 2358,
   "metadata": {},
   "outputs": [
    {
     "name": "stdout",
     "output_type": "stream",
     "text": [
      "./rnn_classifier_en -- Folder already exists \n",
      "\n"
     ]
    }
   ],
   "source": [
    "# overfitting을 막기 위한 ealrystop 추가\n",
    "earlystop_callback = EarlyStopping(monitor='val_accuracy', min_delta=0.0001, patience=1)\n",
    "# min_delta: the threshold that triggers the termination (acc should at least improve 0.0001)\n",
    "# patience: no improvment epochs (patience = 1, 1번 이상 상승이 없으면 종료)\n",
    "global checkpoint_path\n",
    "\n",
    "checkpoint_path =  './'+ model_name + '/' + str(i) + 'weights.h5'\n",
    "checkpoint_dir = os.path.dirname(checkpoint_path)\n",
    "\n",
    "# Create path if exists\n",
    "if os.path.exists(checkpoint_dir):\n",
    "    print(\"{} -- Folder already exists \\n\".format(checkpoint_dir))\n",
    "else:\n",
    "    os.makedirs(checkpoint_dir, exist_ok=True)\n",
    "    print(\"{} -- Folder create complete \\n\".format(checkpoint_dir))\n",
    "    \n",
    "\n",
    "cp_callback = ModelCheckpoint(checkpoint_path, monitor='val_accuracy', verbose=1, save_best_only=True, save_weights_only=True)"
   ]
  },
  {
   "cell_type": "code",
   "execution_count": 1992,
   "metadata": {
    "scrolled": true
   },
   "outputs": [
    {
     "name": "stdout",
     "output_type": "stream",
     "text": [
      "Epoch 1/100\n",
      "81/81 [==============================] - ETA: 0s - loss: 0.3455 - accuracy: 0.9481\n",
      "Epoch 00001: val_accuracy improved from -inf to 0.96181, saving model to ./rnn_classifier_en\\0weights.h5\n",
      "81/81 [==============================] - 10s 127ms/step - loss: 0.3455 - accuracy: 0.9481 - val_loss: 0.1801 - val_accuracy: 0.9618\n",
      "Epoch 2/100\n",
      "81/81 [==============================] - ETA: 0s - loss: 0.1788 - accuracy: 0.9600\n",
      "Epoch 00002: val_accuracy did not improve from 0.96181\n",
      "81/81 [==============================] - 9s 107ms/step - loss: 0.1788 - accuracy: 0.9600 - val_loss: 0.1652 - val_accuracy: 0.9618\n"
     ]
    }
   ],
   "source": [
    "history = model.fit(train_input, train_label, batch_size=BATCH_SIZE, epochs=NUM_EPOCHS,\n",
    "                    validation_split=VALID_SPLIT, callbacks=[earlystop_callback, cp_callback])"
   ]
  },
  {
   "cell_type": "code",
   "execution_count": 1993,
   "metadata": {},
   "outputs": [
    {
     "data": {
      "image/png": "[encoded data removed]",
      "text/plain": [
       "<Figure size 432x288 with 1 Axes>"
      ]
     },
     "metadata": {
      "needs_background": "light"
     },
     "output_type": "display_data"
    }
   ],
   "source": [
    "plot_graphs(history, 'accuracy')"
   ]
  },
  {
   "cell_type": "code",
   "execution_count": 1994,
   "metadata": {},
   "outputs": [
    {
     "data": {
      "image/png": "[encoded data removed]",
      "text/plain": [
       "<Figure size 432x288 with 1 Axes>"
      ]
     },
     "metadata": {
      "needs_background": "light"
     },
     "output_type": "display_data"
    }
   ],
   "source": [
    "plot_graphs(history, 'loss')"
   ]
  },
  {
   "cell_type": "code",
   "execution_count": 1995,
   "metadata": {},
   "outputs": [
    {
     "data": {
      "text/plain": [
       "txt          0\n",
       "sentiment    0\n",
       "dtype: int64"
      ]
     },
     "execution_count": 1995,
     "metadata": {},
     "output_type": "execute_result"
    }
   ],
   "source": [
    "really_data = pd.read_csv('./train_clean.csv', header = 0)\n",
    "really_data.isnull().sum()"
   ]
  },
  {
   "cell_type": "code",
   "execution_count": 1996,
   "metadata": {
    "scrolled": true
   },
   "outputs": [],
   "source": [
    "DATA_OUT_PATH = './data_out_result_rnn.csv'\n",
    "SAVE_FILE_NM = './'+ model_name + '/' + str(i) + 'weights.h5'\n",
    "global model_name\n",
    "model.load_weights(SAVE_FILE_NM)\n",
    "\n",
    "predictions = model.predict(test_input, batch_size=BATCH_SIZE)\n",
    "predictions = predictions.squeeze(-1)\n",
    "\n",
    "output =  pd.DataFrame(data={\"sentiment\":list(predictions)})\n",
    "output.to_csv(DATA_OUT_PATH , index=False, quoting=3)"
   ]
  },
  {
   "cell_type": "code",
   "execution_count": 1997,
   "metadata": {},
   "outputs": [],
   "source": [
    "global min_p \n",
    "global max_p"
   ]
  },
  {
   "cell_type": "code",
   "execution_count": 2026,
   "metadata": {},
   "outputs": [],
   "source": [
    "mean = predictions.mean()\n",
    "min_p = predictions.min() + 0.01\n",
    "max_p = predictions.max() - 0.01"
   ]
  },
  {
   "cell_type": "markdown",
   "metadata": {},
   "source": [
    "### 라벨링 가능 데이터 추출\n",
    "* 예측값 확률\n",
    "* 0.2 이하 / 0.8 이상인 데이터 추출"
   ]
  },
  {
   "cell_type": "code",
   "execution_count": 1999,
   "metadata": {},
   "outputs": [],
   "source": [
    "predictions_out = pd.read_csv('./data_out_result_rnn.csv', 'r', header = 0)\n",
    "really_data = pd.read_csv('./train_clean.csv', header = 0)\n",
    "really_data = really_data['txt'].tolist()"
   ]
  },
  {
   "cell_type": "code",
   "execution_count": 2000,
   "metadata": {},
   "outputs": [],
   "source": [
    "predictions_out = predictions_out['sentiment'].tolist()"
   ]
  },
  {
   "cell_type": "code",
   "execution_count": 2001,
   "metadata": {},
   "outputs": [],
   "source": [
    "right_pred = []\n",
    "wrong_pred = []\n",
    "\n",
    "for num , text in zip(predictions_out,really_data) :\n",
    "    \n",
    "    if num <= min_p:\n",
    "        wrong_pred.append(text)\n",
    "          \n",
    "    elif num >= max_p:\n",
    "        right_pred.append(text)"
   ]
  },
  {
   "cell_type": "code",
   "execution_count": 1942,
   "metadata": {},
   "outputs": [],
   "source": [
    "right_text = pd.DataFrame({'txt': right_pred}, columns=[\"txt\"]) \n",
    "right_text.to_csv('./right_text.csv', mode='a', header=False, index=False ,encoding='utf-8-sig' )\n",
    "right_text.to_csv('./right_text_re.csv', index=False ,encoding='utf-8-sig' )\n",
    "right_text.to_csv('./right_text_result.csv', mode='a', index=False ,encoding='utf-8-sig' )#최종라벨링이 된 문장"
   ]
  },
  {
   "cell_type": "code",
   "execution_count": 1952,
   "metadata": {},
   "outputs": [],
   "source": [
    "wrong_text = pd.DataFrame({'txt': wrong_pred}) \n",
    "wrong_text.to_csv('./wrong_text.csv', mode='a',header=False,  index=False ,encoding='utf-8-sig' ) #증식데이터와 원본데이터 다 넣음\n",
    "wrong_text.to_csv('./wrong_text_re.csv', index=False ,encoding='utf-8-sig' ) #데이터 증식될 문장만 넣는곳\n",
    "wrong_text.to_csv('./wrong_text_result.csv', mode='a',index=False ,encoding='utf-8-sig' )#최종라벨링이 된 문장"
   ]
  },
  {
   "cell_type": "markdown",
   "metadata": {},
   "source": [
    "# 라벨링 모델 자동화 함수\n",
    "* 데이터증식까지(증식함수제작) 수행 후 바로 여기서부터 수행하면 자동으로 라벨링\n",
    "* 그 후 소스들은 테스트를 위한 코드"
   ]
  },
  {
   "cell_type": "markdown",
   "metadata": {},
   "source": [
    "### 1. 데이터 로드"
   ]
  },
  {
   "cell_type": "code",
   "execution_count": 2260,
   "metadata": {},
   "outputs": [],
   "source": [
    "model_name = 'rnn_classifier_en'\n",
    "BATCH_SIZE = 32\n",
    "NUM_EPOCHS = 100\n",
    "VALID_SPLIT = 0.1\n",
    "MAX_LEN = train_input.shape[1]\n",
    "global i\n",
    "i = 0\n",
    "kargs = {'model_name': model_name,\n",
    "        'vocab_size': prepro_configs['vocab_size'],\n",
    "        'embedding_dimension': 100,\n",
    "        'dropout_rate': 0.2,\n",
    "        'lstm_dimension': 150,\n",
    "        'dense_dimension': 150,\n",
    "        'output_dimension':1}"
   ]
  },
  {
   "cell_type": "code",
   "execution_count": null,
   "metadata": {},
   "outputs": [],
   "source": [
    "def data_pre():\n",
    "    right_text = pd.read_csv('./right_text.csv', header = 0)\n",
    "    wrong_text = pd.read_csv('./wrong_text.csv', header = 0)\n",
    "    right_text = right_text['txt'].tolist()\n",
    "    wrong_text = wrong_text['txt'].tolist()\n",
    "    array1 = np.array(right_text)   \n",
    "    array3 = np.array(wrong_text)   \n",
    "    total_train = np.concatenate([array1,array3], axis=0) #병합\n",
    "\n",
    "    really_data = pd.read_csv('./train_clean.csv', header = 0)\n",
    "    really_data = really_data['txt'].tolist()\n",
    "    really_data = np.array(really_data)\n",
    "\n",
    "    array1_label = np.ones(len(right_text))\n",
    "    array3_label = np.zeros(len(wrong_text))\n",
    "    total_label = np.concatenate([array1_label,array3_label], axis=0) #병합\n",
    "\n",
    "    tmp = [[x,y] for x, y in zip(total_train, total_label)]\n",
    "\n",
    "    random.shuffle(tmp) #데이터셋이 골고루 분포하도록 섞음\n",
    "\n",
    "    total_train = [n[0] for n in tmp]\n",
    "    total_label = [n[1] for n in tmp]\n",
    "    \n",
    "    return total_train, total_label, really_data"
   ]
  },
  {
   "cell_type": "markdown",
   "metadata": {},
   "source": [
    "### 2. 데이터전처리, 토크나이징\n",
    "* 변환사전\n",
    "* 인덱스변환\n",
    "* 사이즈 패딩\n",
    "* 벡터화"
   ]
  },
  {
   "cell_type": "code",
   "execution_count": null,
   "metadata": {},
   "outputs": [],
   "source": [
    "def token_pre(total_train , total_label , really_data):\n",
    "    train_sequences = tokenizer.texts_to_sequences(total_train) #데이터증식한 라벨링된 데이터\n",
    "    test_sequences = tokenizer.texts_to_sequences(really_data) #라벨링데이터를 제외한 데이터\n",
    "    # 인덱스의 벡터로 구성\n",
    "\n",
    "    total_word_vocab = tokenizer.word_index \n",
    "\n",
    "    MAX_SEQUENCE_LENGH = 170 # 문장 최대 길이 \n",
    "    \n",
    "    # 패딩처리\n",
    "    train_inputs = pad_sequences(train_sequences, maxlen=MAX_SEQUENCE_LENGH, padding='post')\n",
    "    test_inputs = pad_sequences(test_sequences, maxlen=MAX_SEQUENCE_LENGH, padding='post')\n",
    "    train_labels = np.array(total_label)\n",
    "    TRAIN_INPUT_DATA = './train_input.npy'\n",
    "    TEST_INPUT_DATA = './test_input.npy'\n",
    "    TRAIN_IABEL = './train_label.npy'\n",
    "    DATA_CONFIGS = './data_configs.json'\n",
    "\n",
    "    data_configs = {}\n",
    "    \n",
    "    data_configs['vocab'] = word_vocab\n",
    "    data_configs['vocab_size'] = len(word_vocab)+1 #vocab size 추가\n",
    "\n",
    "    #전처리된 학습 데이터를 넘파이 형태로 저장 \n",
    "    np.save(open(TRAIN_INPUT_DATA, 'wb'), train_inputs)\n",
    "    np.save(open(TEST_INPUT_DATA, 'wb'), test_inputs)\n",
    "    np.save(open(TRAIN_IABEL, 'wb'), train_labels)\n",
    "    #평가데이터 넘파이 형태로 저장\n",
    "\n",
    "    #데이터 사전을 json 형태로 저장\n",
    "    json.dump(data_configs, open(DATA_CONFIGS, 'w'), ensure_ascii=False)\n",
    "    \n",
    "    return train_inputs, test_inputs, train_labels"
   ]
  },
  {
   "cell_type": "markdown",
   "metadata": {},
   "source": [
    "### 3. 모델_생성_훈련_예측값추출\n",
    "* 모델생성훈련\n",
    "* 예측값 추출"
   ]
  },
  {
   "cell_type": "code",
   "execution_count": null,
   "metadata": {},
   "outputs": [],
   "source": [
    "def model_build_predict(b):\n",
    "    \n",
    "    train_input = np.load(open('./train_input.npy', 'rb'))\n",
    "    train_input = pad_sequences(train_input, maxlen=train_input.shape[1])\n",
    "    train_label = np.load(open('./train_label.npy', 'rb'))\n",
    "    test_input = np.load(open('./test_input.npy', 'rb'))\n",
    "    test_input = pad_sequences(test_input, maxlen=test_input.shape[1])\n",
    "    prepro_configs = json.load(open('./data_configs.json', 'r'))\n",
    "\n",
    "    global BATCH_SIZE\n",
    "    tonum = BATCH_SIZE \n",
    "    \n",
    "    if b == 0:\n",
    "        \n",
    "        for x in range(1,10):\n",
    "            \n",
    "            num = len(train_input)/BATCH_SIZE  #배치사이즈를 조절에서 모델의 정확도 높이기 \n",
    "                                               # 15 - 30 사이로 데이터가 훈련되도록 배치사이즈 조절\n",
    "\n",
    "            if BATCH_SIZE < 513:\n",
    "                break\n",
    "\n",
    "            if num > 30:\n",
    "                tonum = tonum*2\n",
    "\n",
    "            elif num < 15:\n",
    "                tonum = tonum/2\n",
    "\n",
    "            else:\n",
    "                break\n",
    "\n",
    "    \n",
    "    BATCH_SIZE = tonum\n",
    "    \n",
    "    \n",
    "    print(BATCH_SIZE)\n",
    "    \n",
    "    earlystop_callback = EarlyStopping(monitor='val_accuracy', min_delta=0.0001, patience=1)\n",
    "    # min_delta: the threshold that triggers the termination (acc should at least improve 0.0001)\n",
    "    # patience: no improvment epochs (patience = 1, 1번 이상 상승이 없으면 종료)\n",
    "    global i\n",
    "    \n",
    "    i = i + 1\n",
    "    \n",
    "    global checkpoint_path\n",
    "    \n",
    "    checkpoint_path = './'+ model_name + '/' + str(i) + 'weights.h5'\n",
    "   \n",
    "    checkpoint_dir = os.path.dirname(checkpoint_path)\n",
    "\n",
    "    # Create path if exists\n",
    "    if os.path.exists(checkpoint_dir):\n",
    "        print(\"{} -- Folder already exists \\n\".format(checkpoint_dir))\n",
    "    else:\n",
    "        os.makedirs(checkpoint_dir, exist_ok=True)\n",
    "        print(\"{} -- Folder create complete \\n\".format(checkpoint_dir)) \n",
    "\n",
    "\n",
    "    cp_callback = ModelCheckpoint(checkpoint_path, monitor='val_accuracy', verbose=1, save_best_only=True, save_weights_only=True)\n",
    "    \n",
    "    model = RNNClassifier(**kargs)\n",
    "    model.compile(optimizer=tf.keras.optimizers.Adam(1e-4),\n",
    "                  loss=tf.keras.losses.BinaryCrossentropy(),\n",
    "                  metrics=[tf.keras.metrics.BinaryAccuracy(name='accuracy')])\n",
    "\n",
    "    history = model.fit(train_input, train_label, batch_size=BATCH_SIZE, epochs=NUM_EPOCHS,\n",
    "                    validation_split=VALID_SPLIT, callbacks=[earlystop_callback, cp_callback])\n",
    "    \n",
    "    DATA_OUT_PATH = './data_out_result_rnn.csv'\n",
    "    SAVE_FILE_NM = checkpoint_path\n",
    "\n",
    "    model.load_weights(SAVE_FILE_NM)\n",
    "\n",
    "    predictions = model.predict(test_input, batch_size=BATCH_SIZE)\n",
    "    predictions = predictions.squeeze(-1)\n",
    "\n",
    "    output =  pd.DataFrame(data={\"sentiment\":list(predictions)})\n",
    "    output.to_csv(DATA_OUT_PATH , index=False, quoting=3)\n",
    "    \n",
    "    global min_p  # 최저확률에서 +0.01 하여 높은 확률에 (=정확성이 높은) 문장만 추출\n",
    "    global max_p  # 최고확률에서 -0.01 하여 낮은 확률에 (=정확성이 높은) 영화관련 문장이 아닌 추출\n",
    "    \n",
    "    mean = predictions.mean()\n",
    "    min_p = predictions.min() + 0.01\n",
    "    max_p = predictions.max() - 0.01\n",
    "    \n",
    "    print(predictions.min())"
   ]
  },
  {
   "cell_type": "markdown",
   "metadata": {},
   "source": [
    "### 4. 라벨링진행\n",
    "* 라벨링하기\n",
    "* 예측값을 기준으로 정확한 문장 분류진행"
   ]
  },
  {
   "cell_type": "code",
   "execution_count": null,
   "metadata": {},
   "outputs": [],
   "source": [
    "def label_data():\n",
    "    predictions_out = pd.read_csv('./data_out_result_rnn.csv', 'r', header = 0)\n",
    "    really_data = pd.read_csv('./train_clean.csv', header = 0)\n",
    "    really_data = really_data['txt'].tolist()\n",
    "\n",
    "    predictions_out = predictions_out['sentiment'].tolist()\n",
    "\n",
    "    right_pred = []\n",
    "    wrong_pred = []\n",
    "    \n",
    "    global min_p, max_p     \n",
    "    \n",
    "    for num , text in zip(predictions_out,really_data) :\n",
    "\n",
    "        if num <= min_p: # 최저확률에서 +0.01 하여 높은 확률에 (=정확성이 높은) 문장만 추출\n",
    "            wrong_pred.append((text, num))\n",
    "\n",
    "        elif num >= max_p: # 최고확률에서 -0.01 하여 낮은 확률에 (=정확성이 높은) 영화관련 문장이 아닌 추출\n",
    "            right_pred.append((text, num))\n",
    "            \n",
    "    \n",
    "    r_p = []\n",
    "    w_p = []  \n",
    "    \n",
    "    \n",
    "    if len(right_pred) > 300:  #정확한 문장만을 추출하기 위해서 상위 200개에서 높은 확률의 문장 추출\n",
    "        \n",
    "        right_pred.sort(key=lambda x: x[1])\n",
    "        \n",
    "        for text, num in right_pred:\n",
    "            r_p.append(text)\n",
    "        \n",
    "        right_text = pd.DataFrame({'txt': r_p[:200]})\n",
    "    \n",
    "    else:\n",
    "        \n",
    "        for text, num in right_pred:\n",
    "            r_p.append(text)\n",
    "            \n",
    "        right_text = pd.DataFrame({'txt': r_p})\n",
    "        \n",
    "        \n",
    "    \n",
    "    if len(wrong_pred) > 300: #정확히 영화관련한 문장이 아닌것만 추출하기 위해서 상위 200개에서 낮은 확률의 문장 추출\n",
    "        wrong_pred.sort(key=lambda x: -x[1])\n",
    "        \n",
    "        for text, num in wrong_pred:\n",
    "            w_p.append(text)\n",
    "        \n",
    "        wrong_text = pd.DataFrame({'txt': w_p[:200]})\n",
    "        \n",
    "    else:\n",
    "        \n",
    "        for text, num in wrong_pred:\n",
    "            w_p.append(text)\n",
    "        \n",
    "        wrong_text = pd.DataFrame({'txt': w_p})\n",
    "        \n",
    "            \n",
    "\n",
    "   # right_text.dropna(how='all')\n",
    "    right_text.to_csv('./right_text.csv', mode='a',header=False, index=False ,encoding='utf-8-sig' )\n",
    "    right_text.to_csv('./right_text_re.csv', index=False ,encoding='utf-8-sig' )\n",
    "    right_text.to_csv('./right_text_result.csv',mode='a',index=False ,encoding='utf-8-sig' )#최종라벨링이 된 문장\n",
    "   # wrong_text.dropna(how='all')\n",
    "    wrong_text.to_csv('./wrong_text.csv', mode='a',header=False, index=False ,encoding='utf-8-sig' ) #증식데이터와 원본데이터 다 넣음\n",
    "    wrong_text.to_csv('./wrong_text_re.csv', index=False ,encoding='utf-8-sig' ) #데이터 증식될 문장만 넣는곳   \n",
    "    wrong_text.to_csv('./wrong_text_result.csv', mode='a', index=False ,encoding='utf-8-sig' )#최종라벨링이 된 문장"
   ]
  },
  {
   "cell_type": "markdown",
   "metadata": {},
   "source": [
    "### 5. 라벨링된 데이터는 원본에서 삭제\n",
    "* 라벨링한 데이터를 원본데이터에서 삭제"
   ]
  },
  {
   "cell_type": "code",
   "execution_count": null,
   "metadata": {},
   "outputs": [],
   "source": [
    "def no_label_data_delet():\n",
    "    \n",
    "    right_text = pd.read_csv('./right_text_re.csv', header = 0)\n",
    "    wrong_text = pd.read_csv('./wrong_text_re.csv', header = 0)\n",
    "    clean_data = pd.read_csv('./train_clean.csv', header = 0)\n",
    "\n",
    "    right_text = right_text['txt'].tolist()\n",
    "    wrong_text = wrong_text['txt'].tolist()\n",
    "\n",
    "    clean_train = []\n",
    "    data_list = []\n",
    "    \n",
    "    for text, data in zip(clean_data['txt'], clean_data['sentiment']):\n",
    "        \n",
    "        if text in right_text:  \n",
    "            pass\n",
    "        elif text in wrong_text:\n",
    "            pass\n",
    "        else:\n",
    "            clean_train.append(text) #라벨링되지않은 데이터만 저장\n",
    "            data_list.append(data) \n",
    "    \n",
    "    clean_train_df = pd.DataFrame({'txt': clean_train, 'sentiment': data_list}) \n",
    "    clean_train_df.to_csv('./train_clean.csv', index=False ,encoding='utf-8-sig' ) #테스트 데이터로 활용"
   ]
  },
  {
   "cell_type": "markdown",
   "metadata": {},
   "source": [
    "### 6. 데이터 증식\n",
    "* 위에 정의해둔 RS, RD로 데이터를 증식시키기"
   ]
  },
  {
   "cell_type": "code",
   "execution_count": null,
   "metadata": {},
   "outputs": [],
   "source": [
    "def label_data_plus():\n",
    "    right_text_re = pd.read_csv('./right_text_re.csv', header = 0)\n",
    "    wrong_text_re = pd.read_csv('./wrong_text_re.csv', header = 0)\n",
    "    right_text_re = right_text_re['txt'].tolist()\n",
    "    wrong_text_re = wrong_text_re['txt'].tolist()\n",
    "\n",
    "    list_file_re = []\n",
    "    for line in right_text_re :\n",
    "        list_file_re.append(line.split(' '))\n",
    "\n",
    "    list_file_re2 = []\n",
    "    for line in wrong_text_re:\n",
    "        list_file_re2.append(line.split(' '))\n",
    "\n",
    "    sw_de_data = []\n",
    "\n",
    "    for words in list_file_re: \n",
    "        num =  len(words) #단어 길이에 따라 확률값과 교환 획수 결정\n",
    "        if num > 1:\n",
    "            n_rs = np.max([1, int(0.1*num)]) #교환횟수\n",
    "            p_rd = random.uniform(0, 1) #삭제확률값\n",
    "            a_words = random_swap(words, n_rs) \n",
    "            b_words = random_deletion(words, p_rd)\n",
    "            Stra = \" \".join(a_words)  \n",
    "            Strb = \" \".join(b_words) \n",
    "            sw_de_data.append(Stra)\n",
    "            sw_de_data.append(Strb)\n",
    "\n",
    "    sw_de_data2 = []\n",
    "\n",
    "    for words in list_file_re2: \n",
    "        num =  len(words) #단어 길이에 따라 확률값과 교환 획수 결정\n",
    "        if num > 1:\n",
    "            n_rs = np.max([1, int(0.1*num)]) #교환횟수\n",
    "            p_rd = random.uniform(0, 1) #삭제확률값\n",
    "            a_words = random_swap(words, n_rs) \n",
    "            b_words = random_deletion(words, p_rd)\n",
    "            Stra = \" \".join(a_words)  \n",
    "            Strb = \" \".join(b_words) \n",
    "            sw_de_data2.append(Stra)\n",
    "            sw_de_data2.append(Strb)\n",
    "\n",
    "    sw_de_df = pd.DataFrame({'txt': sw_de_data }) \n",
    "    sw_de_df.to_csv('./right_text.csv', mode='a',header=False, index=False ,encoding='utf-8-sig' ) #테스트 데이터로 활용\n",
    "    sw_de_df2 = pd.DataFrame({'txt': sw_de_data2 }) \n",
    "    sw_de_df2.to_csv('./wrong_text.csv', mode='a',header=False, index=False ,encoding='utf-8-sig' ) #테스트 데이터로 활용"
   ]
  },
  {
   "cell_type": "markdown",
   "metadata": {},
   "source": [
    "## 제작된 자동 함수를 적용해 반복문 수행\n",
    "* 완료 시 라벨링 완료\n",
    "* 남은 데이터는 수동으로 처리"
   ]
  },
  {
   "cell_type": "code",
   "execution_count": 2306,
   "metadata": {
    "scrolled": true
   },
   "outputs": [
    {
     "name": "stdout",
     "output_type": "stream",
     "text": [
      "./rnn_classifier_en -- Folder already exists \n",
      "\n",
      "32\n",
      "./rnn_classifier_en -- Folder already exists \n",
      "\n",
      "Epoch 1/100\n",
      "15/15 [==============================] - ETA: 0s - loss: 0.6844 - accuracy: 0.7053\n",
      "Epoch 00001: val_accuracy improved from -inf to 0.81132, saving model to ./rnn_classifier_en\\2weights.h5\n",
      "15/15 [==============================] - 1s 100ms/step - loss: 0.6844 - accuracy: 0.7053 - val_loss: 0.6699 - val_accuracy: 0.8113\n",
      "Epoch 2/100\n",
      "15/15 [==============================] - ETA: 0s - loss: 0.6456 - accuracy: 0.7874\n",
      "Epoch 00002: val_accuracy did not improve from 0.81132\n",
      "15/15 [==============================] - 1s 63ms/step - loss: 0.6456 - accuracy: 0.7874 - val_loss: 0.6014 - val_accuracy: 0.8113\n",
      "0.4700451\n",
      "./rnn_classifier_en -- Folder already exists \n",
      "\n",
      "32\n",
      "./rnn_classifier_en -- Folder already exists \n",
      "\n",
      "Epoch 1/100\n",
      "47/47 [==============================] - ETA: 0s - loss: 0.6384 - accuracy: 0.7355\n",
      "Epoch 00001: val_accuracy improved from -inf to 0.89091, saving model to ./rnn_classifier_en\\4weights.h5\n",
      "47/47 [==============================] - 4s 81ms/step - loss: 0.6384 - accuracy: 0.7355 - val_loss: 0.4785 - val_accuracy: 0.8909\n",
      "Epoch 2/100\n",
      "46/47 [============================>.] - ETA: 0s - loss: 0.4418 - accuracy: 0.8784\n",
      "Epoch 00002: val_accuracy improved from 0.89091 to 0.91515, saving model to ./rnn_classifier_en\\4weights.h5\n",
      "47/47 [==============================] - 3s 68ms/step - loss: 0.4417 - accuracy: 0.8785 - val_loss: 0.3303 - val_accuracy: 0.9152\n",
      "Epoch 3/100\n",
      "46/47 [============================>.] - ETA: 0s - loss: 0.3199 - accuracy: 0.8974\n",
      "Epoch 00003: val_accuracy did not improve from 0.91515\n",
      "47/47 [==============================] - 3s 67ms/step - loss: 0.3221 - accuracy: 0.8961 - val_loss: 0.2619 - val_accuracy: 0.9152\n",
      "0.052320123\n",
      "./rnn_classifier_en -- Folder already exists \n",
      "\n",
      "32\n",
      "./rnn_classifier_en -- Folder already exists \n",
      "\n",
      "Epoch 1/100\n",
      "64/64 [==============================] - ETA: 0s - loss: 0.5379 - accuracy: 0.7066\n",
      "Epoch 00001: val_accuracy improved from -inf to 0.90308, saving model to ./rnn_classifier_en\\6weights.h5\n",
      "64/64 [==============================] - 5s 77ms/step - loss: 0.5379 - accuracy: 0.7066 - val_loss: 0.4093 - val_accuracy: 0.9031\n",
      "Epoch 2/100\n",
      "64/64 [==============================] - ETA: 0s - loss: 0.3138 - accuracy: 0.9184\n",
      "Epoch 00002: val_accuracy improved from 0.90308 to 0.92070, saving model to ./rnn_classifier_en\\6weights.h5\n",
      "64/64 [==============================] - 4s 66ms/step - loss: 0.3138 - accuracy: 0.9184 - val_loss: 0.2961 - val_accuracy: 0.9207\n",
      "Epoch 3/100\n",
      "64/64 [==============================] - ETA: 0s - loss: 0.2456 - accuracy: 0.9307\n",
      "Epoch 00003: val_accuracy improved from 0.92070 to 0.92511, saving model to ./rnn_classifier_en\\6weights.h5\n",
      "64/64 [==============================] - 4s 67ms/step - loss: 0.2456 - accuracy: 0.9307 - val_loss: 0.2544 - val_accuracy: 0.9251\n",
      "Epoch 4/100\n",
      "64/64 [==============================] - ETA: 0s - loss: 0.2163 - accuracy: 0.9346\n",
      "Epoch 00004: val_accuracy improved from 0.92511 to 0.92952, saving model to ./rnn_classifier_en\\6weights.h5\n",
      "64/64 [==============================] - 4s 67ms/step - loss: 0.2163 - accuracy: 0.9346 - val_loss: 0.2385 - val_accuracy: 0.9295\n",
      "Epoch 5/100\n",
      "64/64 [==============================] - ETA: 0s - loss: 0.1932 - accuracy: 0.9435\n",
      "Epoch 00005: val_accuracy improved from 0.92952 to 0.93392, saving model to ./rnn_classifier_en\\6weights.h5\n",
      "64/64 [==============================] - 4s 67ms/step - loss: 0.1932 - accuracy: 0.9435 - val_loss: 0.2280 - val_accuracy: 0.9339\n",
      "Epoch 6/100\n",
      "64/64 [==============================] - ETA: 0s - loss: 0.1725 - accuracy: 0.9523\n",
      "Epoch 00006: val_accuracy did not improve from 0.93392\n",
      "64/64 [==============================] - 4s 67ms/step - loss: 0.1725 - accuracy: 0.9523 - val_loss: 0.2209 - val_accuracy: 0.9339\n",
      "0.07379213\n",
      "./rnn_classifier_en -- Folder already exists \n",
      "\n",
      "32\n",
      "./rnn_classifier_en -- Folder already exists \n",
      "\n",
      "Epoch 1/100\n",
      "98/98 [==============================] - ETA: 0s - loss: 0.5427 - accuracy: 0.7130\n",
      "Epoch 00001: val_accuracy improved from -inf to 0.82709, saving model to ./rnn_classifier_en\\8weights.h5\n",
      "98/98 [==============================] - 7s 74ms/step - loss: 0.5427 - accuracy: 0.7130 - val_loss: 0.4239 - val_accuracy: 0.8271\n",
      "Epoch 2/100\n",
      "98/98 [==============================] - ETA: 0s - loss: 0.3199 - accuracy: 0.8815\n",
      "Epoch 00002: val_accuracy improved from 0.82709 to 0.89337, saving model to ./rnn_classifier_en\\8weights.h5\n",
      "98/98 [==============================] - 7s 69ms/step - loss: 0.3199 - accuracy: 0.8815 - val_loss: 0.3014 - val_accuracy: 0.8934\n",
      "Epoch 3/100\n",
      "97/98 [============================>.] - ETA: 0s - loss: 0.2344 - accuracy: 0.9236\n",
      "Epoch 00003: val_accuracy improved from 0.89337 to 0.91066, saving model to ./rnn_classifier_en\\8weights.h5\n",
      "98/98 [==============================] - 7s 68ms/step - loss: 0.2347 - accuracy: 0.9236 - val_loss: 0.2524 - val_accuracy: 0.9107\n",
      "Epoch 4/100\n",
      "98/98 [==============================] - ETA: 0s - loss: 0.1531 - accuracy: 0.9512\n",
      "Epoch 00004: val_accuracy improved from 0.91066 to 0.92795, saving model to ./rnn_classifier_en\\8weights.h5\n",
      "98/98 [==============================] - 7s 69ms/step - loss: 0.1531 - accuracy: 0.9512 - val_loss: 0.1952 - val_accuracy: 0.9280\n",
      "Epoch 5/100\n",
      "98/98 [==============================] - ETA: 0s - loss: 0.0967 - accuracy: 0.9698\n",
      "Epoch 00005: val_accuracy improved from 0.92795 to 0.93084, saving model to ./rnn_classifier_en\\8weights.h5\n",
      "98/98 [==============================] - 7s 68ms/step - loss: 0.0967 - accuracy: 0.9698 - val_loss: 0.1802 - val_accuracy: 0.9308\n",
      "Epoch 6/100\n",
      "98/98 [==============================] - ETA: 0s - loss: 0.0749 - accuracy: 0.9750\n",
      "Epoch 00006: val_accuracy improved from 0.93084 to 0.94236, saving model to ./rnn_classifier_en\\8weights.h5\n",
      "98/98 [==============================] - 7s 68ms/step - loss: 0.0749 - accuracy: 0.9750 - val_loss: 0.1512 - val_accuracy: 0.9424\n",
      "Epoch 7/100\n",
      "98/98 [==============================] - ETA: 0s - loss: 0.0674 - accuracy: 0.9785\n",
      "Epoch 00007: val_accuracy did not improve from 0.94236\n",
      "98/98 [==============================] - 7s 69ms/step - loss: 0.0674 - accuracy: 0.9785 - val_loss: 0.1583 - val_accuracy: 0.9366\n",
      "0.0007238686\n",
      "./rnn_classifier_en -- Folder already exists \n",
      "\n",
      "32\n",
      "./rnn_classifier_en -- Folder already exists \n",
      "\n",
      "Epoch 1/100\n",
      "131/131 [==============================] - ETA: 0s - loss: 0.5839 - accuracy: 0.6772\n",
      "Epoch 00001: val_accuracy improved from -inf to 0.81116, saving model to ./rnn_classifier_en\\10weights.h5\n",
      "131/131 [==============================] - 9s 70ms/step - loss: 0.5839 - accuracy: 0.6772 - val_loss: 0.4314 - val_accuracy: 0.8112\n",
      "Epoch 2/100\n",
      "131/131 [==============================] - ETA: 0s - loss: 0.3429 - accuracy: 0.8559\n",
      "Epoch 00002: val_accuracy improved from 0.81116 to 0.90343, saving model to ./rnn_classifier_en\\10weights.h5\n",
      "131/131 [==============================] - 9s 65ms/step - loss: 0.3429 - accuracy: 0.8559 - val_loss: 0.2401 - val_accuracy: 0.9034\n",
      "Epoch 3/100\n",
      "131/131 [==============================] - ETA: 0s - loss: 0.1613 - accuracy: 0.9416\n",
      "Epoch 00003: val_accuracy improved from 0.90343 to 0.94635, saving model to ./rnn_classifier_en\\10weights.h5\n",
      "131/131 [==============================] - 8s 65ms/step - loss: 0.1613 - accuracy: 0.9416 - val_loss: 0.1482 - val_accuracy: 0.9464\n",
      "Epoch 4/100\n",
      "131/131 [==============================] - ETA: 0s - loss: 0.1001 - accuracy: 0.9661\n",
      "Epoch 00004: val_accuracy improved from 0.94635 to 0.96137, saving model to ./rnn_classifier_en\\10weights.h5\n",
      "131/131 [==============================] - 9s 65ms/step - loss: 0.1001 - accuracy: 0.9661 - val_loss: 0.1027 - val_accuracy: 0.9614\n",
      "Epoch 5/100\n",
      "131/131 [==============================] - ETA: 0s - loss: 0.0690 - accuracy: 0.9761\n",
      "Epoch 00005: val_accuracy improved from 0.96137 to 0.97425, saving model to ./rnn_classifier_en\\10weights.h5\n",
      "131/131 [==============================] - 8s 64ms/step - loss: 0.0690 - accuracy: 0.9761 - val_loss: 0.0791 - val_accuracy: 0.9742\n",
      "Epoch 6/100\n",
      "131/131 [==============================] - ETA: 0s - loss: 0.0600 - accuracy: 0.9785\n",
      "Epoch 00006: val_accuracy improved from 0.97425 to 0.97854, saving model to ./rnn_classifier_en\\10weights.h5\n",
      "131/131 [==============================] - 9s 65ms/step - loss: 0.0600 - accuracy: 0.9785 - val_loss: 0.0659 - val_accuracy: 0.9785\n"
     ]
    },
    {
     "name": "stdout",
     "output_type": "stream",
     "text": [
      "Epoch 7/100\n",
      "131/131 [==============================] - ETA: 0s - loss: 0.0442 - accuracy: 0.9854\n",
      "Epoch 00007: val_accuracy did not improve from 0.97854\n",
      "131/131 [==============================] - 8s 64ms/step - loss: 0.0442 - accuracy: 0.9854 - val_loss: 0.1180 - val_accuracy: 0.9635\n",
      "0.000118712385\n",
      "./rnn_classifier_en -- Folder already exists \n",
      "\n",
      "32\n",
      "./rnn_classifier_en -- Folder already exists \n",
      "\n",
      "Epoch 1/100\n",
      "165/165 [==============================] - ETA: 0s - loss: 0.5988 - accuracy: 0.6644\n",
      "Epoch 00001: val_accuracy improved from -inf to 0.77436, saving model to ./rnn_classifier_en\\12weights.h5\n",
      "165/165 [==============================] - 12s 73ms/step - loss: 0.5988 - accuracy: 0.6644 - val_loss: 0.4922 - val_accuracy: 0.7744\n",
      "Epoch 2/100\n",
      "165/165 [==============================] - ETA: 0s - loss: 0.3174 - accuracy: 0.8655\n",
      "Epoch 00002: val_accuracy improved from 0.77436 to 0.90256, saving model to ./rnn_classifier_en\\12weights.h5\n",
      "165/165 [==============================] - 11s 69ms/step - loss: 0.3174 - accuracy: 0.8655 - val_loss: 0.2728 - val_accuracy: 0.9026\n",
      "Epoch 3/100\n",
      "165/165 [==============================] - ETA: 0s - loss: 0.1382 - accuracy: 0.9487\n",
      "Epoch 00003: val_accuracy improved from 0.90256 to 0.94530, saving model to ./rnn_classifier_en\\12weights.h5\n",
      "165/165 [==============================] - 11s 68ms/step - loss: 0.1382 - accuracy: 0.9487 - val_loss: 0.1603 - val_accuracy: 0.9453\n",
      "Epoch 4/100\n",
      "165/165 [==============================] - ETA: 0s - loss: 0.0822 - accuracy: 0.9688\n",
      "Epoch 00004: val_accuracy improved from 0.94530 to 0.96068, saving model to ./rnn_classifier_en\\12weights.h5\n",
      "165/165 [==============================] - 11s 69ms/step - loss: 0.0822 - accuracy: 0.9688 - val_loss: 0.1203 - val_accuracy: 0.9607\n",
      "Epoch 5/100\n",
      "165/165 [==============================] - ETA: 0s - loss: 0.0754 - accuracy: 0.9734\n",
      "Epoch 00005: val_accuracy did not improve from 0.96068\n",
      "165/165 [==============================] - 11s 69ms/step - loss: 0.0754 - accuracy: 0.9734 - val_loss: 0.1079 - val_accuracy: 0.9590\n",
      "0.00020229816\n",
      "./rnn_classifier_en -- Folder already exists \n",
      "\n",
      "32\n",
      "./rnn_classifier_en -- Folder already exists \n",
      "\n",
      "Epoch 1/100\n",
      "197/197 [==============================] - ETA: 0s - loss: 0.6031 - accuracy: 0.6622\n",
      "Epoch 00001: val_accuracy improved from -inf to 0.83571, saving model to ./rnn_classifier_en\\14weights.h5\n",
      "197/197 [==============================] - 14s 72ms/step - loss: 0.6031 - accuracy: 0.6622 - val_loss: 0.3853 - val_accuracy: 0.8357\n",
      "Epoch 2/100\n",
      "197/197 [==============================] - ETA: 0s - loss: 0.2610 - accuracy: 0.8935\n",
      "Epoch 00002: val_accuracy improved from 0.83571 to 0.92857, saving model to ./rnn_classifier_en\\14weights.h5\n",
      "197/197 [==============================] - 14s 69ms/step - loss: 0.2610 - accuracy: 0.8935 - val_loss: 0.1905 - val_accuracy: 0.9286\n",
      "Epoch 3/100\n",
      "197/197 [==============================] - ETA: 0s - loss: 0.1248 - accuracy: 0.9525\n",
      "Epoch 00003: val_accuracy improved from 0.92857 to 0.95857, saving model to ./rnn_classifier_en\\14weights.h5\n",
      "197/197 [==============================] - 14s 69ms/step - loss: 0.1248 - accuracy: 0.9525 - val_loss: 0.1171 - val_accuracy: 0.9586\n",
      "Epoch 4/100\n",
      "197/197 [==============================] - ETA: 0s - loss: 0.0787 - accuracy: 0.9704\n",
      "Epoch 00004: val_accuracy did not improve from 0.95857\n",
      "197/197 [==============================] - 13s 67ms/step - loss: 0.0787 - accuracy: 0.9704 - val_loss: 0.1233 - val_accuracy: 0.9500\n",
      "0.00024816394\n",
      "./rnn_classifier_en -- Folder already exists \n",
      "\n",
      "32\n",
      "./rnn_classifier_en -- Folder already exists \n",
      "\n",
      "Epoch 1/100\n",
      "230/230 [==============================] - ETA: 0s - loss: 0.6003 - accuracy: 0.6559\n",
      "Epoch 00001: val_accuracy improved from -inf to 0.80807, saving model to ./rnn_classifier_en\\16weights.h5\n",
      "230/230 [==============================] - 17s 72ms/step - loss: 0.6003 - accuracy: 0.6559 - val_loss: 0.4148 - val_accuracy: 0.8081\n",
      "Epoch 2/100\n",
      "230/230 [==============================] - ETA: 0s - loss: 0.2397 - accuracy: 0.9009\n",
      "Epoch 00002: val_accuracy improved from 0.80807 to 0.94254, saving model to ./rnn_classifier_en\\16weights.h5\n",
      "230/230 [==============================] - 16s 69ms/step - loss: 0.2397 - accuracy: 0.9009 - val_loss: 0.1413 - val_accuracy: 0.9425\n",
      "Epoch 3/100\n",
      "230/230 [==============================] - ETA: 0s - loss: 0.1180 - accuracy: 0.9545\n",
      "Epoch 00003: val_accuracy did not improve from 0.94254\n",
      "230/230 [==============================] - 16s 68ms/step - loss: 0.1180 - accuracy: 0.9545 - val_loss: 0.1682 - val_accuracy: 0.9413\n",
      "0.0006929934\n",
      "./rnn_classifier_en -- Folder already exists \n",
      "\n",
      "32\n",
      "./rnn_classifier_en -- Folder already exists \n",
      "\n",
      "Epoch 1/100\n",
      "264/264 [==============================] - ETA: 0s - loss: 0.5493 - accuracy: 0.6957\n",
      "Epoch 00001: val_accuracy improved from -inf to 0.88060, saving model to ./rnn_classifier_en\\18weights.h5\n",
      "264/264 [==============================] - 19s 71ms/step - loss: 0.5493 - accuracy: 0.6957 - val_loss: 0.2914 - val_accuracy: 0.8806\n",
      "Epoch 2/100\n",
      "264/264 [==============================] - ETA: 0s - loss: 0.1962 - accuracy: 0.9205\n",
      "Epoch 00002: val_accuracy improved from 0.88060 to 0.94136, saving model to ./rnn_classifier_en\\18weights.h5\n",
      "264/264 [==============================] - 18s 68ms/step - loss: 0.1962 - accuracy: 0.9205 - val_loss: 0.1512 - val_accuracy: 0.9414\n",
      "Epoch 3/100\n",
      "264/264 [==============================] - ETA: 0s - loss: 0.1044 - accuracy: 0.9618\n",
      "Epoch 00003: val_accuracy improved from 0.94136 to 0.94989, saving model to ./rnn_classifier_en\\18weights.h5\n",
      "264/264 [==============================] - 18s 68ms/step - loss: 0.1044 - accuracy: 0.9618 - val_loss: 0.1212 - val_accuracy: 0.9499\n",
      "Epoch 4/100\n",
      "264/264 [==============================] - ETA: 0s - loss: 0.0815 - accuracy: 0.9685\n",
      "Epoch 00004: val_accuracy improved from 0.94989 to 0.96269, saving model to ./rnn_classifier_en\\18weights.h5\n",
      "264/264 [==============================] - 18s 69ms/step - loss: 0.0815 - accuracy: 0.9685 - val_loss: 0.1079 - val_accuracy: 0.9627\n",
      "Epoch 5/100\n",
      "264/264 [==============================] - ETA: 0s - loss: 0.0611 - accuracy: 0.9771\n",
      "Epoch 00005: val_accuracy did not improve from 0.96269\n",
      "264/264 [==============================] - 18s 69ms/step - loss: 0.0611 - accuracy: 0.9771 - val_loss: 0.1043 - val_accuracy: 0.9595\n",
      "0.0001411736\n",
      "./rnn_classifier_en -- Folder already exists \n",
      "\n",
      "32\n",
      "./rnn_classifier_en -- Folder already exists \n",
      "\n",
      "Epoch 1/100\n",
      "297/298 [============================>.] - ETA: 0s - loss: 0.5490 - accuracy: 0.6934\n",
      "Epoch 00001: val_accuracy improved from -inf to 0.86660, saving model to ./rnn_classifier_en\\20weights.h5\n",
      "298/298 [==============================] - 21s 70ms/step - loss: 0.5489 - accuracy: 0.6935 - val_loss: 0.3091 - val_accuracy: 0.8666\n",
      "Epoch 2/100\n",
      "297/298 [============================>.] - ETA: 0s - loss: 0.1996 - accuracy: 0.9222\n",
      "Epoch 00002: val_accuracy improved from 0.86660 to 0.93188, saving model to ./rnn_classifier_en\\20weights.h5\n",
      "298/298 [==============================] - 20s 69ms/step - loss: 0.1996 - accuracy: 0.9222 - val_loss: 0.1559 - val_accuracy: 0.9319\n",
      "Epoch 3/100\n",
      "297/298 [============================>.] - ETA: 0s - loss: 0.1027 - accuracy: 0.9605\n",
      "Epoch 00003: val_accuracy improved from 0.93188 to 0.95080, saving model to ./rnn_classifier_en\\20weights.h5\n",
      "298/298 [==============================] - 20s 68ms/step - loss: 0.1028 - accuracy: 0.9605 - val_loss: 0.1127 - val_accuracy: 0.9508\n",
      "Epoch 4/100\n",
      "297/298 [============================>.] - ETA: 0s - loss: 0.0766 - accuracy: 0.9710\n",
      "Epoch 00004: val_accuracy improved from 0.95080 to 0.95459, saving model to ./rnn_classifier_en\\20weights.h5\n",
      "298/298 [==============================] - 20s 68ms/step - loss: 0.0767 - accuracy: 0.9709 - val_loss: 0.1007 - val_accuracy: 0.9546\n",
      "Epoch 5/100\n",
      "297/298 [============================>.] - ETA: 0s - loss: 0.0620 - accuracy: 0.9762\n",
      "Epoch 00005: val_accuracy did not improve from 0.95459\n",
      "298/298 [==============================] - 20s 68ms/step - loss: 0.0620 - accuracy: 0.9762 - val_loss: 0.1079 - val_accuracy: 0.9536\n",
      "8.548714e-05\n",
      "./rnn_classifier_en -- Folder already exists \n",
      "\n",
      "32\n",
      "./rnn_classifier_en -- Folder already exists \n",
      "\n",
      "Epoch 1/100\n",
      "331/331 [==============================] - ETA: 0s - loss: 0.5657 - accuracy: 0.6807\n",
      "Epoch 00001: val_accuracy improved from -inf to 0.87171, saving model to ./rnn_classifier_en\\22weights.h5\n",
      "331/331 [==============================] - 23s 70ms/step - loss: 0.5657 - accuracy: 0.6807 - val_loss: 0.2989 - val_accuracy: 0.8717\n",
      "Epoch 2/100\n",
      "331/331 [==============================] - ETA: 0s - loss: 0.1925 - accuracy: 0.9208\n",
      "Epoch 00002: val_accuracy improved from 0.87171 to 0.94053, saving model to ./rnn_classifier_en\\22weights.h5\n",
      "331/331 [==============================] - 22s 68ms/step - loss: 0.1925 - accuracy: 0.9208 - val_loss: 0.1493 - val_accuracy: 0.9405\n",
      "Epoch 3/100\n",
      "331/331 [==============================] - ETA: 0s - loss: 0.1076 - accuracy: 0.9594\n",
      "Epoch 00003: val_accuracy improved from 0.94053 to 0.96092, saving model to ./rnn_classifier_en\\22weights.h5\n",
      "331/331 [==============================] - 23s 68ms/step - loss: 0.1076 - accuracy: 0.9594 - val_loss: 0.1104 - val_accuracy: 0.9609\n",
      "Epoch 4/100\n",
      "331/331 [==============================] - ETA: 0s - loss: 0.0762 - accuracy: 0.9712\n",
      "Epoch 00004: val_accuracy did not improve from 0.96092\n",
      "331/331 [==============================] - 23s 68ms/step - loss: 0.0762 - accuracy: 0.9712 - val_loss: 0.1114 - val_accuracy: 0.9567\n",
      "0.00015565753\n",
      "./rnn_classifier_en -- Folder already exists \n",
      "\n",
      "32\n",
      "./rnn_classifier_en -- Folder already exists \n",
      "\n",
      "Epoch 1/100\n",
      "365/365 [==============================] - ETA: 0s - loss: 0.5191 - accuracy: 0.7078\n",
      "Epoch 00001: val_accuracy improved from -inf to 0.87423, saving model to ./rnn_classifier_en\\24weights.h5\n",
      "365/365 [==============================] - 26s 71ms/step - loss: 0.5191 - accuracy: 0.7078 - val_loss: 0.2719 - val_accuracy: 0.8742\n",
      "Epoch 2/100\n",
      "365/365 [==============================] - ETA: 0s - loss: 0.1823 - accuracy: 0.9260\n",
      "Epoch 00002: val_accuracy improved from 0.87423 to 0.93287, saving model to ./rnn_classifier_en\\24weights.h5\n",
      "365/365 [==============================] - 25s 69ms/step - loss: 0.1823 - accuracy: 0.9260 - val_loss: 0.1574 - val_accuracy: 0.9329\n",
      "Epoch 3/100\n",
      "364/365 [============================>.] - ETA: 0s - loss: 0.0977 - accuracy: 0.9611\n",
      "Epoch 00003: val_accuracy improved from 0.93287 to 0.94830, saving model to ./rnn_classifier_en\\24weights.h5\n",
      "365/365 [==============================] - 25s 69ms/step - loss: 0.0977 - accuracy: 0.9611 - val_loss: 0.1245 - val_accuracy: 0.9483\n",
      "Epoch 4/100\n",
      "364/365 [============================>.] - ETA: 0s - loss: 0.0764 - accuracy: 0.9688\n",
      "Epoch 00004: val_accuracy improved from 0.94830 to 0.95216, saving model to ./rnn_classifier_en\\24weights.h5\n",
      "365/365 [==============================] - 25s 69ms/step - loss: 0.0763 - accuracy: 0.9689 - val_loss: 0.1221 - val_accuracy: 0.9522\n",
      "Epoch 5/100\n",
      "364/365 [============================>.] - ETA: 0s - loss: 0.0638 - accuracy: 0.9733\n",
      "Epoch 00005: val_accuracy did not improve from 0.95216\n",
      "365/365 [==============================] - 25s 69ms/step - loss: 0.0638 - accuracy: 0.9733 - val_loss: 0.1132 - val_accuracy: 0.9498\n",
      "9.748387e-05\n",
      "./rnn_classifier_en -- Folder already exists \n",
      "\n",
      "32\n",
      "./rnn_classifier_en -- Folder already exists \n",
      "\n",
      "Epoch 1/100\n",
      "398/398 [==============================] - ETA: 0s - loss: 0.5057 - accuracy: 0.7158\n",
      "Epoch 00001: val_accuracy improved from -inf to 0.89399, saving model to ./rnn_classifier_en\\26weights.h5\n",
      "398/398 [==============================] - 28s 70ms/step - loss: 0.5057 - accuracy: 0.7158 - val_loss: 0.2568 - val_accuracy: 0.8940\n",
      "Epoch 2/100\n",
      "398/398 [==============================] - ETA: 0s - loss: 0.1723 - accuracy: 0.9328\n",
      "Epoch 00002: val_accuracy improved from 0.89399 to 0.93357, saving model to ./rnn_classifier_en\\26weights.h5\n",
      "398/398 [==============================] - 27s 68ms/step - loss: 0.1723 - accuracy: 0.9328 - val_loss: 0.1700 - val_accuracy: 0.9336\n",
      "Epoch 3/100\n",
      "398/398 [==============================] - ETA: 0s - loss: 0.1025 - accuracy: 0.9592\n",
      "Epoch 00003: val_accuracy improved from 0.93357 to 0.93922, saving model to ./rnn_classifier_en\\26weights.h5\n",
      "398/398 [==============================] - 27s 68ms/step - loss: 0.1025 - accuracy: 0.9592 - val_loss: 0.1592 - val_accuracy: 0.9392\n",
      "Epoch 4/100\n",
      "398/398 [==============================] - ETA: 0s - loss: 0.0825 - accuracy: 0.9674\n",
      "Epoch 00004: val_accuracy improved from 0.93922 to 0.95406, saving model to ./rnn_classifier_en\\26weights.h5\n",
      "398/398 [==============================] - 27s 68ms/step - loss: 0.0825 - accuracy: 0.9674 - val_loss: 0.1136 - val_accuracy: 0.9541\n",
      "Epoch 5/100\n",
      "398/398 [==============================] - ETA: 0s - loss: 0.0640 - accuracy: 0.9751\n",
      "Epoch 00005: val_accuracy did not improve from 0.95406\n",
      "398/398 [==============================] - 27s 68ms/step - loss: 0.0640 - accuracy: 0.9751 - val_loss: 0.1313 - val_accuracy: 0.9470\n",
      "9.321584e-05\n",
      "./rnn_classifier_en -- Folder already exists \n",
      "\n",
      "32\n",
      "./rnn_classifier_en -- Folder already exists \n",
      "\n",
      "Epoch 1/100\n",
      "432/432 [==============================] - ETA: 0s - loss: 0.5143 - accuracy: 0.7108\n",
      "Epoch 00001: val_accuracy improved from -inf to 0.91466, saving model to ./rnn_classifier_en\\28weights.h5\n",
      "432/432 [==============================] - 30s 70ms/step - loss: 0.5143 - accuracy: 0.7108 - val_loss: 0.2153 - val_accuracy: 0.9147\n",
      "Epoch 2/100\n",
      "432/432 [==============================] - ETA: 0s - loss: 0.1737 - accuracy: 0.9316\n",
      "Epoch 00002: val_accuracy improved from 0.91466 to 0.94984, saving model to ./rnn_classifier_en\\28weights.h5\n",
      "432/432 [==============================] - 29s 68ms/step - loss: 0.1737 - accuracy: 0.9316 - val_loss: 0.1230 - val_accuracy: 0.9498\n",
      "Epoch 3/100\n",
      "432/432 [==============================] - ETA: 0s - loss: 0.1024 - accuracy: 0.9593\n",
      "Epoch 00003: val_accuracy improved from 0.94984 to 0.96352, saving model to ./rnn_classifier_en\\28weights.h5\n",
      "432/432 [==============================] - 30s 69ms/step - loss: 0.1024 - accuracy: 0.9593 - val_loss: 0.0906 - val_accuracy: 0.9635\n",
      "Epoch 4/100\n",
      "432/432 [==============================] - ETA: 0s - loss: 0.0856 - accuracy: 0.9669\n",
      "Epoch 00004: val_accuracy did not improve from 0.96352\n",
      "432/432 [==============================] - 30s 69ms/step - loss: 0.0856 - accuracy: 0.9669 - val_loss: 0.0888 - val_accuracy: 0.9616\n",
      "0.00013592839\n",
      "./rnn_classifier_en -- Folder already exists \n",
      "\n",
      "32\n",
      "./rnn_classifier_en -- Folder already exists \n",
      "\n",
      "Epoch 1/100\n",
      "466/466 [==============================] - ETA: 0s - loss: 0.4791 - accuracy: 0.7356\n",
      "Epoch 00001: val_accuracy improved from -inf to 0.91491, saving model to ./rnn_classifier_en\\30weights.h5\n",
      "466/466 [==============================] - 32s 69ms/step - loss: 0.4791 - accuracy: 0.7356 - val_loss: 0.2106 - val_accuracy: 0.9149\n",
      "Epoch 2/100\n",
      "466/466 [==============================] - ETA: 0s - loss: 0.1591 - accuracy: 0.9375\n",
      "Epoch 00002: val_accuracy improved from 0.91491 to 0.94689, saving model to ./rnn_classifier_en\\30weights.h5\n",
      "466/466 [==============================] - 31s 67ms/step - loss: 0.1591 - accuracy: 0.9375 - val_loss: 0.1301 - val_accuracy: 0.9469\n",
      "Epoch 3/100\n",
      "466/466 [==============================] - ETA: 0s - loss: 0.0984 - accuracy: 0.9623\n",
      "Epoch 00003: val_accuracy improved from 0.94689 to 0.95594, saving model to ./rnn_classifier_en\\30weights.h5\n",
      "466/466 [==============================] - 31s 67ms/step - loss: 0.0984 - accuracy: 0.9623 - val_loss: 0.1139 - val_accuracy: 0.9559\n",
      "Epoch 4/100\n",
      "466/466 [==============================] - ETA: 0s - loss: 0.0785 - accuracy: 0.9710\n",
      "Epoch 00004: val_accuracy improved from 0.95594 to 0.96198, saving model to ./rnn_classifier_en\\30weights.h5\n",
      "466/466 [==============================] - 31s 66ms/step - loss: 0.0785 - accuracy: 0.9710 - val_loss: 0.0977 - val_accuracy: 0.9620\n",
      "Epoch 5/100\n",
      "466/466 [==============================] - ETA: 0s - loss: 0.0686 - accuracy: 0.9718\n",
      "Epoch 00005: val_accuracy did not improve from 0.96198\n",
      "466/466 [==============================] - 31s 66ms/step - loss: 0.0686 - accuracy: 0.9718 - val_loss: 0.0991 - val_accuracy: 0.9572\n",
      "4.3992084e-05\n",
      "./rnn_classifier_en -- Folder already exists \n",
      "\n",
      "32\n",
      "./rnn_classifier_en -- Folder already exists \n",
      "\n",
      "Epoch 1/100\n",
      "496/497 [============================>.] - ETA: 0s - loss: 0.4696 - accuracy: 0.7445\n",
      "Epoch 00001: val_accuracy improved from -inf to 0.90873, saving model to ./rnn_classifier_en\\32weights.h5\n",
      "497/497 [==============================] - 34s 68ms/step - loss: 0.4696 - accuracy: 0.7446 - val_loss: 0.2358 - val_accuracy: 0.9087\n"
     ]
    },
    {
     "name": "stdout",
     "output_type": "stream",
     "text": [
      "Epoch 2/100\n",
      "496/497 [============================>.] - ETA: 0s - loss: 0.1621 - accuracy: 0.9354\n",
      "Epoch 00002: val_accuracy improved from 0.90873 to 0.94898, saving model to ./rnn_classifier_en\\32weights.h5\n",
      "497/497 [==============================] - 33s 66ms/step - loss: 0.1621 - accuracy: 0.9354 - val_loss: 0.1475 - val_accuracy: 0.9490\n",
      "Epoch 3/100\n",
      "496/497 [============================>.] - ETA: 0s - loss: 0.1017 - accuracy: 0.9598\n",
      "Epoch 00003: val_accuracy did not improve from 0.94898\n",
      "497/497 [==============================] - 32s 65ms/step - loss: 0.1017 - accuracy: 0.9598 - val_loss: 0.1311 - val_accuracy: 0.9484\n",
      "0.000102732796\n",
      "./rnn_classifier_en -- Folder already exists \n",
      "\n",
      "32\n",
      "./rnn_classifier_en -- Folder already exists \n",
      "\n",
      "Epoch 1/100\n",
      "515/515 [==============================] - ETA: 0s - loss: 0.4637 - accuracy: 0.7489\n",
      "Epoch 00001: val_accuracy improved from -inf to 0.92022, saving model to ./rnn_classifier_en\\34weights.h5\n",
      "515/515 [==============================] - 34s 66ms/step - loss: 0.4637 - accuracy: 0.7489 - val_loss: 0.1950 - val_accuracy: 0.9202\n",
      "Epoch 2/100\n",
      "515/515 [==============================] - ETA: 0s - loss: 0.1574 - accuracy: 0.9393\n",
      "Epoch 00002: val_accuracy improved from 0.92022 to 0.95027, saving model to ./rnn_classifier_en\\34weights.h5\n",
      "515/515 [==============================] - 33s 65ms/step - loss: 0.1574 - accuracy: 0.9393 - val_loss: 0.1357 - val_accuracy: 0.9503\n",
      "Epoch 3/100\n",
      "515/515 [==============================] - ETA: 0s - loss: 0.1010 - accuracy: 0.9625\n",
      "Epoch 00003: val_accuracy improved from 0.95027 to 0.95574, saving model to ./rnn_classifier_en\\34weights.h5\n",
      "515/515 [==============================] - 34s 66ms/step - loss: 0.1010 - accuracy: 0.9625 - val_loss: 0.1138 - val_accuracy: 0.9557\n",
      "Epoch 4/100\n",
      "515/515 [==============================] - ETA: 0s - loss: 0.0844 - accuracy: 0.9665\n",
      "Epoch 00004: val_accuracy improved from 0.95574 to 0.95956, saving model to ./rnn_classifier_en\\34weights.h5\n",
      "515/515 [==============================] - 33s 65ms/step - loss: 0.0844 - accuracy: 0.9665 - val_loss: 0.1080 - val_accuracy: 0.9596\n",
      "Epoch 5/100\n",
      "515/515 [==============================] - ETA: 0s - loss: 0.0737 - accuracy: 0.9713\n",
      "Epoch 00005: val_accuracy did not improve from 0.95956\n",
      "515/515 [==============================] - 33s 65ms/step - loss: 0.0737 - accuracy: 0.9713 - val_loss: 0.1155 - val_accuracy: 0.9541\n",
      "0.00067585707\n",
      "./rnn_classifier_en -- Folder already exists \n",
      "\n",
      "32\n",
      "./rnn_classifier_en -- Folder already exists \n",
      "\n",
      "Epoch 1/100\n",
      "535/536 [============================>.] - ETA: 0s - loss: 0.4651 - accuracy: 0.7519\n",
      "Epoch 00001: val_accuracy improved from -inf to 0.91334, saving model to ./rnn_classifier_en\\36weights.h5\n",
      "536/536 [==============================] - 35s 66ms/step - loss: 0.4648 - accuracy: 0.7521 - val_loss: 0.2219 - val_accuracy: 0.9133\n",
      "Epoch 2/100\n",
      "535/536 [============================>.] - ETA: 0s - loss: 0.1515 - accuracy: 0.9435\n",
      "Epoch 00002: val_accuracy improved from 0.91334 to 0.95431, saving model to ./rnn_classifier_en\\36weights.h5\n",
      "536/536 [==============================] - 35s 64ms/step - loss: 0.1515 - accuracy: 0.9434 - val_loss: 0.1306 - val_accuracy: 0.9543\n",
      "Epoch 3/100\n",
      "535/536 [============================>.] - ETA: 0s - loss: 0.1022 - accuracy: 0.9607\n",
      "Epoch 00003: val_accuracy did not improve from 0.95431\n",
      "536/536 [==============================] - 35s 65ms/step - loss: 0.1022 - accuracy: 0.9608 - val_loss: 0.1370 - val_accuracy: 0.9443\n",
      "0.0006248057\n",
      "./rnn_classifier_en -- Folder already exists \n",
      "\n",
      "32\n",
      "./rnn_classifier_en -- Folder already exists \n",
      "\n",
      "Epoch 1/100\n",
      "554/555 [============================>.] - ETA: 0s - loss: 0.4492 - accuracy: 0.7606\n",
      "Epoch 00001: val_accuracy improved from -inf to 0.92394, saving model to ./rnn_classifier_en\\38weights.h5\n",
      "555/555 [==============================] - 37s 66ms/step - loss: 0.4490 - accuracy: 0.7607 - val_loss: 0.1890 - val_accuracy: 0.9239\n",
      "Epoch 2/100\n",
      "554/555 [============================>.] - ETA: 0s - loss: 0.1490 - accuracy: 0.9412\n",
      "Epoch 00002: val_accuracy improved from 0.92394 to 0.95436, saving model to ./rnn_classifier_en\\38weights.h5\n",
      "555/555 [==============================] - 36s 65ms/step - loss: 0.1490 - accuracy: 0.9411 - val_loss: 0.1138 - val_accuracy: 0.9544\n",
      "Epoch 3/100\n",
      "554/555 [============================>.] - ETA: 0s - loss: 0.0936 - accuracy: 0.9633\n",
      "Epoch 00003: val_accuracy improved from 0.95436 to 0.96298, saving model to ./rnn_classifier_en\\38weights.h5\n",
      "555/555 [==============================] - 36s 65ms/step - loss: 0.0936 - accuracy: 0.9632 - val_loss: 0.0971 - val_accuracy: 0.9630\n",
      "Epoch 4/100\n",
      "554/555 [============================>.] - ETA: 0s - loss: 0.0783 - accuracy: 0.9694\n",
      "Epoch 00004: val_accuracy did not improve from 0.96298\n",
      "555/555 [==============================] - 36s 65ms/step - loss: 0.0782 - accuracy: 0.9694 - val_loss: 0.0993 - val_accuracy: 0.9630\n",
      "0.00011090789\n",
      "./rnn_classifier_en -- Folder already exists \n",
      "\n",
      "32\n",
      "./rnn_classifier_en -- Folder already exists \n",
      "\n",
      "Epoch 1/100\n",
      "575/575 [==============================] - ETA: 0s - loss: 0.4519 - accuracy: 0.7610\n",
      "Epoch 00001: val_accuracy improved from -inf to 0.93346, saving model to ./rnn_classifier_en\\40weights.h5\n",
      "575/575 [==============================] - 38s 66ms/step - loss: 0.4519 - accuracy: 0.7610 - val_loss: 0.1769 - val_accuracy: 0.9335\n",
      "Epoch 2/100\n",
      "575/575 [==============================] - ETA: 0s - loss: 0.1544 - accuracy: 0.9397\n",
      "Epoch 00002: val_accuracy improved from 0.93346 to 0.95988, saving model to ./rnn_classifier_en\\40weights.h5\n",
      "575/575 [==============================] - 37s 65ms/step - loss: 0.1544 - accuracy: 0.9397 - val_loss: 0.1026 - val_accuracy: 0.9599\n",
      "Epoch 3/100\n",
      "575/575 [==============================] - ETA: 0s - loss: 0.0962 - accuracy: 0.9628\n",
      "Epoch 00003: val_accuracy improved from 0.95988 to 0.96135, saving model to ./rnn_classifier_en\\40weights.h5\n",
      "575/575 [==============================] - 37s 65ms/step - loss: 0.0962 - accuracy: 0.9628 - val_loss: 0.0990 - val_accuracy: 0.9614\n",
      "Epoch 4/100\n",
      "575/575 [==============================] - ETA: 0s - loss: 0.0812 - accuracy: 0.9685\n",
      "Epoch 00004: val_accuracy improved from 0.96135 to 0.96967, saving model to ./rnn_classifier_en\\40weights.h5\n",
      "575/575 [==============================] - 37s 65ms/step - loss: 0.0812 - accuracy: 0.9685 - val_loss: 0.0798 - val_accuracy: 0.9697\n",
      "Epoch 5/100\n",
      "575/575 [==============================] - ETA: 0s - loss: 0.0733 - accuracy: 0.9717\n",
      "Epoch 00005: val_accuracy improved from 0.96967 to 0.97065, saving model to ./rnn_classifier_en\\40weights.h5\n",
      "575/575 [==============================] - 37s 64ms/step - loss: 0.0733 - accuracy: 0.9717 - val_loss: 0.0782 - val_accuracy: 0.9706\n",
      "Epoch 6/100\n",
      "575/575 [==============================] - ETA: 0s - loss: 0.0613 - accuracy: 0.9755\n",
      "Epoch 00006: val_accuracy did not improve from 0.97065\n",
      "575/575 [==============================] - 37s 64ms/step - loss: 0.0613 - accuracy: 0.9755 - val_loss: 0.0901 - val_accuracy: 0.9677\n",
      "0.00027185678\n",
      "./rnn_classifier_en -- Folder already exists \n",
      "\n",
      "32\n",
      "./rnn_classifier_en -- Folder already exists \n",
      "\n",
      "Epoch 1/100\n",
      "593/593 [==============================] - ETA: 0s - loss: 0.4621 - accuracy: 0.7538\n",
      "Epoch 00001: val_accuracy improved from -inf to 0.91552, saving model to ./rnn_classifier_en\\42weights.h5\n",
      "593/593 [==============================] - 39s 66ms/step - loss: 0.4621 - accuracy: 0.7538 - val_loss: 0.1950 - val_accuracy: 0.9155\n",
      "Epoch 2/100\n",
      "593/593 [==============================] - ETA: 0s - loss: 0.1460 - accuracy: 0.9438\n",
      "Epoch 00002: val_accuracy improved from 0.91552 to 0.95349, saving model to ./rnn_classifier_en\\42weights.h5\n",
      "593/593 [==============================] - 39s 65ms/step - loss: 0.1460 - accuracy: 0.9438 - val_loss: 0.1166 - val_accuracy: 0.9535\n",
      "Epoch 3/100\n",
      "593/593 [==============================] - ETA: 0s - loss: 0.0895 - accuracy: 0.9658\n",
      "Epoch 00003: val_accuracy improved from 0.95349 to 0.95871, saving model to ./rnn_classifier_en\\42weights.h5\n",
      "593/593 [==============================] - 39s 65ms/step - loss: 0.0895 - accuracy: 0.9658 - val_loss: 0.1051 - val_accuracy: 0.9587\n",
      "Epoch 4/100\n",
      "593/593 [==============================] - ETA: 0s - loss: 0.0728 - accuracy: 0.9711\n",
      "Epoch 00004: val_accuracy did not improve from 0.95871\n",
      "593/593 [==============================] - 39s 65ms/step - loss: 0.0728 - accuracy: 0.9711 - val_loss: 0.0957 - val_accuracy: 0.9582\n"
     ]
    },
    {
     "name": "stdout",
     "output_type": "stream",
     "text": [
      "0.00014454126\n",
      "./rnn_classifier_en -- Folder already exists \n",
      "\n",
      "32\n",
      "./rnn_classifier_en -- Folder already exists \n",
      "\n",
      "Epoch 1/100\n",
      "610/610 [==============================] - ETA: 0s - loss: 0.4411 - accuracy: 0.7675\n",
      "Epoch 00001: val_accuracy improved from -inf to 0.92577, saving model to ./rnn_classifier_en\\44weights.h5\n",
      "610/610 [==============================] - 38s 63ms/step - loss: 0.4411 - accuracy: 0.7675 - val_loss: 0.1928 - val_accuracy: 0.9258\n",
      "Epoch 2/100\n",
      "610/610 [==============================] - ETA: 0s - loss: 0.1413 - accuracy: 0.9446\n",
      "Epoch 00002: val_accuracy improved from 0.92577 to 0.94744, saving model to ./rnn_classifier_en\\44weights.h5\n",
      "610/610 [==============================] - 38s 62ms/step - loss: 0.1413 - accuracy: 0.9446 - val_loss: 0.1339 - val_accuracy: 0.9474\n",
      "Epoch 3/100\n",
      "610/610 [==============================] - ETA: 0s - loss: 0.0917 - accuracy: 0.9650 ETA: \n",
      "Epoch 00003: val_accuracy improved from 0.94744 to 0.95805, saving model to ./rnn_classifier_en\\44weights.h5\n",
      "610/610 [==============================] - 37s 61ms/step - loss: 0.0917 - accuracy: 0.9650 - val_loss: 0.1122 - val_accuracy: 0.9580\n",
      "Epoch 4/100\n",
      "610/610 [==============================] - ETA: 0s - loss: 0.0742 - accuracy: 0.9698\n",
      "Epoch 00004: val_accuracy did not improve from 0.95805\n",
      "610/610 [==============================] - 37s 61ms/step - loss: 0.0742 - accuracy: 0.9698 - val_loss: 0.1267 - val_accuracy: 0.9534\n",
      "8.629001e-05\n",
      "./rnn_classifier_en -- Folder already exists \n",
      "\n",
      "32\n",
      "./rnn_classifier_en -- Folder already exists \n",
      "\n",
      "Epoch 1/100\n",
      "628/628 [==============================] - ETA: 0s - loss: 0.4110 - accuracy: 0.7949\n",
      "Epoch 00001: val_accuracy improved from -inf to 0.91973, saving model to ./rnn_classifier_en\\46weights.h5\n",
      "628/628 [==============================] - 41s 66ms/step - loss: 0.4110 - accuracy: 0.7949 - val_loss: 0.1911 - val_accuracy: 0.9197\n",
      "Epoch 2/100\n",
      "627/628 [============================>.] - ETA: 0s - loss: 0.1365 - accuracy: 0.9474\n",
      "Epoch 00002: val_accuracy improved from 0.91973 to 0.95650, saving model to ./rnn_classifier_en\\46weights.h5\n",
      "628/628 [==============================] - 41s 65ms/step - loss: 0.1365 - accuracy: 0.9474 - val_loss: 0.1204 - val_accuracy: 0.9565\n",
      "Epoch 3/100\n",
      "627/628 [============================>.] - ETA: 0s - loss: 0.0906 - accuracy: 0.9654\n",
      "Epoch 00003: val_accuracy improved from 0.95650 to 0.95695, saving model to ./rnn_classifier_en\\46weights.h5\n",
      "628/628 [==============================] - 41s 65ms/step - loss: 0.0906 - accuracy: 0.9654 - val_loss: 0.1031 - val_accuracy: 0.9570\n",
      "Epoch 4/100\n",
      "627/628 [============================>.] - ETA: 0s - loss: 0.0731 - accuracy: 0.9709\n",
      "Epoch 00004: val_accuracy improved from 0.95695 to 0.96233, saving model to ./rnn_classifier_en\\46weights.h5\n",
      "628/628 [==============================] - 41s 65ms/step - loss: 0.0733 - accuracy: 0.9708 - val_loss: 0.1047 - val_accuracy: 0.9623\n",
      "Epoch 5/100\n",
      "628/628 [==============================] - ETA: 0s - loss: 0.0676 - accuracy: 0.9740 ETA: \n",
      "Epoch 00005: val_accuracy did not improve from 0.96233\n",
      "628/628 [==============================] - 41s 66ms/step - loss: 0.0676 - accuracy: 0.9740 - val_loss: 0.0966 - val_accuracy: 0.9610\n",
      "0.00016590953\n",
      "./rnn_classifier_en -- Folder already exists \n",
      "\n",
      "32\n",
      "./rnn_classifier_en -- Folder already exists \n",
      "\n",
      "Epoch 1/100\n",
      "649/649 [==============================] - ETA: 0s - loss: 0.4118 - accuracy: 0.7910\n",
      "Epoch 00001: val_accuracy improved from -inf to 0.92764, saving model to ./rnn_classifier_en\\48weights.h5\n",
      "649/649 [==============================] - 43s 67ms/step - loss: 0.4118 - accuracy: 0.7910 - val_loss: 0.1828 - val_accuracy: 0.9276\n",
      "Epoch 2/100\n",
      "649/649 [==============================] - ETA: 0s - loss: 0.1385 - accuracy: 0.9453\n",
      "Epoch 00002: val_accuracy improved from 0.92764 to 0.95927, saving model to ./rnn_classifier_en\\48weights.h5\n",
      "649/649 [==============================] - 42s 65ms/step - loss: 0.1385 - accuracy: 0.9453 - val_loss: 0.1118 - val_accuracy: 0.9593\n",
      "Epoch 3/100\n",
      "649/649 [==============================] - ETA: 0s - loss: 0.0902 - accuracy: 0.9647\n",
      "Epoch 00003: val_accuracy did not improve from 0.95927\n",
      "649/649 [==============================] - 42s 65ms/step - loss: 0.0902 - accuracy: 0.9647 - val_loss: 0.1096 - val_accuracy: 0.9580\n",
      "0.00035190582\n",
      "./rnn_classifier_en -- Folder already exists \n",
      "\n",
      "32\n",
      "./rnn_classifier_en -- Folder already exists \n",
      "\n",
      "Epoch 1/100\n",
      "667/667 [==============================] - ETA: 0s - loss: 0.4007 - accuracy: 0.7982\n",
      "Epoch 00001: val_accuracy improved from -inf to 0.92106, saving model to ./rnn_classifier_en\\50weights.h5\n",
      "667/667 [==============================] - 44s 66ms/step - loss: 0.4007 - accuracy: 0.7982 - val_loss: 0.1854 - val_accuracy: 0.9211\n",
      "Epoch 2/100\n",
      "666/667 [============================>.] - ETA: 0s - loss: 0.1330 - accuracy: 0.9502\n",
      "Epoch 00002: val_accuracy improved from 0.92106 to 0.95948, saving model to ./rnn_classifier_en\\50weights.h5\n",
      "667/667 [==============================] - 43s 65ms/step - loss: 0.1329 - accuracy: 0.9502 - val_loss: 0.1137 - val_accuracy: 0.9595\n",
      "Epoch 3/100\n",
      "667/667 [==============================] - ETA: 0s - loss: 0.0891 - accuracy: 0.9670\n",
      "Epoch 00003: val_accuracy improved from 0.95948 to 0.96539, saving model to ./rnn_classifier_en\\50weights.h5\n",
      "667/667 [==============================] - 43s 65ms/step - loss: 0.0891 - accuracy: 0.9670 - val_loss: 0.0928 - val_accuracy: 0.9654\n",
      "Epoch 4/100\n",
      "666/667 [============================>.] - ETA: 0s - loss: 0.0742 - accuracy: 0.9720\n",
      "Epoch 00004: val_accuracy improved from 0.96539 to 0.96707, saving model to ./rnn_classifier_en\\50weights.h5\n",
      "667/667 [==============================] - 45s 68ms/step - loss: 0.0742 - accuracy: 0.9719 - val_loss: 0.0859 - val_accuracy: 0.9671\n",
      "Epoch 5/100\n",
      "666/667 [============================>.] - ETA: 0s - loss: 0.0648 - accuracy: 0.9756\n",
      "Epoch 00005: val_accuracy improved from 0.96707 to 0.97003, saving model to ./rnn_classifier_en\\50weights.h5\n",
      "667/667 [==============================] - 43s 65ms/step - loss: 0.0648 - accuracy: 0.9756 - val_loss: 0.0850 - val_accuracy: 0.9700\n",
      "Epoch 6/100\n",
      "666/667 [============================>.] - ETA: 0s - loss: 0.0632 - accuracy: 0.9743\n",
      "Epoch 00006: val_accuracy did not improve from 0.97003\n",
      "667/667 [==============================] - 43s 65ms/step - loss: 0.0632 - accuracy: 0.9743 - val_loss: 0.0927 - val_accuracy: 0.9641\n",
      "0.00020843744\n",
      "./rnn_classifier_en -- Folder already exists \n",
      "\n",
      "32\n",
      "./rnn_classifier_en -- Folder already exists \n",
      "\n",
      "Epoch 1/100\n",
      "687/687 [==============================] - ETA: 0s - loss: 0.3952 - accuracy: 0.8030\n",
      "Epoch 00001: val_accuracy improved from -inf to 0.92957, saving model to ./rnn_classifier_en\\52weights.h5\n",
      "687/687 [==============================] - 45s 66ms/step - loss: 0.3952 - accuracy: 0.8030 - val_loss: 0.1799 - val_accuracy: 0.9296\n",
      "Epoch 2/100\n",
      "687/687 [==============================] - ETA: 0s - loss: 0.1372 - accuracy: 0.9462\n",
      "Epoch 00002: val_accuracy improved from 0.92957 to 0.95946, saving model to ./rnn_classifier_en\\52weights.h5\n",
      "687/687 [==============================] - 44s 65ms/step - loss: 0.1372 - accuracy: 0.9462 - val_loss: 0.1142 - val_accuracy: 0.9595\n",
      "Epoch 3/100\n",
      "687/687 [==============================] - ETA: 0s - loss: 0.0876 - accuracy: 0.9668\n",
      "Epoch 00003: val_accuracy improved from 0.95946 to 0.96069, saving model to ./rnn_classifier_en\\52weights.h5\n",
      "687/687 [==============================] - 44s 65ms/step - loss: 0.0876 - accuracy: 0.9668 - val_loss: 0.1054 - val_accuracy: 0.9607\n",
      "Epoch 4/100\n",
      "687/687 [==============================] - ETA: 0s - loss: 0.0720 - accuracy: 0.9720 E\n",
      "Epoch 00004: val_accuracy improved from 0.96069 to 0.96396, saving model to ./rnn_classifier_en\\52weights.h5\n",
      "687/687 [==============================] - 44s 65ms/step - loss: 0.0720 - accuracy: 0.9720 - val_loss: 0.1132 - val_accuracy: 0.9640\n",
      "Epoch 5/100\n",
      "687/687 [==============================] - ETA: 0s - loss: 0.0621 - accuracy: 0.9758\n",
      "Epoch 00005: val_accuracy did not improve from 0.96396\n",
      "687/687 [==============================] - 44s 65ms/step - loss: 0.0621 - accuracy: 0.9758 - val_loss: 0.1130 - val_accuracy: 0.9631\n",
      "8.283905e-05\n",
      "./rnn_classifier_en -- Folder already exists \n",
      "\n",
      "32\n",
      "./rnn_classifier_en -- Folder already exists \n",
      "\n",
      "Epoch 1/100\n"
     ]
    },
    {
     "name": "stdout",
     "output_type": "stream",
     "text": [
      "706/706 [==============================] - ETA: 0s - loss: 0.3951 - accuracy: 0.8025\n",
      "Epoch 00001: val_accuracy improved from -inf to 0.92786, saving model to ./rnn_classifier_en\\54weights.h5\n",
      "706/706 [==============================] - 47s 66ms/step - loss: 0.3951 - accuracy: 0.8025 - val_loss: 0.1836 - val_accuracy: 0.9279\n",
      "Epoch 2/100\n",
      "706/706 [==============================] - ETA: 0s - loss: 0.1296 - accuracy: 0.9489\n",
      "Epoch 00002: val_accuracy improved from 0.92786 to 0.96014, saving model to ./rnn_classifier_en\\54weights.h5\n",
      "706/706 [==============================] - 46s 65ms/step - loss: 0.1296 - accuracy: 0.9489 - val_loss: 0.1076 - val_accuracy: 0.9601\n",
      "Epoch 3/100\n",
      "706/706 [==============================] - ETA: 0s - loss: 0.0882 - accuracy: 0.9656\n",
      "Epoch 00003: val_accuracy improved from 0.96014 to 0.96811, saving model to ./rnn_classifier_en\\54weights.h5\n",
      "706/706 [==============================] - 46s 65ms/step - loss: 0.0882 - accuracy: 0.9656 - val_loss: 0.0892 - val_accuracy: 0.9681\n",
      "Epoch 4/100\n",
      "706/706 [==============================] - ETA: 0s - loss: 0.0705 - accuracy: 0.9734\n",
      "Epoch 00004: val_accuracy did not improve from 0.96811\n",
      "706/706 [==============================] - 46s 65ms/step - loss: 0.0705 - accuracy: 0.9734 - val_loss: 0.0942 - val_accuracy: 0.9625\n",
      "6.614615e-05\n",
      "./rnn_classifier_en -- Folder already exists \n",
      "\n",
      "32\n",
      "./rnn_classifier_en -- Folder already exists \n",
      "\n",
      "Epoch 1/100\n",
      "723/723 [==============================] - ETA: 0s - loss: 0.3973 - accuracy: 0.8043\n",
      "Epoch 00001: val_accuracy improved from -inf to 0.92685, saving model to ./rnn_classifier_en\\56weights.h5\n",
      "723/723 [==============================] - 47s 66ms/step - loss: 0.3973 - accuracy: 0.8043 - val_loss: 0.1845 - val_accuracy: 0.9268\n",
      "Epoch 2/100\n",
      "723/723 [==============================] - ETA: 0s - loss: 0.1292 - accuracy: 0.9498\n",
      "Epoch 00002: val_accuracy improved from 0.92685 to 0.94202, saving model to ./rnn_classifier_en\\56weights.h5\n",
      "723/723 [==============================] - 47s 65ms/step - loss: 0.1292 - accuracy: 0.9498 - val_loss: 0.1589 - val_accuracy: 0.9420\n",
      "Epoch 3/100\n",
      "723/723 [==============================] - ETA: 0s - loss: 0.0837 - accuracy: 0.9681\n",
      "Epoch 00003: val_accuracy improved from 0.94202 to 0.95837, saving model to ./rnn_classifier_en\\56weights.h5\n",
      "723/723 [==============================] - 47s 66ms/step - loss: 0.0837 - accuracy: 0.9681 - val_loss: 0.1023 - val_accuracy: 0.9584\n",
      "Epoch 4/100\n",
      "723/723 [==============================] - ETA: 0s - loss: 0.0706 - accuracy: 0.9719\n",
      "Epoch 00004: val_accuracy improved from 0.95837 to 0.96498, saving model to ./rnn_classifier_en\\56weights.h5\n",
      "723/723 [==============================] - 47s 65ms/step - loss: 0.0706 - accuracy: 0.9719 - val_loss: 0.0976 - val_accuracy: 0.9650\n",
      "Epoch 5/100\n",
      "723/723 [==============================] - ETA: 0s - loss: 0.0587 - accuracy: 0.9780\n",
      "Epoch 00005: val_accuracy did not improve from 0.96498\n",
      "723/723 [==============================] - 47s 65ms/step - loss: 0.0587 - accuracy: 0.9780 - val_loss: 0.0996 - val_accuracy: 0.9623\n",
      "0.00018194318\n",
      "./rnn_classifier_en -- Folder already exists \n",
      "\n",
      "32\n",
      "./rnn_classifier_en -- Folder already exists \n",
      "\n",
      "Epoch 1/100\n",
      "741/741 [==============================] - ETA: 0s - loss: 0.3934 - accuracy: 0.8081\n",
      "Epoch 00001: val_accuracy improved from -inf to 0.92787, saving model to ./rnn_classifier_en\\58weights.h5\n",
      "741/741 [==============================] - 49s 66ms/step - loss: 0.3934 - accuracy: 0.8081 - val_loss: 0.1827 - val_accuracy: 0.9279\n",
      "Epoch 2/100\n",
      "741/741 [==============================] - ETA: 0s - loss: 0.1235 - accuracy: 0.9531\n",
      "Epoch 00002: val_accuracy improved from 0.92787 to 0.95520, saving model to ./rnn_classifier_en\\58weights.h5\n",
      "741/741 [==============================] - 48s 65ms/step - loss: 0.1235 - accuracy: 0.9531 - val_loss: 0.1219 - val_accuracy: 0.9552\n",
      "Epoch 3/100\n",
      "741/741 [==============================] - ETA: 0s - loss: 0.0813 - accuracy: 0.9695\n",
      "Epoch 00003: val_accuracy improved from 0.95520 to 0.96355, saving model to ./rnn_classifier_en\\58weights.h5\n",
      "741/741 [==============================] - 50s 67ms/step - loss: 0.0813 - accuracy: 0.9695 - val_loss: 0.1027 - val_accuracy: 0.9636\n",
      "Epoch 4/100\n",
      "741/741 [==============================] - ETA: 0s - loss: 0.0685 - accuracy: 0.9732\n",
      "Epoch 00004: val_accuracy improved from 0.96355 to 0.96507, saving model to ./rnn_classifier_en\\58weights.h5\n",
      "741/741 [==============================] - 49s 66ms/step - loss: 0.0685 - accuracy: 0.9732 - val_loss: 0.0903 - val_accuracy: 0.9651\n",
      "Epoch 5/100\n",
      "741/741 [==============================] - ETA: 0s - loss: 0.0606 - accuracy: 0.9757\n",
      "Epoch 00005: val_accuracy improved from 0.96507 to 0.96811, saving model to ./rnn_classifier_en\\58weights.h5\n",
      "741/741 [==============================] - 49s 66ms/step - loss: 0.0606 - accuracy: 0.9757 - val_loss: 0.0869 - val_accuracy: 0.9681\n",
      "Epoch 6/100\n",
      "741/741 [==============================] - ETA: 0s - loss: 0.0547 - accuracy: 0.9790\n",
      "Epoch 00006: val_accuracy did not improve from 0.96811\n",
      "741/741 [==============================] - 48s 65ms/step - loss: 0.0547 - accuracy: 0.9790 - val_loss: 0.1027 - val_accuracy: 0.9609\n",
      "0.00019532442\n",
      "./rnn_classifier_en -- Folder already exists \n",
      "\n",
      "32\n",
      "./rnn_classifier_en -- Folder already exists \n",
      "\n",
      "Epoch 1/100\n",
      "754/754 [==============================] - ETA: 0s - loss: 0.3866 - accuracy: 0.8114\n",
      "Epoch 00001: val_accuracy improved from -inf to 0.93580, saving model to ./rnn_classifier_en\\60weights.h5\n",
      "754/754 [==============================] - 49s 65ms/step - loss: 0.3866 - accuracy: 0.8114 - val_loss: 0.1671 - val_accuracy: 0.9358\n",
      "Epoch 2/100\n",
      "753/754 [============================>.] - ETA: 0s - loss: 0.1240 - accuracy: 0.9509\n",
      "Epoch 00002: val_accuracy improved from 0.93580 to 0.95371, saving model to ./rnn_classifier_en\\60weights.h5\n",
      "754/754 [==============================] - 48s 64ms/step - loss: 0.1239 - accuracy: 0.9509 - val_loss: 0.1092 - val_accuracy: 0.9537\n",
      "Epoch 3/100\n",
      "753/754 [============================>.] - ETA: 0s - loss: 0.0829 - accuracy: 0.9677\n",
      "Epoch 00003: val_accuracy improved from 0.95371 to 0.96641, saving model to ./rnn_classifier_en\\60weights.h5\n",
      "754/754 [==============================] - 49s 64ms/step - loss: 0.0829 - accuracy: 0.9677 - val_loss: 0.0926 - val_accuracy: 0.9664\n",
      "Epoch 4/100\n",
      "753/754 [============================>.] - ETA: 0s - loss: 0.0683 - accuracy: 0.9732\n",
      "Epoch 00004: val_accuracy did not improve from 0.96641\n",
      "754/754 [==============================] - 48s 64ms/step - loss: 0.0683 - accuracy: 0.9732 - val_loss: 0.0895 - val_accuracy: 0.9664\n",
      "0.009711683\n",
      "./rnn_classifier_en -- Folder already exists \n",
      "\n",
      "32\n",
      "./rnn_classifier_en -- Folder already exists \n",
      "\n",
      "Epoch 1/100\n",
      "754/755 [============================>.] - ETA: 0s - loss: 0.3678 - accuracy: 0.8206 ETA: 0s - loss: 0.3700 - ac\n",
      "Epoch 00001: val_accuracy improved from -inf to 0.93552, saving model to ./rnn_classifier_en\\62weights.h5\n",
      "755/755 [==============================] - 48s 64ms/step - loss: 0.3677 - accuracy: 0.8207 - val_loss: 0.1638 - val_accuracy: 0.9355\n",
      "Epoch 2/100\n",
      "754/755 [============================>.] - ETA: 0s - loss: 0.1201 - accuracy: 0.9544\n",
      "Epoch 00002: val_accuracy improved from 0.93552 to 0.95378, saving model to ./rnn_classifier_en\\62weights.h5\n",
      "755/755 [==============================] - 48s 63ms/step - loss: 0.1201 - accuracy: 0.9544 - val_loss: 0.1134 - val_accuracy: 0.9538\n",
      "Epoch 3/100\n",
      "754/755 [============================>.] - ETA: 0s - loss: 0.0800 - accuracy: 0.9698\n",
      "Epoch 00003: val_accuracy improved from 0.95378 to 0.95453, saving model to ./rnn_classifier_en\\62weights.h5\n",
      "755/755 [==============================] - 48s 63ms/step - loss: 0.0800 - accuracy: 0.9698 - val_loss: 0.1050 - val_accuracy: 0.9545\n",
      "Epoch 4/100\n",
      "754/755 [============================>.] - ETA: 0s - loss: 0.0688 - accuracy: 0.9740\n",
      "Epoch 00004: val_accuracy improved from 0.95453 to 0.96608, saving model to ./rnn_classifier_en\\62weights.h5\n",
      "755/755 [==============================] - 48s 64ms/step - loss: 0.0688 - accuracy: 0.9740 - val_loss: 0.0847 - val_accuracy: 0.9661\n",
      "Epoch 5/100\n",
      "754/755 [============================>.] - ETA: 0s - loss: 0.0575 - accuracy: 0.9783\n",
      "Epoch 00005: val_accuracy improved from 0.96608 to 0.96869, saving model to ./rnn_classifier_en\\62weights.h5\n",
      "755/755 [==============================] - 48s 64ms/step - loss: 0.0574 - accuracy: 0.9783 - val_loss: 0.0848 - val_accuracy: 0.9687\n"
     ]
    },
    {
     "name": "stdout",
     "output_type": "stream",
     "text": [
      "Epoch 6/100\n",
      "754/755 [============================>.] - ETA: 0s - loss: 0.0530 - accuracy: 0.9795\n",
      "Epoch 00006: val_accuracy did not improve from 0.96869\n",
      "755/755 [==============================] - 48s 64ms/step - loss: 0.0531 - accuracy: 0.9795 - val_loss: 0.0936 - val_accuracy: 0.9653\n",
      "0.0028942823\n",
      "./rnn_classifier_en -- Folder already exists \n",
      "\n",
      "32\n",
      "./rnn_classifier_en -- Folder already exists \n",
      "\n",
      "Epoch 1/100\n",
      "757/757 [==============================] - ETA: 0s - loss: 0.3768 - accuracy: 0.8158\n",
      "Epoch 00001: val_accuracy improved from -inf to 0.92788, saving model to ./rnn_classifier_en\\64weights.h5\n",
      "757/757 [==============================] - 49s 64ms/step - loss: 0.3768 - accuracy: 0.8158 - val_loss: 0.1822 - val_accuracy: 0.9279\n",
      "Epoch 2/100\n",
      "757/757 [==============================] - ETA: 0s - loss: 0.1285 - accuracy: 0.9496\n",
      "Epoch 00002: val_accuracy improved from 0.92788 to 0.95204, saving model to ./rnn_classifier_en\\64weights.h5\n",
      "757/757 [==============================] - 49s 65ms/step - loss: 0.1285 - accuracy: 0.9496 - val_loss: 0.1220 - val_accuracy: 0.9520\n",
      "Epoch 3/100\n",
      "757/757 [==============================] - ETA: 0s - loss: 0.0855 - accuracy: 0.9665\n",
      "Epoch 00003: val_accuracy improved from 0.95204 to 0.96654, saving model to ./rnn_classifier_en\\64weights.h5\n",
      "757/757 [==============================] - 49s 65ms/step - loss: 0.0855 - accuracy: 0.9665 - val_loss: 0.0879 - val_accuracy: 0.9665\n",
      "Epoch 4/100\n",
      "757/757 [==============================] - ETA: 0s - loss: 0.0684 - accuracy: 0.9740\n",
      "Epoch 00004: val_accuracy did not improve from 0.96654\n",
      "757/757 [==============================] - 48s 63ms/step - loss: 0.0684 - accuracy: 0.9740 - val_loss: 0.0872 - val_accuracy: 0.9658\n",
      "0.017609596\n",
      "./rnn_classifier_en -- Folder already exists \n",
      "\n",
      "32\n",
      "./rnn_classifier_en -- Folder already exists \n",
      "\n",
      "Epoch 1/100\n",
      "757/757 [==============================] - ETA: 0s - loss: 0.3876 - accuracy: 0.8111\n",
      "Epoch 00001: val_accuracy improved from -inf to 0.94314, saving model to ./rnn_classifier_en\\66weights.h5\n",
      "757/757 [==============================] - 49s 64ms/step - loss: 0.3876 - accuracy: 0.8111 - val_loss: 0.1551 - val_accuracy: 0.9431\n",
      "Epoch 2/100\n",
      "757/757 [==============================] - ETA: 0s - loss: 0.1288 - accuracy: 0.9507\n",
      "Epoch 00002: val_accuracy improved from 0.94314 to 0.96618, saving model to ./rnn_classifier_en\\66weights.h5\n",
      "757/757 [==============================] - 48s 64ms/step - loss: 0.1288 - accuracy: 0.9507 - val_loss: 0.0975 - val_accuracy: 0.9662\n",
      "Epoch 3/100\n",
      "757/757 [==============================] - ETA: 0s - loss: 0.0839 - accuracy: 0.96 - ETA: 0s - loss: 0.0839 - accuracy: 0.9678\n",
      "Epoch 00003: val_accuracy improved from 0.96618 to 0.96990, saving model to ./rnn_classifier_en\\66weights.h5\n",
      "757/757 [==============================] - 48s 64ms/step - loss: 0.0839 - accuracy: 0.9678 - val_loss: 0.0930 - val_accuracy: 0.9699\n",
      "Epoch 4/100\n",
      "757/757 [==============================] - ETA: 0s - loss: 0.0671 - accuracy: 0.9743\n",
      "Epoch 00004: val_accuracy improved from 0.96990 to 0.97436, saving model to ./rnn_classifier_en\\66weights.h5\n",
      "757/757 [==============================] - 48s 64ms/step - loss: 0.0671 - accuracy: 0.9743 - val_loss: 0.0824 - val_accuracy: 0.9744\n",
      "Epoch 5/100\n",
      "757/757 [==============================] - ETA: 0s - loss: 0.0590 - accuracy: 0.9770\n",
      "Epoch 00005: val_accuracy did not improve from 0.97436\n",
      "757/757 [==============================] - 48s 64ms/step - loss: 0.0590 - accuracy: 0.9770 - val_loss: 0.0848 - val_accuracy: 0.9725\n",
      "0.013355583\n",
      "./rnn_classifier_en -- Folder already exists \n",
      "\n",
      "32\n",
      "./rnn_classifier_en -- Folder already exists \n",
      "\n",
      "Epoch 1/100\n",
      "758/759 [============================>.] - ETA: 0s - loss: 0.3615 - accuracy: 0.8246\n",
      "Epoch 00001: val_accuracy improved from -inf to 0.94028, saving model to ./rnn_classifier_en\\68weights.h5\n",
      "759/759 [==============================] - 49s 64ms/step - loss: 0.3615 - accuracy: 0.8246 - val_loss: 0.1771 - val_accuracy: 0.9403\n",
      "Epoch 2/100\n",
      "758/759 [============================>.] - ETA: 0s - loss: 0.1228 - accuracy: 0.9517\n",
      "Epoch 00002: val_accuracy improved from 0.94028 to 0.96699, saving model to ./rnn_classifier_en\\68weights.h5\n",
      "759/759 [==============================] - 48s 64ms/step - loss: 0.1228 - accuracy: 0.9517 - val_loss: 0.0937 - val_accuracy: 0.9670\n",
      "Epoch 3/100\n",
      "758/759 [============================>.] - ETA: 0s - loss: 0.0837 - accuracy: 0.9676\n",
      "Epoch 00003: val_accuracy did not improve from 0.96699\n",
      "759/759 [==============================] - 48s 63ms/step - loss: 0.0837 - accuracy: 0.9676 - val_loss: 0.0980 - val_accuracy: 0.9614\n",
      "0.0076164603\n",
      "./rnn_classifier_en -- Folder already exists \n",
      "\n",
      "32\n",
      "./rnn_classifier_en -- Folder already exists \n",
      "\n",
      "Epoch 1/100\n",
      "759/759 [==============================] - ETA: 0s - loss: 0.3888 - accuracy: 0.8059\n",
      "Epoch 00001: val_accuracy improved from -inf to 0.93291, saving model to ./rnn_classifier_en\\70weights.h5\n",
      "759/759 [==============================] - 49s 64ms/step - loss: 0.3888 - accuracy: 0.8059 - val_loss: 0.1814 - val_accuracy: 0.9329\n",
      "Epoch 2/100\n",
      "759/759 [==============================] - ETA: 0s - loss: 0.1258 - accuracy: 0.9510\n",
      "Epoch 00002: val_accuracy improved from 0.93291 to 0.95145, saving model to ./rnn_classifier_en\\70weights.h5\n",
      "759/759 [==============================] - 49s 64ms/step - loss: 0.1258 - accuracy: 0.9510 - val_loss: 0.1218 - val_accuracy: 0.9514\n",
      "Epoch 3/100\n",
      "759/759 [==============================] - ETA: 0s - loss: 0.0860 - accuracy: 0.9679\n",
      "Epoch 00003: val_accuracy did not improve from 0.95145\n",
      "759/759 [==============================] - 48s 63ms/step - loss: 0.0860 - accuracy: 0.9679 - val_loss: 0.1262 - val_accuracy: 0.9507\n",
      "0.0021968484\n",
      "./rnn_classifier_en -- Folder already exists \n",
      "\n",
      "32\n",
      "./rnn_classifier_en -- Folder already exists \n",
      "\n",
      "Epoch 1/100\n",
      "761/761 [==============================] - ETA: 0s - loss: 0.3604 - accuracy: 0.8262\n",
      "Epoch 00001: val_accuracy improved from -inf to 0.93417, saving model to ./rnn_classifier_en\\72weights.h5\n",
      "761/761 [==============================] - 48s 63ms/step - loss: 0.3604 - accuracy: 0.8262 - val_loss: 0.1741 - val_accuracy: 0.9342\n",
      "Epoch 2/100\n",
      "761/761 [==============================] - ETA: 0s - loss: 0.1271 - accuracy: 0.9502\n",
      "Epoch 00002: val_accuracy improved from 0.93417 to 0.95784, saving model to ./rnn_classifier_en\\72weights.h5\n",
      "761/761 [==============================] - 48s 62ms/step - loss: 0.1271 - accuracy: 0.9502 - val_loss: 0.1114 - val_accuracy: 0.9578\n",
      "Epoch 3/100\n",
      "761/761 [==============================] - ETA: 0s - loss: 0.0853 - accuracy: 0.9677\n",
      "Epoch 00003: val_accuracy improved from 0.95784 to 0.96154, saving model to ./rnn_classifier_en\\72weights.h5\n",
      "761/761 [==============================] - 48s 63ms/step - loss: 0.0853 - accuracy: 0.9677 - val_loss: 0.0984 - val_accuracy: 0.9615\n",
      "Epoch 4/100\n",
      "761/761 [==============================] - ETA: 0s - loss: 0.0684 - accuracy: 0.9735\n",
      "Epoch 00004: val_accuracy improved from 0.96154 to 0.96376, saving model to ./rnn_classifier_en\\72weights.h5\n",
      "761/761 [==============================] - 48s 63ms/step - loss: 0.0684 - accuracy: 0.9735 - val_loss: 0.0916 - val_accuracy: 0.9638\n",
      "Epoch 5/100\n",
      "761/761 [==============================] - ETA: 0s - loss: 0.0641 - accuracy: 0.9758\n",
      "Epoch 00005: val_accuracy improved from 0.96376 to 0.96450, saving model to ./rnn_classifier_en\\72weights.h5\n",
      "761/761 [==============================] - 48s 63ms/step - loss: 0.0641 - accuracy: 0.9758 - val_loss: 0.0922 - val_accuracy: 0.9645\n",
      "Epoch 6/100\n",
      "761/761 [==============================] - ETA: 0s - loss: 0.0535 - accuracy: 0.9793\n",
      "Epoch 00006: val_accuracy improved from 0.96450 to 0.96524, saving model to ./rnn_classifier_en\\72weights.h5\n",
      "761/761 [==============================] - 48s 63ms/step - loss: 0.0535 - accuracy: 0.9793 - val_loss: 0.0967 - val_accuracy: 0.9652\n",
      "Epoch 7/100\n",
      "761/761 [==============================] - ETA: 0s - loss: 0.0535 - accuracy: 0.9792 ETA: 4s - loss: 0\n",
      "Epoch 00007: val_accuracy did not improve from 0.96524\n",
      "761/761 [==============================] - 48s 63ms/step - loss: 0.0535 - accuracy: 0.9792 - val_loss: 0.1184 - val_accuracy: 0.9612\n",
      "0.0033139884\n",
      "./rnn_classifier_en -- Folder already exists \n",
      "\n",
      "32\n",
      "./rnn_classifier_en -- Folder already exists \n",
      "\n",
      "Epoch 1/100\n",
      "763/763 [==============================] - ETA: 0s - loss: 0.3971 - accuracy: 0.8054\n",
      "Epoch 00001: val_accuracy improved from -inf to 0.92957, saving model to ./rnn_classifier_en\\74weights.h5\n",
      "763/763 [==============================] - 50s 65ms/step - loss: 0.3971 - accuracy: 0.8054 - val_loss: 0.1801 - val_accuracy: 0.9296\n",
      "Epoch 2/100\n",
      "763/763 [==============================] - ETA: 0s - loss: 0.1309 - accuracy: 0.9496\n",
      "Epoch 00002: val_accuracy improved from 0.92957 to 0.95981, saving model to ./rnn_classifier_en\\74weights.h5\n",
      "763/763 [==============================] - 49s 64ms/step - loss: 0.1309 - accuracy: 0.9496 - val_loss: 0.1037 - val_accuracy: 0.9598\n",
      "Epoch 3/100\n",
      "763/763 [==============================] - ETA: 0s - loss: 0.0856 - accuracy: 0.9682\n",
      "Epoch 00003: val_accuracy improved from 0.95981 to 0.96976, saving model to ./rnn_classifier_en\\74weights.h5\n",
      "763/763 [==============================] - 48s 63ms/step - loss: 0.0856 - accuracy: 0.9682 - val_loss: 0.0879 - val_accuracy: 0.9698\n",
      "Epoch 4/100\n",
      "763/763 [==============================] - ETA: 0s - loss: 0.0698 - accuracy: 0.9730\n",
      "Epoch 00004: val_accuracy did not improve from 0.96976\n",
      "763/763 [==============================] - 49s 64ms/step - loss: 0.0698 - accuracy: 0.9730 - val_loss: 0.0779 - val_accuracy: 0.9698\n",
      "0.014426619\n",
      "./rnn_classifier_en -- Folder already exists \n",
      "\n",
      "32\n",
      "./rnn_classifier_en -- Folder already exists \n",
      "\n",
      "Epoch 1/100\n",
      "765/765 [==============================] - ETA: 0s - loss: 0.3910 - accuracy: 0.8076\n",
      "Epoch 00001: val_accuracy improved from -inf to 0.92059, saving model to ./rnn_classifier_en\\76weights.h5\n",
      "765/765 [==============================] - 48s 63ms/step - loss: 0.3910 - accuracy: 0.8076 - val_loss: 0.1925 - val_accuracy: 0.9206\n",
      "Epoch 2/100\n",
      "765/765 [==============================] - ETA: 0s - loss: 0.1289 - accuracy: 0.9502\n",
      "Epoch 00002: val_accuracy improved from 0.92059 to 0.96029, saving model to ./rnn_classifier_en\\76weights.h5\n",
      "765/765 [==============================] - 48s 62ms/step - loss: 0.1289 - accuracy: 0.9502 - val_loss: 0.1044 - val_accuracy: 0.9603\n",
      "Epoch 3/100\n",
      "765/765 [==============================] - ETA: 0s - loss: 0.0859 - accuracy: 0.9658\n",
      "Epoch 00003: val_accuracy did not improve from 0.96029\n",
      "765/765 [==============================] - 48s 63ms/step - loss: 0.0859 - accuracy: 0.9658 - val_loss: 0.0940 - val_accuracy: 0.9603\n",
      "0.007827848\n",
      "./rnn_classifier_en -- Folder already exists \n",
      "\n",
      "32\n",
      "./rnn_classifier_en -- Folder already exists \n",
      "\n",
      "Epoch 1/100\n",
      "765/766 [============================>.] - ETA: 0s - loss: 0.3890 - accuracy: 0.8081\n",
      "Epoch 00001: val_accuracy improved from -inf to 0.93017, saving model to ./rnn_classifier_en\\78weights.h5\n",
      "766/766 [==============================] - 48s 63ms/step - loss: 0.3890 - accuracy: 0.8081 - val_loss: 0.1654 - val_accuracy: 0.9302\n",
      "Epoch 2/100\n",
      "765/766 [============================>.] - ETA: 0s - loss: 0.1286 - accuracy: 0.9491\n",
      "Epoch 00002: val_accuracy improved from 0.93017 to 0.96398, saving model to ./rnn_classifier_en\\78weights.h5\n",
      "766/766 [==============================] - 48s 62ms/step - loss: 0.1286 - accuracy: 0.9491 - val_loss: 0.1008 - val_accuracy: 0.9640\n",
      "Epoch 3/100\n",
      "765/766 [============================>.] - ETA: 0s - loss: 0.0854 - accuracy: 0.9679\n",
      "Epoch 00003: val_accuracy improved from 0.96398 to 0.96803, saving model to ./rnn_classifier_en\\78weights.h5\n",
      "766/766 [==============================] - 48s 62ms/step - loss: 0.0854 - accuracy: 0.9679 - val_loss: 0.0911 - val_accuracy: 0.9680\n",
      "Epoch 4/100\n",
      "765/766 [============================>.] - ETA: 0s - loss: 0.0722 - accuracy: 0.9725\n",
      "Epoch 00004: val_accuracy did not improve from 0.96803\n",
      "766/766 [==============================] - 48s 63ms/step - loss: 0.0722 - accuracy: 0.9726 - val_loss: 0.0951 - val_accuracy: 0.9647\n",
      "0.0133855045\n",
      "./rnn_classifier_en -- Folder already exists \n",
      "\n",
      "32\n",
      "./rnn_classifier_en -- Folder already exists \n",
      "\n",
      "Epoch 1/100\n",
      "766/767 [============================>.] - ETA: 0s - loss: 0.3678 - accuracy: 0.8223\n",
      "Epoch 00001: val_accuracy improved from -inf to 0.93209, saving model to ./rnn_classifier_en\\80weights.h5\n",
      "767/767 [==============================] - 49s 64ms/step - loss: 0.3678 - accuracy: 0.8224 - val_loss: 0.1630 - val_accuracy: 0.9321\n",
      "Epoch 2/100\n",
      "766/767 [============================>.] - ETA: 0s - loss: 0.1265 - accuracy: 0.9509\n",
      "Epoch 00002: val_accuracy improved from 0.93209 to 0.96109, saving model to ./rnn_classifier_en\\80weights.h5\n",
      "767/767 [==============================] - 48s 63ms/step - loss: 0.1266 - accuracy: 0.9508 - val_loss: 0.1054 - val_accuracy: 0.9611\n",
      "Epoch 3/100\n",
      "766/767 [============================>.] - ETA: 0s - loss: 0.0860 - accuracy: 0.9679\n",
      "Epoch 00003: val_accuracy improved from 0.96109 to 0.96219, saving model to ./rnn_classifier_en\\80weights.h5\n",
      "767/767 [==============================] - 48s 63ms/step - loss: 0.0859 - accuracy: 0.9679 - val_loss: 0.0991 - val_accuracy: 0.9622\n",
      "Epoch 4/100\n",
      "766/767 [============================>.] - ETA: 0s - loss: 0.0716 - accuracy: 0.9723\n",
      "Epoch 00004: val_accuracy improved from 0.96219 to 0.96366, saving model to ./rnn_classifier_en\\80weights.h5\n",
      "767/767 [==============================] - 48s 63ms/step - loss: 0.0716 - accuracy: 0.9723 - val_loss: 0.0996 - val_accuracy: 0.9637\n",
      "Epoch 5/100\n",
      "766/767 [============================>.] - ETA: 0s - loss: 0.0615 - accuracy: 0.9760\n",
      "Epoch 00005: val_accuracy did not improve from 0.96366\n",
      "767/767 [==============================] - 48s 63ms/step - loss: 0.0615 - accuracy: 0.9760 - val_loss: 0.1006 - val_accuracy: 0.9637\n",
      "0.0012016892\n",
      "./rnn_classifier_en -- Folder already exists \n",
      "\n",
      "32\n",
      "./rnn_classifier_en -- Folder already exists \n",
      "\n",
      "Epoch 1/100\n",
      "767/768 [============================>.] - ETA: 0s - loss: 0.4008 - accuracy: 0.8047\n",
      "Epoch 00001: val_accuracy improved from -inf to 0.93482, saving model to ./rnn_classifier_en\\82weights.h5\n",
      "768/768 [==============================] - 49s 64ms/step - loss: 0.4006 - accuracy: 0.8048 - val_loss: 0.1669 - val_accuracy: 0.9348\n",
      "Epoch 2/100\n",
      "768/768 [==============================] - ETA: 0s - loss: 0.1282 - accuracy: 0.9505\n",
      "Epoch 00002: val_accuracy improved from 0.93482 to 0.95386, saving model to ./rnn_classifier_en\\82weights.h5\n",
      "768/768 [==============================] - 49s 63ms/step - loss: 0.1282 - accuracy: 0.9505 - val_loss: 0.1043 - val_accuracy: 0.9539\n",
      "Epoch 3/100\n",
      "768/768 [==============================] - ETA: 0s - loss: 0.0835 - accuracy: 0.9680\n",
      "Epoch 00003: val_accuracy improved from 0.95386 to 0.96668, saving model to ./rnn_classifier_en\\82weights.h5\n",
      "768/768 [==============================] - 48s 63ms/step - loss: 0.0835 - accuracy: 0.9680 - val_loss: 0.0863 - val_accuracy: 0.9667\n",
      "Epoch 4/100\n",
      "768/768 [==============================] - ETA: 0s - loss: 0.0696 - accuracy: 0.9729\n",
      "Epoch 00004: val_accuracy did not improve from 0.96668\n",
      "768/768 [==============================] - 48s 63ms/step - loss: 0.0696 - accuracy: 0.9729 - val_loss: 0.1019 - val_accuracy: 0.9579\n",
      "0.0039342344\n",
      "./rnn_classifier_en -- Folder already exists \n",
      "\n",
      "32\n",
      "./rnn_classifier_en -- Folder already exists \n",
      "\n",
      "Epoch 1/100\n",
      "769/769 [==============================] - ETA: 0s - loss: 0.3780 - accuracy: 0.8163\n",
      "Epoch 00001: val_accuracy improved from -inf to 0.93668, saving model to ./rnn_classifier_en\\84weights.h5\n",
      "769/769 [==============================] - 49s 63ms/step - loss: 0.3780 - accuracy: 0.8163 - val_loss: 0.1630 - val_accuracy: 0.9367\n",
      "Epoch 2/100\n",
      "768/769 [============================>.] - ETA: 0s - loss: 0.1259 - accuracy: 0.9509\n",
      "Epoch 00002: val_accuracy improved from 0.93668 to 0.95791, saving model to ./rnn_classifier_en\\84weights.h5\n",
      "769/769 [==============================] - 48s 63ms/step - loss: 0.1258 - accuracy: 0.9510 - val_loss: 0.1060 - val_accuracy: 0.9579\n",
      "Epoch 3/100\n",
      "769/769 [==============================] - ETA: 0s - loss: 0.0827 - accuracy: 0.9675\n",
      "Epoch 00003: val_accuracy improved from 0.95791 to 0.96486, saving model to ./rnn_classifier_en\\84weights.h5\n",
      "769/769 [==============================] - 48s 62ms/step - loss: 0.0827 - accuracy: 0.9675 - val_loss: 0.0921 - val_accuracy: 0.9649\n",
      "Epoch 4/100\n",
      "768/769 [============================>.] - ETA: 0s - loss: 0.0704 - accuracy: 0.9725\n",
      "Epoch 00004: val_accuracy improved from 0.96486 to 0.96742, saving model to ./rnn_classifier_en\\84weights.h5\n",
      "769/769 [==============================] - 48s 63ms/step - loss: 0.0704 - accuracy: 0.9725 - val_loss: 0.0872 - val_accuracy: 0.9674\n"
     ]
    },
    {
     "name": "stdout",
     "output_type": "stream",
     "text": [
      "Epoch 5/100\n",
      "768/769 [============================>.] - ETA: 0s - loss: 0.0616 - accuracy: 0.9763\n",
      "Epoch 00005: val_accuracy did not improve from 0.96742\n",
      "769/769 [==============================] - 49s 64ms/step - loss: 0.0616 - accuracy: 0.9763 - val_loss: 0.0892 - val_accuracy: 0.9652\n",
      "0.0011021197\n",
      "./rnn_classifier_en -- Folder already exists \n",
      "\n",
      "32\n",
      "./rnn_classifier_en -- Folder already exists \n",
      "\n",
      "Epoch 1/100\n",
      "770/770 [==============================] - ETA: 0s - loss: 0.3890 - accuracy: 0.8078\n",
      "Epoch 00001: val_accuracy improved from -inf to 0.93713, saving model to ./rnn_classifier_en\\86weights.h5\n",
      "770/770 [==============================] - 49s 64ms/step - loss: 0.3890 - accuracy: 0.8078 - val_loss: 0.1641 - val_accuracy: 0.9371\n",
      "Epoch 2/100\n",
      "770/770 [==============================] - ETA: 0s - loss: 0.1291 - accuracy: 0.9504\n",
      "Epoch 00002: val_accuracy improved from 0.93713 to 0.96016, saving model to ./rnn_classifier_en\\86weights.h5\n",
      "770/770 [==============================] - 48s 63ms/step - loss: 0.1291 - accuracy: 0.9504 - val_loss: 0.1022 - val_accuracy: 0.9602\n",
      "Epoch 3/100\n",
      "770/770 [==============================] - ETA: 0s - loss: 0.0861 - accuracy: 0.9673\n",
      "Epoch 00003: val_accuracy improved from 0.96016 to 0.96345, saving model to ./rnn_classifier_en\\86weights.h5\n",
      "770/770 [==============================] - 49s 63ms/step - loss: 0.0861 - accuracy: 0.9673 - val_loss: 0.0947 - val_accuracy: 0.9635\n",
      "Epoch 4/100\n",
      "770/770 [==============================] - ETA: 0s - loss: 0.0696 - accuracy: 0.9740\n",
      "Epoch 00004: val_accuracy did not improve from 0.96345\n",
      "770/770 [==============================] - 49s 63ms/step - loss: 0.0696 - accuracy: 0.9740 - val_loss: 0.1066 - val_accuracy: 0.9620\n",
      "0.010915726\n",
      "./rnn_classifier_en -- Folder already exists \n",
      "\n",
      "32\n",
      "./rnn_classifier_en -- Folder already exists \n",
      "\n",
      "Epoch 1/100\n",
      "771/771 [==============================] - ETA: 0s - loss: 0.3843 - accuracy: 0.8103\n",
      "Epoch 00001: val_accuracy improved from -inf to 0.92589, saving model to ./rnn_classifier_en\\88weights.h5\n",
      "771/771 [==============================] - 49s 64ms/step - loss: 0.3843 - accuracy: 0.8103 - val_loss: 0.1775 - val_accuracy: 0.9259\n",
      "Epoch 2/100\n",
      "770/771 [============================>.] - ETA: 0s - loss: 0.1269 - accuracy: 0.9492 ETA: 1s - loss: 0.1271 - ac - ETA: 0s - loss: 0.126\n",
      "Epoch 00002: val_accuracy improved from 0.92589 to 0.95108, saving model to ./rnn_classifier_en\\88weights.h5\n",
      "771/771 [==============================] - 48s 63ms/step - loss: 0.1270 - accuracy: 0.9492 - val_loss: 0.1296 - val_accuracy: 0.9511\n",
      "Epoch 3/100\n",
      "770/771 [============================>.] - ETA: 0s - loss: 0.0841 - accuracy: 0.9673\n",
      "Epoch 00003: val_accuracy improved from 0.95108 to 0.95947, saving model to ./rnn_classifier_en\\88weights.h5\n",
      "771/771 [==============================] - 49s 63ms/step - loss: 0.0841 - accuracy: 0.9673 - val_loss: 0.1096 - val_accuracy: 0.9595\n",
      "Epoch 4/100\n",
      "770/771 [============================>.] - ETA: 0s - loss: 0.0683 - accuracy: 0.9729\n",
      "Epoch 00004: val_accuracy improved from 0.95947 to 0.96166, saving model to ./rnn_classifier_en\\88weights.h5\n",
      "771/771 [==============================] - 48s 63ms/step - loss: 0.0683 - accuracy: 0.9729 - val_loss: 0.1156 - val_accuracy: 0.9617\n",
      "Epoch 5/100\n",
      "770/771 [============================>.] - ETA: 0s - loss: 0.0614 - accuracy: 0.9745\n",
      "Epoch 00005: val_accuracy did not improve from 0.96166\n",
      "771/771 [==============================] - 48s 63ms/step - loss: 0.0614 - accuracy: 0.9745 - val_loss: 0.1196 - val_accuracy: 0.9573\n",
      "0.00033798814\n",
      "./rnn_classifier_en -- Folder already exists \n",
      "\n",
      "32\n",
      "./rnn_classifier_en -- Folder already exists \n",
      "\n",
      "Epoch 1/100\n",
      "773/773 [==============================] - ETA: 0s - loss: 0.3810 - accuracy: 0.8128\n",
      "Epoch 00001: val_accuracy improved from -inf to 0.93741, saving model to ./rnn_classifier_en\\90weights.h5\n",
      "773/773 [==============================] - 50s 65ms/step - loss: 0.3810 - accuracy: 0.8128 - val_loss: 0.1695 - val_accuracy: 0.9374\n",
      "Epoch 2/100\n",
      "773/773 [==============================] - ETA: 0s - loss: 0.1297 - accuracy: 0.9502\n",
      "Epoch 00002: val_accuracy improved from 0.93741 to 0.94141, saving model to ./rnn_classifier_en\\90weights.h5\n",
      "773/773 [==============================] - 49s 63ms/step - loss: 0.1297 - accuracy: 0.9502 - val_loss: 0.1388 - val_accuracy: 0.9414\n",
      "Epoch 3/100\n",
      "773/773 [==============================] - ETA: 0s - loss: 0.0859 - accuracy: 0.9672\n",
      "Epoch 00003: val_accuracy improved from 0.94141 to 0.96616, saving model to ./rnn_classifier_en\\90weights.h5\n",
      "773/773 [==============================] - 49s 63ms/step - loss: 0.0859 - accuracy: 0.9672 - val_loss: 0.0909 - val_accuracy: 0.9662\n",
      "Epoch 4/100\n",
      "773/773 [==============================] - ETA: 0s - loss: 0.0700 - accuracy: 0.9721\n",
      "Epoch 00004: val_accuracy improved from 0.96616 to 0.96652, saving model to ./rnn_classifier_en\\90weights.h5\n",
      "773/773 [==============================] - 49s 63ms/step - loss: 0.0700 - accuracy: 0.9721 - val_loss: 0.0892 - val_accuracy: 0.9665\n",
      "Epoch 5/100\n",
      "773/773 [==============================] - ETA: 0s - loss: 0.0632 - accuracy: 0.9757\n",
      "Epoch 00005: val_accuracy did not improve from 0.96652\n",
      "773/773 [==============================] - 49s 63ms/step - loss: 0.0632 - accuracy: 0.9757 - val_loss: 0.0905 - val_accuracy: 0.9658\n",
      "0.018496543\n",
      "./rnn_classifier_en -- Folder already exists \n",
      "\n",
      "32\n",
      "./rnn_classifier_en -- Folder already exists \n",
      "\n",
      "Epoch 1/100\n",
      "774/774 [==============================] - ETA: 0s - loss: 0.3816 - accuracy: 0.8121 ETA\n",
      "Epoch 00001: val_accuracy improved from -inf to 0.93457, saving model to ./rnn_classifier_en\\92weights.h5\n",
      "774/774 [==============================] - 49s 64ms/step - loss: 0.3816 - accuracy: 0.8121 - val_loss: 0.1651 - val_accuracy: 0.9346\n",
      "Epoch 2/100\n",
      "774/774 [==============================] - ETA: 0s - loss: 0.1269 - accuracy: 0.9500 ETA: 0s - los\n",
      "Epoch 00002: val_accuracy improved from 0.93457 to 0.95856, saving model to ./rnn_classifier_en\\92weights.h5\n",
      "774/774 [==============================] - 49s 64ms/step - loss: 0.1269 - accuracy: 0.9500 - val_loss: 0.1125 - val_accuracy: 0.9586\n",
      "Epoch 3/100\n",
      "774/774 [==============================] - ETA: 0s - loss: 0.0867 - accuracy: 0.9665\n",
      "Epoch 00003: val_accuracy did not improve from 0.95856\n",
      "774/774 [==============================] - 49s 63ms/step - loss: 0.0867 - accuracy: 0.9665 - val_loss: 0.1110 - val_accuracy: 0.9549\n",
      "0.046712935\n",
      "./rnn_classifier_en -- Folder already exists \n",
      "\n",
      "32\n",
      "./rnn_classifier_en -- Folder already exists \n",
      "\n",
      "Epoch 1/100\n",
      "774/774 [==============================] - ETA: 0s - loss: 0.3763 - accuracy: 0.8151\n",
      "Epoch 00001: val_accuracy improved from -inf to 0.92587, saving model to ./rnn_classifier_en\\94weights.h5\n",
      "774/774 [==============================] - 51s 65ms/step - loss: 0.3763 - accuracy: 0.8151 - val_loss: 0.1982 - val_accuracy: 0.9259\n",
      "Epoch 2/100\n",
      "774/774 [==============================] - ETA: 0s - loss: 0.1298 - accuracy: 0.9496 ETA\n",
      "Epoch 00002: val_accuracy improved from 0.92587 to 0.95821, saving model to ./rnn_classifier_en\\94weights.h5\n",
      "774/774 [==============================] - 50s 65ms/step - loss: 0.1298 - accuracy: 0.9496 - val_loss: 0.1056 - val_accuracy: 0.9582\n",
      "Epoch 3/100\n",
      "774/774 [==============================] - ETA: 0s - loss: 0.0879 - accuracy: 0.9660\n",
      "Epoch 00003: val_accuracy improved from 0.95821 to 0.96584, saving model to ./rnn_classifier_en\\94weights.h5\n",
      "774/774 [==============================] - 49s 64ms/step - loss: 0.0879 - accuracy: 0.9660 - val_loss: 0.0878 - val_accuracy: 0.9658\n",
      "Epoch 4/100\n",
      "774/774 [==============================] - ETA: 0s - loss: 0.0713 - accuracy: 0.9721\n",
      "Epoch 00004: val_accuracy did not improve from 0.96584\n",
      "774/774 [==============================] - 50s 64ms/step - loss: 0.0713 - accuracy: 0.9721 - val_loss: 0.1108 - val_accuracy: 0.9593\n",
      "0.008987188\n",
      "./rnn_classifier_en -- Folder already exists \n",
      "\n",
      "32\n",
      "./rnn_classifier_en -- Folder already exists \n",
      "\n",
      "Epoch 1/100\n",
      "775/775 [==============================] - ETA: 0s - loss: 0.3809 - accuracy: 0.8121\n",
      "Epoch 00001: val_accuracy improved from -inf to 0.92953, saving model to ./rnn_classifier_en\\96weights.h5\n",
      "775/775 [==============================] - 50s 65ms/step - loss: 0.3809 - accuracy: 0.8121 - val_loss: 0.1770 - val_accuracy: 0.9295\n",
      "Epoch 2/100\n"
     ]
    },
    {
     "name": "stdout",
     "output_type": "stream",
     "text": [
      "774/775 [============================>.] - ETA: 0s - loss: 0.1303 - accuracy: 0.9506\n",
      "Epoch 00002: val_accuracy improved from 0.92953 to 0.95750, saving model to ./rnn_classifier_en\\96weights.h5\n",
      "775/775 [==============================] - 50s 65ms/step - loss: 0.1303 - accuracy: 0.9506 - val_loss: 0.1193 - val_accuracy: 0.9575\n",
      "Epoch 3/100\n",
      "774/775 [============================>.] - ETA: 0s - loss: 0.0870 - accuracy: 0.9649\n",
      "Epoch 00003: val_accuracy improved from 0.95750 to 0.95786, saving model to ./rnn_classifier_en\\96weights.h5\n",
      "775/775 [==============================] - 51s 66ms/step - loss: 0.0870 - accuracy: 0.9649 - val_loss: 0.1042 - val_accuracy: 0.9579\n",
      "Epoch 4/100\n",
      "774/775 [============================>.] - ETA: 0s - loss: 0.0708 - accuracy: 0.9727\n",
      "Epoch 00004: val_accuracy improved from 0.95786 to 0.95895, saving model to ./rnn_classifier_en\\96weights.h5\n",
      "775/775 [==============================] - 51s 66ms/step - loss: 0.0708 - accuracy: 0.9727 - val_loss: 0.1037 - val_accuracy: 0.9590\n",
      "Epoch 5/100\n",
      "774/775 [============================>.] - ETA: 0s - loss: 0.0630 - accuracy: 0.9755\n",
      "Epoch 00005: val_accuracy improved from 0.95895 to 0.96949, saving model to ./rnn_classifier_en\\96weights.h5\n",
      "775/775 [==============================] - 51s 66ms/step - loss: 0.0630 - accuracy: 0.9755 - val_loss: 0.0809 - val_accuracy: 0.9695\n",
      "Epoch 6/100\n",
      "774/775 [============================>.] - ETA: 0s - loss: 0.0582 - accuracy: 0.9771\n",
      "Epoch 00006: val_accuracy did not improve from 0.96949\n",
      "775/775 [==============================] - 50s 65ms/step - loss: 0.0582 - accuracy: 0.9771 - val_loss: 0.0978 - val_accuracy: 0.9662\n",
      "0.0051421523\n",
      "./rnn_classifier_en -- Folder already exists \n",
      "\n",
      "32\n",
      "./rnn_classifier_en -- Folder already exists \n",
      "\n",
      "Epoch 1/100\n",
      "775/775 [==============================] - ETA: 0s - loss: 0.3863 - accuracy: 0.8085\n",
      "Epoch 00001: val_accuracy improved from -inf to 0.93137, saving model to ./rnn_classifier_en\\98weights.h5\n",
      "775/775 [==============================] - 49s 63ms/step - loss: 0.3863 - accuracy: 0.8085 - val_loss: 0.1748 - val_accuracy: 0.9314\n",
      "Epoch 2/100\n",
      "775/775 [==============================] - ETA: 0s - loss: 0.1333 - accuracy: 0.9488\n",
      "Epoch 00002: val_accuracy improved from 0.93137 to 0.95316, saving model to ./rnn_classifier_en\\98weights.h5\n",
      "775/775 [==============================] - 50s 65ms/step - loss: 0.1333 - accuracy: 0.9488 - val_loss: 0.1270 - val_accuracy: 0.9532\n",
      "Epoch 3/100\n",
      "775/775 [==============================] - ETA: 0s - loss: 0.0891 - accuracy: 0.9648\n",
      "Epoch 00003: val_accuracy improved from 0.95316 to 0.95389, saving model to ./rnn_classifier_en\\98weights.h5\n",
      "775/775 [==============================] - 51s 65ms/step - loss: 0.0891 - accuracy: 0.9648 - val_loss: 0.1149 - val_accuracy: 0.9539\n",
      "Epoch 4/100\n",
      "775/775 [==============================] - ETA: 0s - loss: 0.0701 - accuracy: 0.9720\n",
      "Epoch 00004: val_accuracy improved from 0.95389 to 0.96914, saving model to ./rnn_classifier_en\\98weights.h5\n",
      "775/775 [==============================] - 50s 65ms/step - loss: 0.0701 - accuracy: 0.9720 - val_loss: 0.0845 - val_accuracy: 0.9691\n",
      "Epoch 5/100\n",
      "774/775 [============================>.] - ETA: 0s - loss: 0.0629 - accuracy: 0.9754\n",
      "Epoch 00005: val_accuracy improved from 0.96914 to 0.97023, saving model to ./rnn_classifier_en\\98weights.h5\n",
      "775/775 [==============================] - 50s 64ms/step - loss: 0.0629 - accuracy: 0.9754 - val_loss: 0.0832 - val_accuracy: 0.9702\n",
      "Epoch 6/100\n",
      "775/775 [==============================] - ETA: 0s - loss: 0.0567 - accuracy: 0.9781\n",
      "Epoch 00006: val_accuracy improved from 0.97023 to 0.97204, saving model to ./rnn_classifier_en\\98weights.h5\n",
      "775/775 [==============================] - 50s 65ms/step - loss: 0.0567 - accuracy: 0.9781 - val_loss: 0.0803 - val_accuracy: 0.9720\n",
      "Epoch 7/100\n",
      "775/775 [==============================] - ETA: 0s - loss: 0.0524 - accuracy: 0.9793\n",
      "Epoch 00007: val_accuracy did not improve from 0.97204\n",
      "775/775 [==============================] - 49s 64ms/step - loss: 0.0524 - accuracy: 0.9793 - val_loss: 0.0876 - val_accuracy: 0.9710\n",
      "0.008419573\n",
      "./rnn_classifier_en -- Folder already exists \n",
      "\n",
      "32\n",
      "./rnn_classifier_en -- Folder already exists \n",
      "\n",
      "Epoch 1/100\n",
      "775/775 [==============================] - ETA: 0s - loss: 0.3792 - accuracy: 0.8156\n",
      "Epoch 00001: val_accuracy improved from -inf to 0.93612, saving model to ./rnn_classifier_en\\100weights.h5\n",
      "775/775 [==============================] - 50s 64ms/step - loss: 0.3792 - accuracy: 0.8156 - val_loss: 0.1721 - val_accuracy: 0.9361\n",
      "Epoch 2/100\n",
      "775/775 [==============================] - ETA: 0s - loss: 0.1301 - accuracy: 0.9500\n",
      "Epoch 00002: val_accuracy improved from 0.93612 to 0.95753, saving model to ./rnn_classifier_en\\100weights.h5\n",
      "775/775 [==============================] - 49s 64ms/step - loss: 0.1301 - accuracy: 0.9500 - val_loss: 0.1081 - val_accuracy: 0.9575\n",
      "Epoch 3/100\n",
      "775/775 [==============================] - ETA: 0s - loss: 0.0858 - accuracy: 0.9678\n",
      "Epoch 00003: val_accuracy improved from 0.95753 to 0.96697, saving model to ./rnn_classifier_en\\100weights.h5\n",
      "775/775 [==============================] - 50s 65ms/step - loss: 0.0858 - accuracy: 0.9678 - val_loss: 0.0951 - val_accuracy: 0.9670\n",
      "Epoch 4/100\n",
      "775/775 [==============================] - ETA: 0s - loss: 0.0719 - accuracy: 0.9723\n",
      "Epoch 00004: val_accuracy did not improve from 0.96697\n",
      "775/775 [==============================] - 50s 65ms/step - loss: 0.0719 - accuracy: 0.9723 - val_loss: 0.0912 - val_accuracy: 0.9630\n",
      "0.016295642\n",
      "./rnn_classifier_en -- Folder already exists \n",
      "\n",
      "32\n",
      "./rnn_classifier_en -- Folder already exists \n",
      "\n",
      "Epoch 1/100\n",
      "776/776 [==============================] - ETA: 0s - loss: 0.3813 - accuracy: 0.8139\n",
      "Epoch 00001: val_accuracy improved from -inf to 0.92168, saving model to ./rnn_classifier_en\\102weights.h5\n",
      "776/776 [==============================] - 51s 65ms/step - loss: 0.3813 - accuracy: 0.8139 - val_loss: 0.1821 - val_accuracy: 0.9217\n",
      "Epoch 2/100\n",
      "776/776 [==============================] - ETA: 0s - loss: 0.1334 - accuracy: 0.9472\n",
      "Epoch 00002: val_accuracy improved from 0.92168 to 0.94670, saving model to ./rnn_classifier_en\\102weights.h5\n",
      "776/776 [==============================] - 50s 64ms/step - loss: 0.1334 - accuracy: 0.9472 - val_loss: 0.1398 - val_accuracy: 0.9467\n",
      "Epoch 3/100\n",
      "776/776 [==============================] - ETA: 0s - loss: 0.0872 - accuracy: 0.9670\n",
      "Epoch 00003: val_accuracy improved from 0.94670 to 0.96012, saving model to ./rnn_classifier_en\\102weights.h5\n",
      "776/776 [==============================] - 51s 65ms/step - loss: 0.0872 - accuracy: 0.9670 - val_loss: 0.1068 - val_accuracy: 0.9601\n",
      "Epoch 4/100\n",
      "776/776 [==============================] - ETA: 0s - loss: 0.0712 - accuracy: 0.9730\n",
      "Epoch 00004: val_accuracy did not improve from 0.96012\n",
      "776/776 [==============================] - 50s 65ms/step - loss: 0.0712 - accuracy: 0.9730 - val_loss: 0.1246 - val_accuracy: 0.9572\n",
      "0.045406282\n",
      "./rnn_classifier_en -- Folder already exists \n",
      "\n",
      "32\n",
      "./rnn_classifier_en -- Folder already exists \n",
      "\n",
      "Epoch 1/100\n",
      "776/776 [==============================] - ETA: 0s - loss: 0.4071 - accuracy: 0.7970\n",
      "Epoch 00001: val_accuracy improved from -inf to 0.92099, saving model to ./rnn_classifier_en\\104weights.h5\n",
      "776/776 [==============================] - 51s 66ms/step - loss: 0.4071 - accuracy: 0.7970 - val_loss: 0.1883 - val_accuracy: 0.9210\n",
      "Epoch 2/100\n",
      "776/776 [==============================] - ETA: 0s - loss: 0.1290 - accuracy: 0.9495\n",
      "Epoch 00002: val_accuracy improved from 0.92099 to 0.95397, saving model to ./rnn_classifier_en\\104weights.h5\n",
      "776/776 [==============================] - 51s 66ms/step - loss: 0.1290 - accuracy: 0.9495 - val_loss: 0.1211 - val_accuracy: 0.9540\n",
      "Epoch 3/100\n",
      "776/776 [==============================] - ETA: 0s - loss: 0.0873 - accuracy: 0.9669\n",
      "Epoch 00003: val_accuracy improved from 0.95397 to 0.96376, saving model to ./rnn_classifier_en\\104weights.h5\n",
      "776/776 [==============================] - 51s 66ms/step - loss: 0.0873 - accuracy: 0.9669 - val_loss: 0.0978 - val_accuracy: 0.9638\n",
      "Epoch 4/100\n",
      "776/776 [==============================] - ETA: 0s - loss: 0.0692 - accuracy: 0.9727\n",
      "Epoch 00004: val_accuracy did not improve from 0.96376\n",
      "776/776 [==============================] - 51s 66ms/step - loss: 0.0692 - accuracy: 0.9727 - val_loss: 0.0943 - val_accuracy: 0.9605\n"
     ]
    },
    {
     "name": "stdout",
     "output_type": "stream",
     "text": [
      "0.052088648\n",
      "./rnn_classifier_en -- Folder already exists \n",
      "\n",
      "32\n",
      "./rnn_classifier_en -- Folder already exists \n",
      "\n",
      "Epoch 1/100\n",
      "777/777 [==============================] - ETA: 0s - loss: 0.3860 - accuracy: 0.8117\n",
      "Epoch 00001: val_accuracy improved from -inf to 0.93587, saving model to ./rnn_classifier_en\\106weights.h5\n",
      "777/777 [==============================] - 52s 67ms/step - loss: 0.3860 - accuracy: 0.8117 - val_loss: 0.1551 - val_accuracy: 0.9359\n",
      "Epoch 2/100\n",
      "776/777 [============================>.] - ETA: 0s - loss: 0.1350 - accuracy: 0.9462\n",
      "Epoch 00002: val_accuracy improved from 0.93587 to 0.96739, saving model to ./rnn_classifier_en\\106weights.h5\n",
      "777/777 [==============================] - 51s 66ms/step - loss: 0.1349 - accuracy: 0.9462 - val_loss: 0.0953 - val_accuracy: 0.9674\n",
      "Epoch 3/100\n",
      "776/777 [============================>.] - ETA: 0s - loss: 0.0884 - accuracy: 0.9649\n",
      "Epoch 00003: val_accuracy improved from 0.96739 to 0.97138, saving model to ./rnn_classifier_en\\106weights.h5\n",
      "777/777 [==============================] - 51s 66ms/step - loss: 0.0885 - accuracy: 0.9649 - val_loss: 0.0798 - val_accuracy: 0.9714\n",
      "Epoch 4/100\n",
      "776/777 [============================>.] - ETA: 0s - loss: 0.0726 - accuracy: 0.9713\n",
      "Epoch 00004: val_accuracy did not improve from 0.97138\n",
      "777/777 [==============================] - 51s 66ms/step - loss: 0.0725 - accuracy: 0.9713 - val_loss: 0.0717 - val_accuracy: 0.9714\n",
      "0.0036142766\n",
      "./rnn_classifier_en -- Folder already exists \n",
      "\n",
      "32\n",
      "./rnn_classifier_en -- Folder already exists \n",
      "\n",
      "Epoch 1/100\n",
      "777/778 [============================>.] - ETA: 0s - loss: 0.3902 - accuracy: 0.8073\n",
      "Epoch 00001: val_accuracy improved from -inf to 0.93126, saving model to ./rnn_classifier_en\\108weights.h5\n",
      "778/778 [==============================] - 53s 68ms/step - loss: 0.3902 - accuracy: 0.8073 - val_loss: 0.1716 - val_accuracy: 0.9313\n",
      "Epoch 2/100\n",
      "778/778 [==============================] - ETA: 0s - loss: 0.1291 - accuracy: 0.9503\n",
      "Epoch 00002: val_accuracy improved from 0.93126 to 0.95948, saving model to ./rnn_classifier_en\\108weights.h5\n",
      "778/778 [==============================] - 52s 67ms/step - loss: 0.1291 - accuracy: 0.9503 - val_loss: 0.1084 - val_accuracy: 0.9595\n",
      "Epoch 3/100\n",
      "777/778 [============================>.] - ETA: 0s - loss: 0.0898 - accuracy: 0.9657\n",
      "Epoch 00003: val_accuracy improved from 0.95948 to 0.96599, saving model to ./rnn_classifier_en\\108weights.h5\n",
      "778/778 [==============================] - 51s 66ms/step - loss: 0.0899 - accuracy: 0.9657 - val_loss: 0.0992 - val_accuracy: 0.9660\n",
      "Epoch 4/100\n",
      "778/778 [==============================] - ETA: 0s - loss: 0.0708 - accuracy: 0.9723\n",
      "Epoch 00004: val_accuracy did not improve from 0.96599\n",
      "778/778 [==============================] - 50s 64ms/step - loss: 0.0708 - accuracy: 0.9723 - val_loss: 0.0934 - val_accuracy: 0.9656\n",
      "0.019854307\n",
      "./rnn_classifier_en -- Folder already exists \n",
      "\n",
      "32\n",
      "./rnn_classifier_en -- Folder already exists \n",
      "\n",
      "Epoch 1/100\n",
      "778/778 [==============================] - ETA: 0s - loss: 0.3864 - accuracy: 0.8095\n",
      "Epoch 00001: val_accuracy improved from -inf to 0.92950, saving model to ./rnn_classifier_en\\110weights.h5\n",
      "778/778 [==============================] - 51s 65ms/step - loss: 0.3864 - accuracy: 0.8095 - val_loss: 0.1712 - val_accuracy: 0.9295\n",
      "Epoch 2/100\n",
      "778/778 [==============================] - ETA: 0s - loss: 0.1342 - accuracy: 0.9488\n",
      "Epoch 00002: val_accuracy improved from 0.92950 to 0.95372, saving model to ./rnn_classifier_en\\110weights.h5\n",
      "778/778 [==============================] - 50s 65ms/step - loss: 0.1342 - accuracy: 0.9488 - val_loss: 0.1075 - val_accuracy: 0.9537\n",
      "Epoch 3/100\n",
      "778/778 [==============================] - ETA: 0s - loss: 0.0891 - accuracy: 0.9670\n",
      "Epoch 00003: val_accuracy improved from 0.95372 to 0.96276, saving model to ./rnn_classifier_en\\110weights.h5\n",
      "778/778 [==============================] - 49s 63ms/step - loss: 0.0891 - accuracy: 0.9670 - val_loss: 0.0929 - val_accuracy: 0.9628\n",
      "Epoch 4/100\n",
      "778/778 [==============================] - ETA: 0s - loss: 0.0727 - accuracy: 0.9727\n",
      "Epoch 00004: val_accuracy improved from 0.96276 to 0.96710, saving model to ./rnn_classifier_en\\110weights.h5\n",
      "778/778 [==============================] - 50s 64ms/step - loss: 0.0727 - accuracy: 0.9727 - val_loss: 0.0832 - val_accuracy: 0.9671\n",
      "Epoch 5/100\n",
      "778/778 [==============================] - ETA: 0s - loss: 0.0640 - accuracy: 0.9762\n",
      "Epoch 00005: val_accuracy did not improve from 0.96710\n",
      "778/778 [==============================] - 50s 64ms/step - loss: 0.0640 - accuracy: 0.9762 - val_loss: 0.1004 - val_accuracy: 0.9613\n",
      "0.0071082413\n",
      "./rnn_classifier_en -- Folder already exists \n",
      "\n",
      "32\n",
      "./rnn_classifier_en -- Folder already exists \n",
      "\n",
      "Epoch 1/100\n",
      "778/778 [==============================] - ETA: 0s - loss: 0.3924 - accuracy: 0.8051\n",
      "Epoch 00001: val_accuracy improved from -inf to 0.92953, saving model to ./rnn_classifier_en\\112weights.h5\n",
      "778/778 [==============================] - 48s 61ms/step - loss: 0.3924 - accuracy: 0.8051 - val_loss: 0.1737 - val_accuracy: 0.9295\n",
      "Epoch 2/100\n",
      "778/778 [==============================] - ETA: 0s - loss: 0.1282 - accuracy: 0.9496\n",
      "Epoch 00002: val_accuracy improved from 0.92953 to 0.95916, saving model to ./rnn_classifier_en\\112weights.h5\n",
      "778/778 [==============================] - 47s 61ms/step - loss: 0.1282 - accuracy: 0.9496 - val_loss: 0.1054 - val_accuracy: 0.9592\n",
      "Epoch 3/100\n",
      "778/778 [==============================] - ETA: 0s - loss: 0.0867 - accuracy: 0.9681\n",
      "Epoch 00003: val_accuracy improved from 0.95916 to 0.96314, saving model to ./rnn_classifier_en\\112weights.h5\n",
      "778/778 [==============================] - 48s 62ms/step - loss: 0.0867 - accuracy: 0.9681 - val_loss: 0.0897 - val_accuracy: 0.9631\n",
      "Epoch 4/100\n",
      "778/778 [==============================] - ETA: 0s - loss: 0.0702 - accuracy: 0.9734\n",
      "Epoch 00004: val_accuracy did not improve from 0.96314\n",
      "778/778 [==============================] - 48s 61ms/step - loss: 0.0702 - accuracy: 0.9734 - val_loss: 0.0962 - val_accuracy: 0.9624\n",
      "0.0064462125\n",
      "./rnn_classifier_en -- Folder already exists \n",
      "\n",
      "32\n",
      "./rnn_classifier_en -- Folder already exists \n",
      "\n",
      "Epoch 1/100\n",
      "779/779 [==============================] - ETA: 0s - loss: 0.3846 - accuracy: 0.8104\n",
      "Epoch 00001: val_accuracy improved from -inf to 0.93499, saving model to ./rnn_classifier_en\\114weights.h5\n",
      "779/779 [==============================] - 52s 66ms/step - loss: 0.3846 - accuracy: 0.8104 - val_loss: 0.1725 - val_accuracy: 0.9350\n",
      "Epoch 2/100\n",
      "779/779 [==============================] - ETA: 0s - loss: 0.1309 - accuracy: 0.9477\n",
      "Epoch 00002: val_accuracy improved from 0.93499 to 0.96533, saving model to ./rnn_classifier_en\\114weights.h5\n",
      "779/779 [==============================] - 51s 65ms/step - loss: 0.1309 - accuracy: 0.9477 - val_loss: 0.0979 - val_accuracy: 0.9653\n",
      "Epoch 3/100\n",
      "779/779 [==============================] - ETA: 0s - loss: 0.0871 - accuracy: 0.9669\n",
      "Epoch 00003: val_accuracy improved from 0.96533 to 0.96822, saving model to ./rnn_classifier_en\\114weights.h5\n",
      "779/779 [==============================] - 51s 66ms/step - loss: 0.0871 - accuracy: 0.9669 - val_loss: 0.0934 - val_accuracy: 0.9682\n",
      "Epoch 4/100\n",
      "779/779 [==============================] - ETA: 0s - loss: 0.0712 - accuracy: 0.9734\n",
      "Epoch 00004: val_accuracy improved from 0.96822 to 0.97111, saving model to ./rnn_classifier_en\\114weights.h5\n",
      "779/779 [==============================] - 51s 65ms/step - loss: 0.0712 - accuracy: 0.9734 - val_loss: 0.0806 - val_accuracy: 0.9711\n",
      "Epoch 5/100\n",
      "779/779 [==============================] - ETA: 0s - loss: 0.0652 - accuracy: 0.9755\n",
      "Epoch 00005: val_accuracy did not improve from 0.97111\n",
      "779/779 [==============================] - 51s 66ms/step - loss: 0.0652 - accuracy: 0.9755 - val_loss: 0.0829 - val_accuracy: 0.9704\n",
      "0.017078817\n",
      "./rnn_classifier_en -- Folder already exists \n",
      "\n",
      "32\n",
      "./rnn_classifier_en -- Folder already exists \n",
      "\n",
      "Epoch 1/100\n",
      "779/780 [============================>.] - ETA: 0s - loss: 0.3770 - accuracy: 0.8152\n",
      "Epoch 00001: val_accuracy improved from -inf to 0.92963, saving model to ./rnn_classifier_en\\116weights.h5\n",
      "780/780 [==============================] - 52s 66ms/step - loss: 0.3770 - accuracy: 0.8153 - val_loss: 0.1789 - val_accuracy: 0.9296\n",
      "Epoch 2/100\n"
     ]
    },
    {
     "name": "stdout",
     "output_type": "stream",
     "text": [
      "779/780 [============================>.] - ETA: 0s - loss: 0.1313 - accuracy: 0.9501\n",
      "Epoch 00002: val_accuracy improved from 0.92963 to 0.95958, saving model to ./rnn_classifier_en\\116weights.h5\n",
      "780/780 [==============================] - 51s 65ms/step - loss: 0.1313 - accuracy: 0.9501 - val_loss: 0.0991 - val_accuracy: 0.9596\n",
      "Epoch 3/100\n",
      "779/780 [============================>.] - ETA: 0s - loss: 0.0877 - accuracy: 0.9668\n",
      "Epoch 00003: val_accuracy improved from 0.95958 to 0.96427, saving model to ./rnn_classifier_en\\116weights.h5\n",
      "780/780 [==============================] - 51s 65ms/step - loss: 0.0877 - accuracy: 0.9668 - val_loss: 0.0876 - val_accuracy: 0.9643\n",
      "Epoch 4/100\n",
      "779/780 [============================>.] - ETA: 0s - loss: 0.0715 - accuracy: 0.9731\n",
      "Epoch 00004: val_accuracy improved from 0.96427 to 0.96680, saving model to ./rnn_classifier_en\\116weights.h5\n",
      "780/780 [==============================] - 51s 66ms/step - loss: 0.0715 - accuracy: 0.9731 - val_loss: 0.0914 - val_accuracy: 0.9668\n",
      "Epoch 5/100\n",
      "779/780 [============================>.] - ETA: 0s - loss: 0.0646 - accuracy: 0.9751\n",
      "Epoch 00005: val_accuracy did not improve from 0.96680\n",
      "780/780 [==============================] - 51s 66ms/step - loss: 0.0646 - accuracy: 0.9751 - val_loss: 0.0828 - val_accuracy: 0.9668\n",
      "0.009086132\n",
      "./rnn_classifier_en -- Folder already exists \n",
      "\n",
      "32\n",
      "./rnn_classifier_en -- Folder already exists \n",
      "\n",
      "Epoch 1/100\n",
      "780/781 [============================>.] - ETA: 0s - loss: 0.4053 - accuracy: 0.7971\n",
      "Epoch 00001: val_accuracy improved from -inf to 0.93331, saving model to ./rnn_classifier_en\\118weights.h5\n",
      "781/781 [==============================] - 53s 68ms/step - loss: 0.4052 - accuracy: 0.7971 - val_loss: 0.1681 - val_accuracy: 0.9333\n",
      "Epoch 2/100\n",
      "780/781 [============================>.] - ETA: 0s - loss: 0.1360 - accuracy: 0.9457\n",
      "Epoch 00002: val_accuracy improved from 0.93331 to 0.96071, saving model to ./rnn_classifier_en\\118weights.h5\n",
      "781/781 [==============================] - 51s 65ms/step - loss: 0.1359 - accuracy: 0.9457 - val_loss: 0.1051 - val_accuracy: 0.9607\n",
      "Epoch 3/100\n",
      "780/781 [============================>.] - ETA: 0s - loss: 0.0888 - accuracy: 0.9650\n",
      "Epoch 00003: val_accuracy improved from 0.96071 to 0.96611, saving model to ./rnn_classifier_en\\118weights.h5\n",
      "781/781 [==============================] - 51s 65ms/step - loss: 0.0888 - accuracy: 0.9650 - val_loss: 0.0916 - val_accuracy: 0.9661\n",
      "Epoch 4/100\n",
      "781/781 [==============================] - ETA: 0s - loss: 0.0744 - accuracy: 0.9704\n",
      "Epoch 00004: val_accuracy improved from 0.96611 to 0.96756, saving model to ./rnn_classifier_en\\118weights.h5\n",
      "781/781 [==============================] - 51s 65ms/step - loss: 0.0744 - accuracy: 0.9704 - val_loss: 0.0908 - val_accuracy: 0.9676\n",
      "Epoch 5/100\n",
      "780/781 [============================>.] - ETA: 0s - loss: 0.0644 - accuracy: 0.9751\n",
      "Epoch 00005: val_accuracy improved from 0.96756 to 0.97080, saving model to ./rnn_classifier_en\\118weights.h5\n",
      "781/781 [==============================] - 51s 66ms/step - loss: 0.0644 - accuracy: 0.9751 - val_loss: 0.0884 - val_accuracy: 0.9708\n",
      "Epoch 6/100\n",
      "780/781 [============================>.] - ETA: 0s - loss: 0.0600 - accuracy: 0.9757\n",
      "Epoch 00006: val_accuracy did not improve from 0.97080\n",
      "781/781 [==============================] - 51s 65ms/step - loss: 0.0600 - accuracy: 0.9757 - val_loss: 0.0833 - val_accuracy: 0.9686\n",
      "0.012423962\n",
      "./rnn_classifier_en -- Folder already exists \n",
      "\n",
      "32\n",
      "./rnn_classifier_en -- Folder already exists \n",
      "\n",
      "Epoch 1/100\n",
      "781/781 [==============================] - ETA: 0s - loss: 0.3928 - accuracy: 0.8085\n",
      "Epoch 00001: val_accuracy improved from -inf to 0.92399, saving model to ./rnn_classifier_en\\120weights.h5\n",
      "781/781 [==============================] - 51s 65ms/step - loss: 0.3928 - accuracy: 0.8085 - val_loss: 0.1983 - val_accuracy: 0.9240\n",
      "Epoch 2/100\n",
      "781/781 [==============================] - ETA: 0s - loss: 0.1333 - accuracy: 0.9479\n",
      "Epoch 00002: val_accuracy improved from 0.92399 to 0.95749, saving model to ./rnn_classifier_en\\120weights.h5\n",
      "781/781 [==============================] - 51s 66ms/step - loss: 0.1333 - accuracy: 0.9479 - val_loss: 0.1126 - val_accuracy: 0.9575\n",
      "Epoch 3/100\n",
      "781/781 [==============================] - ETA: 0s - loss: 0.0875 - accuracy: 0.9678\n",
      "Epoch 00003: val_accuracy did not improve from 0.95749\n",
      "781/781 [==============================] - 51s 66ms/step - loss: 0.0875 - accuracy: 0.9678 - val_loss: 0.1105 - val_accuracy: 0.9571\n",
      "0.014390767\n",
      "./rnn_classifier_en -- Folder already exists \n",
      "\n",
      "32\n",
      "./rnn_classifier_en -- Folder already exists \n",
      "\n",
      "Epoch 1/100\n",
      "781/781 [==============================] - ETA: 0s - loss: 0.3886 - accuracy: 0.8067\n",
      "Epoch 00001: val_accuracy improved from -inf to 0.93518, saving model to ./rnn_classifier_en\\122weights.h5\n",
      "781/781 [==============================] - 52s 66ms/step - loss: 0.3886 - accuracy: 0.8067 - val_loss: 0.1590 - val_accuracy: 0.9352\n",
      "Epoch 2/100\n",
      "781/781 [==============================] - ETA: 0s - loss: 0.1312 - accuracy: 0.9505\n",
      "Epoch 00002: val_accuracy improved from 0.93518 to 0.95463, saving model to ./rnn_classifier_en\\122weights.h5\n",
      "781/781 [==============================] - 51s 65ms/step - loss: 0.1312 - accuracy: 0.9505 - val_loss: 0.1079 - val_accuracy: 0.9546\n",
      "Epoch 3/100\n",
      "781/781 [==============================] - ETA: 0s - loss: 0.0878 - accuracy: 0.9661\n",
      "Epoch 00003: val_accuracy improved from 0.95463 to 0.96147, saving model to ./rnn_classifier_en\\122weights.h5\n",
      "781/781 [==============================] - 50s 64ms/step - loss: 0.0878 - accuracy: 0.9661 - val_loss: 0.0995 - val_accuracy: 0.9615\n",
      "Epoch 4/100\n",
      "781/781 [==============================] - ETA: 0s - loss: 0.0727 - accuracy: 0.9718\n",
      "Epoch 00004: val_accuracy improved from 0.96147 to 0.96615, saving model to ./rnn_classifier_en\\122weights.h5\n",
      "781/781 [==============================] - 50s 65ms/step - loss: 0.0727 - accuracy: 0.9718 - val_loss: 0.0804 - val_accuracy: 0.9662\n",
      "Epoch 5/100\n",
      "781/781 [==============================] - ETA: 0s - loss: 0.0625 - accuracy: 0.9769\n",
      "Epoch 00005: val_accuracy improved from 0.96615 to 0.96867, saving model to ./rnn_classifier_en\\122weights.h5\n",
      "781/781 [==============================] - 51s 65ms/step - loss: 0.0625 - accuracy: 0.9769 - val_loss: 0.0806 - val_accuracy: 0.9687\n",
      "Epoch 6/100\n",
      "781/781 [==============================] - ETA: 0s - loss: 0.0598 - accuracy: 0.9771\n",
      "Epoch 00006: val_accuracy did not improve from 0.96867\n",
      "781/781 [==============================] - 52s 66ms/step - loss: 0.0598 - accuracy: 0.9771 - val_loss: 0.0814 - val_accuracy: 0.9672\n",
      "0.011673689\n",
      "./rnn_classifier_en -- Folder already exists \n",
      "\n",
      "32\n",
      "./rnn_classifier_en -- Folder already exists \n",
      "\n",
      "Epoch 1/100\n",
      "782/782 [==============================] - ETA: 0s - loss: 0.3725 - accuracy: 0.8167\n",
      "Epoch 00001: val_accuracy improved from -inf to 0.92880, saving model to ./rnn_classifier_en\\124weights.h5\n",
      "782/782 [==============================] - 52s 67ms/step - loss: 0.3725 - accuracy: 0.8167 - val_loss: 0.1816 - val_accuracy: 0.9288\n",
      "Epoch 2/100\n",
      "782/782 [==============================] - ETA: 0s - loss: 0.1324 - accuracy: 0.9487\n",
      "Epoch 00002: val_accuracy improved from 0.92880 to 0.94355, saving model to ./rnn_classifier_en\\124weights.h5\n",
      "782/782 [==============================] - 54s 69ms/step - loss: 0.1324 - accuracy: 0.9487 - val_loss: 0.1351 - val_accuracy: 0.9435\n",
      "Epoch 3/100\n",
      "782/782 [==============================] - ETA: 0s - loss: 0.0878 - accuracy: 0.9670\n",
      "Epoch 00003: val_accuracy improved from 0.94355 to 0.96188, saving model to ./rnn_classifier_en\\124weights.h5\n",
      "782/782 [==============================] - 54s 69ms/step - loss: 0.0878 - accuracy: 0.9670 - val_loss: 0.1027 - val_accuracy: 0.9619\n",
      "Epoch 4/100\n",
      "782/782 [==============================] - ETA: 0s - loss: 0.0726 - accuracy: 0.9716\n",
      "Epoch 00004: val_accuracy did not improve from 0.96188\n",
      "782/782 [==============================] - 54s 69ms/step - loss: 0.0726 - accuracy: 0.9716 - val_loss: 0.0981 - val_accuracy: 0.9615\n",
      "0.0363636\n",
      "./rnn_classifier_en -- Folder already exists \n",
      "\n",
      "32\n",
      "./rnn_classifier_en -- Folder already exists \n",
      "\n",
      "Epoch 1/100\n",
      "783/783 [==============================] - ETA: 0s - loss: 0.3807 - accuracy: 0.8098\n",
      "Epoch 00001: val_accuracy improved from -inf to 0.93422, saving model to ./rnn_classifier_en\\126weights.h5\n",
      "783/783 [==============================] - 56s 71ms/step - loss: 0.3807 - accuracy: 0.8098 - val_loss: 0.1607 - val_accuracy: 0.9342\n"
     ]
    },
    {
     "name": "stdout",
     "output_type": "stream",
     "text": [
      "Epoch 2/100\n",
      "783/783 [==============================] - ETA: 0s - loss: 0.1332 - accuracy: 0.9482\n",
      "Epoch 00002: val_accuracy improved from 0.93422 to 0.96190, saving model to ./rnn_classifier_en\\126weights.h5\n",
      "783/783 [==============================] - 54s 69ms/step - loss: 0.1332 - accuracy: 0.9482 - val_loss: 0.0992 - val_accuracy: 0.9619\n",
      "Epoch 3/100\n",
      "782/783 [============================>.] - ETA: 0s - loss: 0.0908 - accuracy: 0.9651\n",
      "Epoch 00003: val_accuracy improved from 0.96190 to 0.96477, saving model to ./rnn_classifier_en\\126weights.h5\n",
      "783/783 [==============================] - 51s 66ms/step - loss: 0.0908 - accuracy: 0.9651 - val_loss: 0.0914 - val_accuracy: 0.9648\n",
      "Epoch 4/100\n",
      "783/783 [==============================] - ETA: 0s - loss: 0.0746 - accuracy: 0.9717\n",
      "Epoch 00004: val_accuracy improved from 0.96477 to 0.96693, saving model to ./rnn_classifier_en\\126weights.h5\n",
      "783/783 [==============================] - 51s 66ms/step - loss: 0.0746 - accuracy: 0.9717 - val_loss: 0.0732 - val_accuracy: 0.9669\n",
      "Epoch 5/100\n",
      "782/783 [============================>.] - ETA: 0s - loss: 0.0678 - accuracy: 0.9749\n",
      "Epoch 00005: val_accuracy improved from 0.96693 to 0.96837, saving model to ./rnn_classifier_en\\126weights.h5\n",
      "783/783 [==============================] - 51s 65ms/step - loss: 0.0677 - accuracy: 0.9749 - val_loss: 0.0771 - val_accuracy: 0.9684\n",
      "Epoch 6/100\n",
      "782/783 [============================>.] - ETA: 0s - loss: 0.0634 - accuracy: 0.9753 ETA: 0s - loss: 0.063\n",
      "Epoch 00006: val_accuracy improved from 0.96837 to 0.96945, saving model to ./rnn_classifier_en\\126weights.h5\n",
      "783/783 [==============================] - 51s 65ms/step - loss: 0.0633 - accuracy: 0.9754 - val_loss: 0.0706 - val_accuracy: 0.9694\n",
      "Epoch 7/100\n",
      "782/783 [============================>.] - ETA: 0s - loss: 0.0557 - accuracy: 0.9787\n",
      "Epoch 00007: val_accuracy improved from 0.96945 to 0.97304, saving model to ./rnn_classifier_en\\126weights.h5\n",
      "783/783 [==============================] - 50s 64ms/step - loss: 0.0557 - accuracy: 0.9787 - val_loss: 0.0712 - val_accuracy: 0.9730\n",
      "Epoch 8/100\n",
      "783/783 [==============================] - ETA: 0s - loss: 0.0510 - accuracy: 0.9799\n",
      "Epoch 00008: val_accuracy did not improve from 0.97304\n",
      "783/783 [==============================] - 51s 65ms/step - loss: 0.0510 - accuracy: 0.9799 - val_loss: 0.0815 - val_accuracy: 0.9702\n",
      "0.0018906891\n",
      "./rnn_classifier_en -- Folder already exists \n",
      "\n",
      "32\n",
      "./rnn_classifier_en -- Folder already exists \n",
      "\n",
      "Epoch 1/100\n",
      "784/785 [============================>.] - ETA: 0s - loss: 0.4002 - accuracy: 0.7995\n",
      "Epoch 00001: val_accuracy improved from -inf to 0.93759, saving model to ./rnn_classifier_en\\128weights.h5\n",
      "785/785 [==============================] - 52s 66ms/step - loss: 0.4002 - accuracy: 0.7996 - val_loss: 0.1633 - val_accuracy: 0.9376\n",
      "Epoch 2/100\n",
      "785/785 [==============================] - ETA: 0s - loss: 0.1319 - accuracy: 0.9483\n",
      "Epoch 00002: val_accuracy improved from 0.93759 to 0.95732, saving model to ./rnn_classifier_en\\128weights.h5\n",
      "785/785 [==============================] - 51s 66ms/step - loss: 0.1319 - accuracy: 0.9483 - val_loss: 0.1112 - val_accuracy: 0.9573\n",
      "Epoch 3/100\n",
      "784/785 [============================>.] - ETA: 0s - loss: 0.0879 - accuracy: 0.9659\n",
      "Epoch 00003: val_accuracy did not improve from 0.95732\n",
      "785/785 [==============================] - 52s 66ms/step - loss: 0.0879 - accuracy: 0.9659 - val_loss: 0.1173 - val_accuracy: 0.9509\n",
      "0.037436306\n",
      "./rnn_classifier_en -- Folder already exists \n",
      "\n",
      "32\n",
      "./rnn_classifier_en -- Folder already exists \n",
      "\n",
      "Epoch 1/100\n",
      "785/785 [==============================] - ETA: 0s - loss: 0.3810 - accuracy: 0.8122\n",
      "Epoch 00001: val_accuracy improved from -inf to 0.91974, saving model to ./rnn_classifier_en\\130weights.h5\n",
      "785/785 [==============================] - 52s 67ms/step - loss: 0.3810 - accuracy: 0.8122 - val_loss: 0.1925 - val_accuracy: 0.9197\n",
      "Epoch 2/100\n",
      "785/785 [==============================] - ETA: 0s - loss: 0.1285 - accuracy: 0.9494\n",
      "Epoch 00002: val_accuracy improved from 0.91974 to 0.94267, saving model to ./rnn_classifier_en\\130weights.h5\n",
      "785/785 [==============================] - 53s 67ms/step - loss: 0.1285 - accuracy: 0.9494 - val_loss: 0.1394 - val_accuracy: 0.9427\n",
      "Epoch 3/100\n",
      "785/785 [==============================] - ETA: 0s - loss: 0.0868 - accuracy: 0.9666\n",
      "Epoch 00003: val_accuracy improved from 0.94267 to 0.94876, saving model to ./rnn_classifier_en\\130weights.h5\n",
      "785/785 [==============================] - 55s 70ms/step - loss: 0.0868 - accuracy: 0.9666 - val_loss: 0.1228 - val_accuracy: 0.9488\n",
      "Epoch 4/100\n",
      "785/785 [==============================] - ETA: 0s - loss: 0.0691 - accuracy: 0.9734\n",
      "Epoch 00004: val_accuracy did not improve from 0.94876\n",
      "785/785 [==============================] - 54s 69ms/step - loss: 0.0691 - accuracy: 0.9734 - val_loss: 0.1297 - val_accuracy: 0.9473\n",
      "0.0343028\n",
      "./rnn_classifier_en -- Folder already exists \n",
      "\n",
      "32\n",
      "./rnn_classifier_en -- Folder already exists \n",
      "\n",
      "Epoch 1/100\n",
      "785/785 [==============================] - ETA: 0s - loss: 0.3916 - accuracy: 0.8059\n",
      "Epoch 00001: val_accuracy improved from -inf to 0.92335, saving model to ./rnn_classifier_en\\132weights.h5\n",
      "785/785 [==============================] - 52s 66ms/step - loss: 0.3916 - accuracy: 0.8059 - val_loss: 0.1779 - val_accuracy: 0.9234\n",
      "Epoch 2/100\n",
      "785/785 [==============================] - ETA: 0s - loss: 0.1302 - accuracy: 0.9470\n",
      "Epoch 00002: val_accuracy improved from 0.92335 to 0.95738, saving model to ./rnn_classifier_en\\132weights.h5\n",
      "785/785 [==============================] - 51s 65ms/step - loss: 0.1302 - accuracy: 0.9470 - val_loss: 0.1135 - val_accuracy: 0.9574\n",
      "Epoch 3/100\n",
      "785/785 [==============================] - ETA: 0s - loss: 0.0911 - accuracy: 0.9650\n",
      "Epoch 00003: val_accuracy improved from 0.95738 to 0.96311, saving model to ./rnn_classifier_en\\132weights.h5\n",
      "785/785 [==============================] - 51s 64ms/step - loss: 0.0911 - accuracy: 0.9650 - val_loss: 0.0897 - val_accuracy: 0.9631\n",
      "Epoch 4/100\n",
      "785/785 [==============================] - ETA: 0s - loss: 0.0734 - accuracy: 0.9712\n",
      "Epoch 00004: val_accuracy did not improve from 0.96311\n",
      "785/785 [==============================] - 49s 62ms/step - loss: 0.0734 - accuracy: 0.9712 - val_loss: 0.1085 - val_accuracy: 0.9585\n",
      "0.0089975\n",
      "./rnn_classifier_en -- Folder already exists \n",
      "\n",
      "32\n",
      "./rnn_classifier_en -- Folder already exists \n",
      "\n",
      "Epoch 1/100\n",
      "786/786 [==============================] - ETA: 0s - loss: 0.3953 - accuracy: 0.8040\n",
      "Epoch 00001: val_accuracy improved from -inf to 0.93484, saving model to ./rnn_classifier_en\\134weights.h5\n",
      "786/786 [==============================] - 51s 65ms/step - loss: 0.3953 - accuracy: 0.8040 - val_loss: 0.1688 - val_accuracy: 0.9348\n",
      "Epoch 2/100\n",
      "785/786 [============================>.] - ETA: 0s - loss: 0.1353 - accuracy: 0.9481\n",
      "Epoch 00002: val_accuracy improved from 0.93484 to 0.95811, saving model to ./rnn_classifier_en\\134weights.h5\n",
      "786/786 [==============================] - 51s 65ms/step - loss: 0.1353 - accuracy: 0.9481 - val_loss: 0.1094 - val_accuracy: 0.9581\n",
      "Epoch 3/100\n",
      "785/786 [============================>.] - ETA: 0s - loss: 0.0869 - accuracy: 0.9679\n",
      "Epoch 00003: val_accuracy did not improve from 0.95811\n",
      "786/786 [==============================] - 50s 64ms/step - loss: 0.0869 - accuracy: 0.9679 - val_loss: 0.1053 - val_accuracy: 0.9581\n",
      "0.017371833\n",
      "./rnn_classifier_en -- Folder already exists \n",
      "\n",
      "32\n",
      "./rnn_classifier_en -- Folder already exists \n",
      "\n",
      "Epoch 1/100\n",
      "786/786 [==============================] - ETA: 0s - loss: 0.3893 - accuracy: 0.8055\n",
      "Epoch 00001: val_accuracy improved from -inf to 0.91622, saving model to ./rnn_classifier_en\\136weights.h5\n",
      "786/786 [==============================] - 50s 64ms/step - loss: 0.3893 - accuracy: 0.8055 - val_loss: 0.2105 - val_accuracy: 0.9162\n",
      "Epoch 2/100\n",
      "786/786 [==============================] - ETA: 0s - loss: 0.1317 - accuracy: 0.9477\n",
      "Epoch 00002: val_accuracy improved from 0.91622 to 0.94773, saving model to ./rnn_classifier_en\\136weights.h5\n",
      "786/786 [==============================] - 50s 63ms/step - loss: 0.1317 - accuracy: 0.9477 - val_loss: 0.1260 - val_accuracy: 0.9477\n",
      "Epoch 3/100\n",
      "786/786 [==============================] - ETA: 0s - loss: 0.0870 - accuracy: 0.9658 ETA: 0s - loss: 0.086\n",
      "Epoch 00003: val_accuracy improved from 0.94773 to 0.95166, saving model to ./rnn_classifier_en\\136weights.h5\n",
      "786/786 [==============================] - 50s 64ms/step - loss: 0.0870 - accuracy: 0.9658 - val_loss: 0.1155 - val_accuracy: 0.9517\n",
      "Epoch 4/100\n",
      "786/786 [==============================] - ETA: 0s - loss: 0.0743 - accuracy: 0.9719\n",
      "Epoch 00004: val_accuracy improved from 0.95166 to 0.96742, saving model to ./rnn_classifier_en\\136weights.h5\n",
      "786/786 [==============================] - 50s 64ms/step - loss: 0.0743 - accuracy: 0.9719 - val_loss: 0.0991 - val_accuracy: 0.9674\n",
      "Epoch 5/100\n",
      "786/786 [==============================] - ETA: 0s - loss: 0.0628 - accuracy: 0.9750\n",
      "Epoch 00005: val_accuracy did not improve from 0.96742\n",
      "786/786 [==============================] - 51s 65ms/step - loss: 0.0628 - accuracy: 0.9750 - val_loss: 0.1125 - val_accuracy: 0.9642\n",
      "0.0050608516\n",
      "./rnn_classifier_en -- Folder already exists \n",
      "\n",
      "32\n",
      "./rnn_classifier_en -- Folder already exists \n",
      "\n",
      "Epoch 1/100\n",
      "786/787 [============================>.] - ETA: 0s - loss: 0.3899 - accuracy: 0.8071\n",
      "Epoch 00001: val_accuracy improved from -inf to 0.93205, saving model to ./rnn_classifier_en\\138weights.h5\n",
      "787/787 [==============================] - 51s 65ms/step - loss: 0.3899 - accuracy: 0.8071 - val_loss: 0.1717 - val_accuracy: 0.9320\n",
      "Epoch 2/100\n",
      "786/787 [============================>.] - ETA: 0s - loss: 0.1365 - accuracy: 0.9465\n",
      "Epoch 00002: val_accuracy improved from 0.93205 to 0.95350, saving model to ./rnn_classifier_en\\138weights.h5\n",
      "787/787 [==============================] - 51s 64ms/step - loss: 0.1365 - accuracy: 0.9465 - val_loss: 0.1154 - val_accuracy: 0.9535\n",
      "Epoch 3/100\n",
      "786/787 [============================>.] - ETA: 0s - loss: 0.0863 - accuracy: 0.9665\n",
      "Epoch 00003: val_accuracy improved from 0.95350 to 0.95708, saving model to ./rnn_classifier_en\\138weights.h5\n",
      "787/787 [==============================] - 50s 64ms/step - loss: 0.0863 - accuracy: 0.9665 - val_loss: 0.1110 - val_accuracy: 0.9571\n",
      "Epoch 4/100\n",
      "786/787 [============================>.] - ETA: 0s - loss: 0.0706 - accuracy: 0.9725\n",
      "Epoch 00004: val_accuracy improved from 0.95708 to 0.96495, saving model to ./rnn_classifier_en\\138weights.h5\n",
      "787/787 [==============================] - 51s 64ms/step - loss: 0.0706 - accuracy: 0.9725 - val_loss: 0.0844 - val_accuracy: 0.9649\n",
      "Epoch 5/100\n",
      "786/787 [============================>.] - ETA: 0s - loss: 0.0642 - accuracy: 0.9757\n",
      "Epoch 00005: val_accuracy did not improve from 0.96495\n",
      "787/787 [==============================] - 50s 64ms/step - loss: 0.0642 - accuracy: 0.9757 - val_loss: 0.0959 - val_accuracy: 0.9646\n",
      "0.022656143\n",
      "./rnn_classifier_en -- Folder already exists \n",
      "\n",
      "32\n",
      "./rnn_classifier_en -- Folder already exists \n",
      "\n",
      "Epoch 1/100\n",
      "787/787 [==============================] - ETA: 0s - loss: 0.3821 - accuracy: 0.8128\n",
      "Epoch 00001: val_accuracy improved from -inf to 0.91884, saving model to ./rnn_classifier_en\\140weights.h5\n",
      "787/787 [==============================] - 51s 65ms/step - loss: 0.3821 - accuracy: 0.8128 - val_loss: 0.1899 - val_accuracy: 0.9188\n",
      "Epoch 2/100\n",
      "787/787 [==============================] - ETA: 0s - loss: 0.1319 - accuracy: 0.9485\n",
      "Epoch 00002: val_accuracy improved from 0.91884 to 0.95173, saving model to ./rnn_classifier_en\\140weights.h5\n",
      "787/787 [==============================] - 51s 65ms/step - loss: 0.1319 - accuracy: 0.9485 - val_loss: 0.1286 - val_accuracy: 0.9517\n",
      "Epoch 3/100\n",
      "787/787 [==============================] - ETA: 0s - loss: 0.0886 - accuracy: 0.9666\n",
      "Epoch 00003: val_accuracy improved from 0.95173 to 0.95817, saving model to ./rnn_classifier_en\\140weights.h5\n",
      "787/787 [==============================] - 51s 65ms/step - loss: 0.0886 - accuracy: 0.9666 - val_loss: 0.1017 - val_accuracy: 0.9582\n",
      "Epoch 4/100\n",
      "787/787 [==============================] - ETA: 0s - loss: 0.0717 - accuracy: 0.9725\n",
      "Epoch 00004: val_accuracy improved from 0.95817 to 0.96604, saving model to ./rnn_classifier_en\\140weights.h5\n",
      "787/787 [==============================] - 50s 64ms/step - loss: 0.0717 - accuracy: 0.9725 - val_loss: 0.0981 - val_accuracy: 0.9660\n",
      "Epoch 5/100\n",
      "787/787 [==============================] - ETA: 0s - loss: 0.0624 - accuracy: 0.9760\n",
      "Epoch 00005: val_accuracy did not improve from 0.96604\n",
      "787/787 [==============================] - 50s 64ms/step - loss: 0.0624 - accuracy: 0.9760 - val_loss: 0.1014 - val_accuracy: 0.9621\n",
      "0.017746955\n",
      "./rnn_classifier_en -- Folder already exists \n",
      "\n",
      "32\n",
      "./rnn_classifier_en -- Folder already exists \n",
      "\n",
      "Epoch 1/100\n",
      "787/788 [============================>.] - ETA: 0s - loss: 0.3915 - accuracy: 0.8063\n",
      "Epoch 00001: val_accuracy improved from -inf to 0.92212, saving model to ./rnn_classifier_en\\142weights.h5\n",
      "788/788 [==============================] - 51s 65ms/step - loss: 0.3914 - accuracy: 0.8064 - val_loss: 0.1940 - val_accuracy: 0.9221\n",
      "Epoch 2/100\n",
      "787/788 [============================>.] - ETA: 0s - loss: 0.1326 - accuracy: 0.9486\n",
      "Epoch 00002: val_accuracy improved from 0.92212 to 0.95320, saving model to ./rnn_classifier_en\\142weights.h5\n",
      "788/788 [==============================] - 50s 64ms/step - loss: 0.1326 - accuracy: 0.9486 - val_loss: 0.1160 - val_accuracy: 0.9532\n",
      "Epoch 3/100\n",
      "787/788 [============================>.] - ETA: 0s - loss: 0.0876 - accuracy: 0.9671\n",
      "Epoch 00003: val_accuracy improved from 0.95320 to 0.96034, saving model to ./rnn_classifier_en\\142weights.h5\n",
      "788/788 [==============================] - 51s 64ms/step - loss: 0.0876 - accuracy: 0.9671 - val_loss: 0.0993 - val_accuracy: 0.9603\n",
      "Epoch 4/100\n",
      "787/788 [============================>.] - ETA: 0s - loss: 0.0741 - accuracy: 0.9711\n",
      "Epoch 00004: val_accuracy improved from 0.96034 to 0.96106, saving model to ./rnn_classifier_en\\142weights.h5\n",
      "788/788 [==============================] - 51s 64ms/step - loss: 0.0741 - accuracy: 0.9711 - val_loss: 0.0987 - val_accuracy: 0.9611\n",
      "Epoch 5/100\n",
      "787/788 [============================>.] - ETA: 0s - loss: 0.0646 - accuracy: 0.9752\n",
      "Epoch 00005: val_accuracy improved from 0.96106 to 0.96356, saving model to ./rnn_classifier_en\\142weights.h5\n",
      "788/788 [==============================] - 51s 64ms/step - loss: 0.0646 - accuracy: 0.9752 - val_loss: 0.0922 - val_accuracy: 0.9636\n",
      "Epoch 6/100\n",
      "787/788 [============================>.] - ETA: 0s - loss: 0.0595 - accuracy: 0.9765\n",
      "Epoch 00006: val_accuracy did not improve from 0.96356\n",
      "788/788 [==============================] - 51s 65ms/step - loss: 0.0595 - accuracy: 0.9765 - val_loss: 0.0950 - val_accuracy: 0.9636\n",
      "0.037895083\n",
      "./rnn_classifier_en -- Folder already exists \n",
      "\n",
      "32\n",
      "./rnn_classifier_en -- Folder already exists \n",
      "\n",
      "Epoch 1/100\n",
      "788/788 [==============================] - ETA: 0s - loss: 0.3863 - accuracy: 0.8082\n",
      "Epoch 00001: val_accuracy improved from -inf to 0.92755, saving model to ./rnn_classifier_en\\144weights.h5\n",
      "788/788 [==============================] - 52s 67ms/step - loss: 0.3863 - accuracy: 0.8082 - val_loss: 0.1808 - val_accuracy: 0.9276\n",
      "Epoch 2/100\n",
      "788/788 [==============================] - ETA: 0s - loss: 0.1336 - accuracy: 0.9469 ETA: 0s - loss: 0.1338 - accuracy\n",
      "Epoch 00002: val_accuracy improved from 0.92755 to 0.96074, saving model to ./rnn_classifier_en\\144weights.h5\n",
      "788/788 [==============================] - 51s 65ms/step - loss: 0.1336 - accuracy: 0.9469 - val_loss: 0.1145 - val_accuracy: 0.9607\n",
      "Epoch 3/100\n",
      "788/788 [==============================] - ETA: 0s - loss: 0.0887 - accuracy: 0.9665\n",
      "Epoch 00003: val_accuracy improved from 0.96074 to 0.96395, saving model to ./rnn_classifier_en\\144weights.h5\n",
      "788/788 [==============================] - 51s 65ms/step - loss: 0.0887 - accuracy: 0.9665 - val_loss: 0.0966 - val_accuracy: 0.9640\n",
      "Epoch 4/100\n",
      "788/788 [==============================] - ETA: 0s - loss: 0.0734 - accuracy: 0.9718 ETA: 0s - loss: 0.073\n",
      "Epoch 00004: val_accuracy did not improve from 0.96395\n",
      "788/788 [==============================] - 51s 65ms/step - loss: 0.0734 - accuracy: 0.9718 - val_loss: 0.0915 - val_accuracy: 0.9632\n",
      "0.028860807\n",
      "./rnn_classifier_en -- Folder already exists \n",
      "\n",
      "32\n",
      "./rnn_classifier_en -- Folder already exists \n",
      "\n",
      "Epoch 1/100\n"
     ]
    },
    {
     "name": "stdout",
     "output_type": "stream",
     "text": [
      "788/789 [============================>.] - ETA: 0s - loss: 0.3747 - accuracy: 0.8162\n",
      "Epoch 00001: val_accuracy improved from -inf to 0.93115, saving model to ./rnn_classifier_en\\146weights.h5\n",
      "789/789 [==============================] - 51s 65ms/step - loss: 0.3746 - accuracy: 0.8163 - val_loss: 0.1690 - val_accuracy: 0.9311\n",
      "Epoch 2/100\n",
      "788/789 [============================>.] - ETA: 0s - loss: 0.1345 - accuracy: 0.9474\n",
      "Epoch 00002: val_accuracy improved from 0.93115 to 0.95897, saving model to ./rnn_classifier_en\\146weights.h5\n",
      "789/789 [==============================] - 51s 65ms/step - loss: 0.1344 - accuracy: 0.9474 - val_loss: 0.1042 - val_accuracy: 0.9590\n",
      "Epoch 3/100\n",
      "788/789 [============================>.] - ETA: 0s - loss: 0.0880 - accuracy: 0.9666\n",
      "Epoch 00003: val_accuracy improved from 0.95897 to 0.96432, saving model to ./rnn_classifier_en\\146weights.h5\n",
      "789/789 [==============================] - 51s 64ms/step - loss: 0.0880 - accuracy: 0.9666 - val_loss: 0.0886 - val_accuracy: 0.9643\n",
      "Epoch 4/100\n",
      "788/789 [============================>.] - ETA: 0s - loss: 0.0741 - accuracy: 0.9705\n",
      "Epoch 00004: val_accuracy improved from 0.96432 to 0.97003, saving model to ./rnn_classifier_en\\146weights.h5\n",
      "789/789 [==============================] - 50s 64ms/step - loss: 0.0741 - accuracy: 0.9705 - val_loss: 0.0867 - val_accuracy: 0.9700\n",
      "Epoch 5/100\n",
      "788/789 [============================>.] - ETA: 0s - loss: 0.0641 - accuracy: 0.9755\n",
      "Epoch 00005: val_accuracy did not improve from 0.97003\n",
      "789/789 [==============================] - 51s 64ms/step - loss: 0.0641 - accuracy: 0.9755 - val_loss: 0.0806 - val_accuracy: 0.9693\n",
      "0.010098904\n",
      "./rnn_classifier_en -- Folder already exists \n",
      "\n",
      "32\n",
      "./rnn_classifier_en -- Folder already exists \n",
      "\n",
      "Epoch 1/100\n",
      "788/789 [============================>.] - ETA: 0s - loss: 0.3964 - accuracy: 0.7997\n",
      "Epoch 00001: val_accuracy improved from -inf to 0.92154, saving model to ./rnn_classifier_en\\148weights.h5\n",
      "789/789 [==============================] - 51s 65ms/step - loss: 0.3962 - accuracy: 0.7998 - val_loss: 0.1923 - val_accuracy: 0.9215\n",
      "Epoch 2/100\n",
      "788/789 [============================>.] - ETA: 0s - loss: 0.1327 - accuracy: 0.9484\n",
      "Epoch 00002: val_accuracy improved from 0.92154 to 0.95720, saving model to ./rnn_classifier_en\\148weights.h5\n",
      "789/789 [==============================] - 51s 64ms/step - loss: 0.1326 - accuracy: 0.9485 - val_loss: 0.1166 - val_accuracy: 0.9572\n",
      "Epoch 3/100\n",
      "788/789 [============================>.] - ETA: 0s - loss: 0.0881 - accuracy: 0.9660\n",
      "Epoch 00003: val_accuracy improved from 0.95720 to 0.96291, saving model to ./rnn_classifier_en\\148weights.h5\n",
      "789/789 [==============================] - 51s 65ms/step - loss: 0.0881 - accuracy: 0.9660 - val_loss: 0.1033 - val_accuracy: 0.9629\n",
      "Epoch 4/100\n",
      "788/789 [============================>.] - ETA: 0s - loss: 0.0731 - accuracy: 0.9712\n",
      "Epoch 00004: val_accuracy improved from 0.96291 to 0.96434, saving model to ./rnn_classifier_en\\148weights.h5\n",
      "789/789 [==============================] - 51s 65ms/step - loss: 0.0732 - accuracy: 0.9711 - val_loss: 0.0964 - val_accuracy: 0.9643\n",
      "Epoch 5/100\n",
      "789/789 [==============================] - ETA: 0s - loss: 0.0626 - accuracy: 0.9761\n",
      "Epoch 00005: val_accuracy did not improve from 0.96434\n",
      "789/789 [==============================] - 51s 65ms/step - loss: 0.0626 - accuracy: 0.9761 - val_loss: 0.1055 - val_accuracy: 0.9618\n",
      "0.014769256\n",
      "./rnn_classifier_en -- Folder already exists \n",
      "\n",
      "32\n",
      "./rnn_classifier_en -- Folder already exists \n",
      "\n",
      "Epoch 1/100\n",
      "789/789 [==============================] - ETA: 0s - loss: 0.3855 - accuracy: 0.8077\n",
      "Epoch 00001: val_accuracy improved from -inf to 0.93868, saving model to ./rnn_classifier_en\\150weights.h5\n",
      "789/789 [==============================] - 52s 66ms/step - loss: 0.3855 - accuracy: 0.8077 - val_loss: 0.1547 - val_accuracy: 0.9387\n",
      "Epoch 2/100\n",
      "789/789 [==============================] - ETA: 0s - loss: 0.1344 - accuracy: 0.9474\n",
      "Epoch 00002: val_accuracy improved from 0.93868 to 0.95793, saving model to ./rnn_classifier_en\\150weights.h5\n",
      "789/789 [==============================] - 51s 64ms/step - loss: 0.1344 - accuracy: 0.9474 - val_loss: 0.1061 - val_accuracy: 0.9579\n",
      "Epoch 3/100\n",
      "789/789 [==============================] - ETA: 0s - loss: 0.0916 - accuracy: 0.9646\n",
      "Epoch 00003: val_accuracy improved from 0.95793 to 0.95971, saving model to ./rnn_classifier_en\\150weights.h5\n",
      "789/789 [==============================] - 50s 64ms/step - loss: 0.0916 - accuracy: 0.9646 - val_loss: 0.1037 - val_accuracy: 0.9597\n",
      "Epoch 4/100\n",
      "789/789 [==============================] - ETA: 0s - loss: 0.0743 - accuracy: 0.9717\n",
      "Epoch 00004: val_accuracy improved from 0.95971 to 0.96257, saving model to ./rnn_classifier_en\\150weights.h5\n",
      "789/789 [==============================] - 51s 64ms/step - loss: 0.0743 - accuracy: 0.9717 - val_loss: 0.1054 - val_accuracy: 0.9626\n",
      "Epoch 5/100\n",
      "789/789 [==============================] - ETA: 0s - loss: 0.0660 - accuracy: 0.9749\n",
      "Epoch 00005: val_accuracy did not improve from 0.96257\n",
      "789/789 [==============================] - 51s 64ms/step - loss: 0.0660 - accuracy: 0.9749 - val_loss: 0.1009 - val_accuracy: 0.9608\n",
      "0.021204114\n",
      "./rnn_classifier_en -- Folder already exists \n",
      "\n",
      "32\n",
      "./rnn_classifier_en -- Folder already exists \n",
      "\n",
      "Epoch 1/100\n",
      "790/790 [==============================] - ETA: 0s - loss: 0.3948 - accuracy: 0.8033\n",
      "Epoch 00001: val_accuracy improved from -inf to 0.93127, saving model to ./rnn_classifier_en\\152weights.h5\n",
      "790/790 [==============================] - 51s 65ms/step - loss: 0.3948 - accuracy: 0.8033 - val_loss: 0.1776 - val_accuracy: 0.9313\n",
      "Epoch 2/100\n",
      "790/790 [==============================] - ETA: 0s - loss: 0.1353 - accuracy: 0.9467\n",
      "Epoch 00002: val_accuracy improved from 0.93127 to 0.96047, saving model to ./rnn_classifier_en\\152weights.h5\n",
      "790/790 [==============================] - 51s 65ms/step - loss: 0.1353 - accuracy: 0.9467 - val_loss: 0.1100 - val_accuracy: 0.9605\n",
      "Epoch 3/100\n",
      "790/790 [==============================] - ETA: 0s - loss: 0.0926 - accuracy: 0.9629\n",
      "Epoch 00003: val_accuracy improved from 0.96047 to 0.96510, saving model to ./rnn_classifier_en\\152weights.h5\n",
      "790/790 [==============================] - 51s 64ms/step - loss: 0.0926 - accuracy: 0.9629 - val_loss: 0.0916 - val_accuracy: 0.9651\n",
      "Epoch 4/100\n",
      "790/790 [==============================] - ETA: 0s - loss: 0.0762 - accuracy: 0.9708\n",
      "Epoch 00004: val_accuracy improved from 0.96510 to 0.96759, saving model to ./rnn_classifier_en\\152weights.h5\n",
      "790/790 [==============================] - 51s 64ms/step - loss: 0.0762 - accuracy: 0.9708 - val_loss: 0.0783 - val_accuracy: 0.9676\n",
      "Epoch 5/100\n",
      "790/790 [==============================] - ETA: 0s - loss: 0.0661 - accuracy: 0.9737\n",
      "Epoch 00005: val_accuracy did not improve from 0.96759\n",
      "790/790 [==============================] - 52s 66ms/step - loss: 0.0661 - accuracy: 0.9737 - val_loss: 0.0979 - val_accuracy: 0.9583\n",
      "0.012969136\n",
      "./rnn_classifier_en -- Folder already exists \n",
      "\n",
      "32\n",
      "./rnn_classifier_en -- Folder already exists \n",
      "\n",
      "Epoch 1/100\n",
      "790/790 [==============================] - ETA: 0s - loss: 0.4059 - accuracy: 0.7989\n",
      "Epoch 00001: val_accuracy improved from -inf to 0.92453, saving model to ./rnn_classifier_en\\154weights.h5\n",
      "790/790 [==============================] - 49s 61ms/step - loss: 0.4059 - accuracy: 0.7989 - val_loss: 0.1871 - val_accuracy: 0.9245\n",
      "Epoch 2/100\n",
      "790/790 [==============================] - ETA: 0s - loss: 0.1358 - accuracy: 0.9483\n",
      "Epoch 00002: val_accuracy improved from 0.92453 to 0.95799, saving model to ./rnn_classifier_en\\154weights.h5\n",
      "790/790 [==============================] - 48s 60ms/step - loss: 0.1358 - accuracy: 0.9483 - val_loss: 0.1060 - val_accuracy: 0.9580\n",
      "Epoch 3/100\n",
      "790/790 [==============================] - ETA: 0s - loss: 0.0931 - accuracy: 0.9640\n",
      "Epoch 00003: val_accuracy improved from 0.95799 to 0.96333, saving model to ./rnn_classifier_en\\154weights.h5\n",
      "790/790 [==============================] - 48s 61ms/step - loss: 0.0931 - accuracy: 0.9640 - val_loss: 0.0932 - val_accuracy: 0.9633\n",
      "Epoch 4/100\n",
      "790/790 [==============================] - ETA: 0s - loss: 0.0765 - accuracy: 0.9707\n",
      "Epoch 00004: val_accuracy improved from 0.96333 to 0.96725, saving model to ./rnn_classifier_en\\154weights.h5\n",
      "790/790 [==============================] - 48s 61ms/step - loss: 0.0765 - accuracy: 0.9707 - val_loss: 0.0819 - val_accuracy: 0.9672\n",
      "Epoch 5/100\n",
      "790/790 [==============================] - ETA: 0s - loss: 0.0671 - accuracy: 0.9745\n",
      "Epoch 00005: val_accuracy did not improve from 0.96725\n",
      "790/790 [==============================] - 48s 61ms/step - loss: 0.0671 - accuracy: 0.9745 - val_loss: 0.0921 - val_accuracy: 0.9662\n",
      "0.03901717\n",
      "./rnn_classifier_en -- Folder already exists \n",
      "\n",
      "32\n",
      "./rnn_classifier_en -- Folder already exists \n",
      "\n",
      "Epoch 1/100\n",
      "790/791 [============================>.] - ETA: 0s - loss: 0.3848 - accuracy: 0.8120 ETA: 0s - loss: 0.3852 - accuracy: 0.81\n",
      "Epoch 00001: val_accuracy improved from -inf to 0.92456, saving model to ./rnn_classifier_en\\156weights.h5\n",
      "791/791 [==============================] - 51s 65ms/step - loss: 0.3847 - accuracy: 0.8120 - val_loss: 0.1787 - val_accuracy: 0.9246\n",
      "Epoch 2/100\n",
      "790/791 [============================>.] - ETA: 0s - loss: 0.1361 - accuracy: 0.9455 ETA: 0s - loss: 0\n",
      "Epoch 00002: val_accuracy improved from 0.92456 to 0.95338, saving model to ./rnn_classifier_en\\156weights.h5\n",
      "791/791 [==============================] - 51s 65ms/step - loss: 0.1361 - accuracy: 0.9455 - val_loss: 0.1176 - val_accuracy: 0.9534\n",
      "Epoch 3/100\n",
      "791/791 [==============================] - ETA: 0s - loss: 0.0885 - accuracy: 0.9662\n",
      "Epoch 00003: val_accuracy improved from 0.95338 to 0.96406, saving model to ./rnn_classifier_en\\156weights.h5\n",
      "791/791 [==============================] - 51s 64ms/step - loss: 0.0885 - accuracy: 0.9662 - val_loss: 0.1032 - val_accuracy: 0.9641\n",
      "Epoch 4/100\n",
      "790/791 [============================>.] - ETA: 0s - loss: 0.0730 - accuracy: 0.9712\n",
      "Epoch 00004: val_accuracy did not improve from 0.96406\n",
      "791/791 [==============================] - 52s 65ms/step - loss: 0.0731 - accuracy: 0.9713 - val_loss: 0.1007 - val_accuracy: 0.9637\n",
      "0.012116551\n",
      "./rnn_classifier_en -- Folder already exists \n",
      "\n",
      "32\n",
      "./rnn_classifier_en -- Folder already exists \n",
      "\n",
      "Epoch 1/100\n",
      "791/791 [==============================] - ETA: 0s - loss: 0.3985 - accuracy: 0.8032 ETA: 0s - loss: 0.3989 - accuracy: \n",
      "Epoch 00001: val_accuracy improved from -inf to 0.93208, saving model to ./rnn_classifier_en\\158weights.h5\n",
      "791/791 [==============================] - 51s 65ms/step - loss: 0.3985 - accuracy: 0.8032 - val_loss: 0.1768 - val_accuracy: 0.9321\n",
      "Epoch 2/100\n",
      "791/791 [==============================] - ETA: 0s - loss: 0.1362 - accuracy: 0.9465\n",
      "Epoch 00002: val_accuracy improved from 0.93208 to 0.95590, saving model to ./rnn_classifier_en\\158weights.h5\n",
      "791/791 [==============================] - 50s 64ms/step - loss: 0.1362 - accuracy: 0.9465 - val_loss: 0.1146 - val_accuracy: 0.9559\n",
      "Epoch 3/100\n",
      "791/791 [==============================] - ETA: 0s - loss: 0.0885 - accuracy: 0.9663\n",
      "Epoch 00003: val_accuracy improved from 0.95590 to 0.96124, saving model to ./rnn_classifier_en\\158weights.h5\n",
      "791/791 [==============================] - 50s 64ms/step - loss: 0.0885 - accuracy: 0.9663 - val_loss: 0.1151 - val_accuracy: 0.9612\n",
      "Epoch 4/100\n",
      "791/791 [==============================] - ETA: 0s - loss: 0.0758 - accuracy: 0.9709\n",
      "Epoch 00004: val_accuracy did not improve from 0.96124\n",
      "791/791 [==============================] - 50s 63ms/step - loss: 0.0758 - accuracy: 0.9709 - val_loss: 0.1091 - val_accuracy: 0.9591\n",
      "0.016956419\n",
      "./rnn_classifier_en -- Folder already exists \n",
      "\n",
      "32\n",
      "./rnn_classifier_en -- Folder already exists \n",
      "\n",
      "Epoch 1/100\n",
      "791/792 [============================>.] - ETA: 0s - loss: 0.3988 - accuracy: 0.7996\n",
      "Epoch 00001: val_accuracy improved from -inf to 0.91649, saving model to ./rnn_classifier_en\\160weights.h5\n",
      "792/792 [==============================] - 52s 65ms/step - loss: 0.3988 - accuracy: 0.7996 - val_loss: 0.1874 - val_accuracy: 0.9165\n",
      "Epoch 2/100\n",
      "791/792 [============================>.] - ETA: 0s - loss: 0.1313 - accuracy: 0.9490\n",
      "Epoch 00002: val_accuracy improved from 0.91649 to 0.94598, saving model to ./rnn_classifier_en\\160weights.h5\n",
      "792/792 [==============================] - 51s 64ms/step - loss: 0.1312 - accuracy: 0.9491 - val_loss: 0.1298 - val_accuracy: 0.9460\n",
      "Epoch 3/100\n",
      "792/792 [==============================] - ETA: 0s - loss: 0.0877 - accuracy: 0.9660\n",
      "Epoch 00003: val_accuracy improved from 0.94598 to 0.95629, saving model to ./rnn_classifier_en\\160weights.h5\n",
      "792/792 [==============================] - 51s 64ms/step - loss: 0.0877 - accuracy: 0.9660 - val_loss: 0.1138 - val_accuracy: 0.9563\n",
      "Epoch 4/100\n",
      "792/792 [==============================] - ETA: 0s - loss: 0.0722 - accuracy: 0.9723\n",
      "Epoch 00004: val_accuracy did not improve from 0.95629\n",
      "792/792 [==============================] - 51s 64ms/step - loss: 0.0722 - accuracy: 0.9723 - val_loss: 0.1111 - val_accuracy: 0.9556\n",
      "0.021055132\n",
      "./rnn_classifier_en -- Folder already exists \n",
      "\n",
      "32\n",
      "./rnn_classifier_en -- Folder already exists \n",
      "\n",
      "Epoch 1/100\n",
      "792/792 [==============================] - ETA: 0s - loss: 0.4031 - accuracy: 0.8008\n",
      "Epoch 00001: val_accuracy improved from -inf to 0.93393, saving model to ./rnn_classifier_en\\162weights.h5\n",
      "792/792 [==============================] - 52s 65ms/step - loss: 0.4031 - accuracy: 0.8008 - val_loss: 0.1675 - val_accuracy: 0.9339\n",
      "Epoch 2/100\n",
      "792/792 [==============================] - ETA: 0s - loss: 0.1347 - accuracy: 0.9481\n",
      "Epoch 00002: val_accuracy improved from 0.93393 to 0.96270, saving model to ./rnn_classifier_en\\162weights.h5\n",
      "792/792 [==============================] - 51s 65ms/step - loss: 0.1347 - accuracy: 0.9481 - val_loss: 0.1083 - val_accuracy: 0.9627\n",
      "Epoch 3/100\n",
      "792/792 [==============================] - ETA: 0s - loss: 0.0922 - accuracy: 0.9648\n",
      "Epoch 00003: val_accuracy improved from 0.96270 to 0.96448, saving model to ./rnn_classifier_en\\162weights.h5\n",
      "792/792 [==============================] - 52s 65ms/step - loss: 0.0922 - accuracy: 0.9648 - val_loss: 0.0977 - val_accuracy: 0.9645\n",
      "Epoch 4/100\n",
      "792/792 [==============================] - ETA: 0s - loss: 0.0734 - accuracy: 0.9713\n",
      "Epoch 00004: val_accuracy improved from 0.96448 to 0.96767, saving model to ./rnn_classifier_en\\162weights.h5\n",
      "792/792 [==============================] - 51s 65ms/step - loss: 0.0734 - accuracy: 0.9713 - val_loss: 0.0946 - val_accuracy: 0.9677\n",
      "Epoch 5/100\n",
      "792/792 [==============================] - ETA: 0s - loss: 0.0682 - accuracy: 0.9732\n",
      "Epoch 00005: val_accuracy did not improve from 0.96767\n",
      "792/792 [==============================] - 53s 67ms/step - loss: 0.0682 - accuracy: 0.9732 - val_loss: 0.0920 - val_accuracy: 0.9670\n",
      "0.051312685\n",
      "./rnn_classifier_en -- Folder already exists \n",
      "\n",
      "32\n",
      "./rnn_classifier_en -- Folder already exists \n",
      "\n",
      "Epoch 1/100\n",
      "792/793 [============================>.] - ETA: 0s - loss: 0.3921 - accuracy: 0.8058\n",
      "Epoch 00001: val_accuracy improved from -inf to 0.92261, saving model to ./rnn_classifier_en\\164weights.h5\n",
      "793/793 [==============================] - 52s 66ms/step - loss: 0.3920 - accuracy: 0.8058 - val_loss: 0.1868 - val_accuracy: 0.9226\n",
      "Epoch 2/100\n",
      "792/793 [============================>.] - ETA: 0s - loss: 0.1372 - accuracy: 0.9460\n",
      "Epoch 00002: val_accuracy improved from 0.92261 to 0.94533, saving model to ./rnn_classifier_en\\164weights.h5\n",
      "793/793 [==============================] - 50s 64ms/step - loss: 0.1372 - accuracy: 0.9460 - val_loss: 0.1254 - val_accuracy: 0.9453\n",
      "Epoch 3/100\n",
      "792/793 [============================>.] - ETA: 0s - loss: 0.0913 - accuracy: 0.9650\n",
      "Epoch 00003: val_accuracy improved from 0.94533 to 0.96024, saving model to ./rnn_classifier_en\\164weights.h5\n",
      "793/793 [==============================] - 51s 64ms/step - loss: 0.0913 - accuracy: 0.9650 - val_loss: 0.1040 - val_accuracy: 0.9602\n",
      "Epoch 4/100\n",
      "793/793 [==============================] - ETA: 0s - loss: 0.0752 - accuracy: 0.9716\n",
      "Epoch 00004: val_accuracy improved from 0.96024 to 0.96273, saving model to ./rnn_classifier_en\\164weights.h5\n",
      "793/793 [==============================] - 51s 64ms/step - loss: 0.0752 - accuracy: 0.9716 - val_loss: 0.0923 - val_accuracy: 0.9627\n",
      "Epoch 5/100\n"
     ]
    },
    {
     "name": "stdout",
     "output_type": "stream",
     "text": [
      "792/793 [============================>.] - ETA: 0s - loss: 0.0667 - accuracy: 0.9735\n",
      "Epoch 00005: val_accuracy improved from 0.96273 to 0.96734, saving model to ./rnn_classifier_en\\164weights.h5\n",
      "793/793 [==============================] - 51s 64ms/step - loss: 0.0667 - accuracy: 0.9735 - val_loss: 0.0909 - val_accuracy: 0.9673\n",
      "Epoch 6/100\n",
      "792/793 [============================>.] - ETA: 0s - loss: 0.0599 - accuracy: 0.9772\n",
      "Epoch 00006: val_accuracy did not improve from 0.96734\n",
      "793/793 [==============================] - 51s 64ms/step - loss: 0.0599 - accuracy: 0.9772 - val_loss: 0.0958 - val_accuracy: 0.9610\n",
      "0.0073289573\n",
      "./rnn_classifier_en -- Folder already exists \n",
      "\n",
      "32\n",
      "./rnn_classifier_en -- Folder already exists \n",
      "\n",
      "Epoch 1/100\n",
      "793/793 [==============================] - ETA: 0s - loss: 0.4062 - accuracy: 0.7985\n",
      "Epoch 00001: val_accuracy improved from -inf to 0.91874, saving model to ./rnn_classifier_en\\166weights.h5\n",
      "793/793 [==============================] - 51s 65ms/step - loss: 0.4062 - accuracy: 0.7985 - val_loss: 0.1909 - val_accuracy: 0.9187\n",
      "Epoch 2/100\n",
      "793/793 [==============================] - ETA: 0s - loss: 0.1354 - accuracy: 0.9464 ETA: 0s - loss:\n",
      "Epoch 00002: val_accuracy improved from 0.91874 to 0.95067, saving model to ./rnn_classifier_en\\166weights.h5\n",
      "793/793 [==============================] - 51s 64ms/step - loss: 0.1354 - accuracy: 0.9464 - val_loss: 0.1264 - val_accuracy: 0.9507\n",
      "Epoch 3/100\n",
      "793/793 [==============================] - ETA: 0s - loss: 0.0887 - accuracy: 0.9641\n",
      "Epoch 00003: val_accuracy improved from 0.95067 to 0.95777, saving model to ./rnn_classifier_en\\166weights.h5\n",
      "793/793 [==============================] - 51s 64ms/step - loss: 0.0887 - accuracy: 0.9641 - val_loss: 0.1119 - val_accuracy: 0.9578\n",
      "Epoch 4/100\n",
      "793/793 [==============================] - ETA: 0s - loss: 0.0748 - accuracy: 0.9713\n",
      "Epoch 00004: val_accuracy improved from 0.95777 to 0.96380, saving model to ./rnn_classifier_en\\166weights.h5\n",
      "793/793 [==============================] - 50s 64ms/step - loss: 0.0748 - accuracy: 0.9713 - val_loss: 0.0996 - val_accuracy: 0.9638\n",
      "Epoch 5/100\n",
      "793/793 [==============================] - ETA: 0s - loss: 0.0638 - accuracy: 0.9743\n",
      "Epoch 00005: val_accuracy improved from 0.96380 to 0.96487, saving model to ./rnn_classifier_en\\166weights.h5\n",
      "793/793 [==============================] - 51s 64ms/step - loss: 0.0638 - accuracy: 0.9743 - val_loss: 0.1006 - val_accuracy: 0.9649\n",
      "Epoch 6/100\n",
      "793/793 [==============================] - ETA: 0s - loss: 0.0578 - accuracy: 0.9769 ETA: 0s - loss: 0.0576 - accura\n",
      "Epoch 00006: val_accuracy did not improve from 0.96487\n",
      "793/793 [==============================] - 52s 65ms/step - loss: 0.0578 - accuracy: 0.9769 - val_loss: 0.0957 - val_accuracy: 0.9624\n",
      "0.010074675\n",
      "./rnn_classifier_en -- Folder already exists \n",
      "\n",
      "32\n",
      "./rnn_classifier_en -- Folder already exists \n",
      "\n",
      "Epoch 1/100\n",
      "793/793 [==============================] - ETA: 0s - loss: 0.3933 - accuracy: 0.8062\n",
      "Epoch 00001: val_accuracy improved from -inf to 0.92979, saving model to ./rnn_classifier_en\\168weights.h5\n",
      "793/793 [==============================] - 52s 66ms/step - loss: 0.3933 - accuracy: 0.8062 - val_loss: 0.1726 - val_accuracy: 0.9298\n",
      "Epoch 2/100\n",
      "793/793 [==============================] - ETA: 0s - loss: 0.1353 - accuracy: 0.9460 ETA: 0s - loss: 0.134\n",
      "Epoch 00002: val_accuracy improved from 0.92979 to 0.94965, saving model to ./rnn_classifier_en\\168weights.h5\n",
      "793/793 [==============================] - 52s 66ms/step - loss: 0.1353 - accuracy: 0.9460 - val_loss: 0.1298 - val_accuracy: 0.9496\n",
      "Epoch 3/100\n",
      "793/793 [==============================] - ETA: 0s - loss: 0.0911 - accuracy: 0.9651\n",
      "Epoch 00003: val_accuracy improved from 0.94965 to 0.96028, saving model to ./rnn_classifier_en\\168weights.h5\n",
      "793/793 [==============================] - 52s 65ms/step - loss: 0.0911 - accuracy: 0.9651 - val_loss: 0.0969 - val_accuracy: 0.9603\n",
      "Epoch 4/100\n",
      "793/793 [==============================] - ETA: 0s - loss: 0.0744 - accuracy: 0.9711\n",
      "Epoch 00004: val_accuracy improved from 0.96028 to 0.96348, saving model to ./rnn_classifier_en\\168weights.h5\n",
      "793/793 [==============================] - 52s 65ms/step - loss: 0.0744 - accuracy: 0.9711 - val_loss: 0.0977 - val_accuracy: 0.9635\n",
      "Epoch 5/100\n",
      "793/793 [==============================] - ETA: 0s - loss: 0.0680 - accuracy: 0.9735\n",
      "Epoch 00005: val_accuracy did not improve from 0.96348\n",
      "793/793 [==============================] - 52s 65ms/step - loss: 0.0680 - accuracy: 0.9735 - val_loss: 0.1160 - val_accuracy: 0.9582\n",
      "0.013523817\n",
      "./rnn_classifier_en -- Folder already exists \n",
      "\n",
      "32\n",
      "./rnn_classifier_en -- Folder already exists \n",
      "\n",
      "Epoch 1/100\n",
      "793/794 [============================>.] - ETA: 0s - loss: 0.3987 - accuracy: 0.8010\n",
      "Epoch 00001: val_accuracy improved from -inf to 0.92591, saving model to ./rnn_classifier_en\\170weights.h5\n",
      "794/794 [==============================] - 52s 66ms/step - loss: 0.3985 - accuracy: 0.8011 - val_loss: 0.1809 - val_accuracy: 0.9259\n",
      "Epoch 2/100\n",
      "793/794 [============================>.] - ETA: 0s - loss: 0.1345 - accuracy: 0.9488\n",
      "Epoch 00002: val_accuracy improved from 0.92591 to 0.95640, saving model to ./rnn_classifier_en\\170weights.h5\n",
      "794/794 [==============================] - 51s 64ms/step - loss: 0.1345 - accuracy: 0.9488 - val_loss: 0.1111 - val_accuracy: 0.9564\n",
      "Epoch 3/100\n",
      "793/794 [============================>.] - ETA: 0s - loss: 0.0909 - accuracy: 0.9644\n",
      "Epoch 00003: val_accuracy improved from 0.95640 to 0.96703, saving model to ./rnn_classifier_en\\170weights.h5\n",
      "794/794 [==============================] - 51s 65ms/step - loss: 0.0909 - accuracy: 0.9644 - val_loss: 0.0768 - val_accuracy: 0.9670\n",
      "Epoch 4/100\n",
      "793/794 [============================>.] - ETA: 0s - loss: 0.0735 - accuracy: 0.9723 ETA: 0s - loss: 0.0735 - accu\n",
      "Epoch 00004: val_accuracy improved from 0.96703 to 0.96810, saving model to ./rnn_classifier_en\\170weights.h5\n",
      "794/794 [==============================] - 51s 65ms/step - loss: 0.0736 - accuracy: 0.9722 - val_loss: 0.0761 - val_accuracy: 0.9681\n",
      "Epoch 5/100\n",
      "793/794 [============================>.] - ETA: 0s - loss: 0.0647 - accuracy: 0.9757\n",
      "Epoch 00005: val_accuracy improved from 0.96810 to 0.97022, saving model to ./rnn_classifier_en\\170weights.h5\n",
      "794/794 [==============================] - 51s 65ms/step - loss: 0.0648 - accuracy: 0.9757 - val_loss: 0.0742 - val_accuracy: 0.9702\n",
      "Epoch 6/100\n",
      "793/794 [============================>.] - ETA: 0s - loss: 0.0599 - accuracy: 0.9765\n",
      "Epoch 00006: val_accuracy did not improve from 0.97022\n",
      "794/794 [==============================] - 51s 64ms/step - loss: 0.0600 - accuracy: 0.9764 - val_loss: 0.0810 - val_accuracy: 0.9681\n",
      "0.05217272\n",
      "./rnn_classifier_en -- Folder already exists \n",
      "\n",
      "32\n",
      "./rnn_classifier_en -- Folder already exists \n",
      "\n",
      "Epoch 1/100\n",
      "794/794 [==============================] - ETA: 0s - loss: 0.3827 - accuracy: 0.8131\n",
      "Epoch 00001: val_accuracy improved from -inf to 0.92594, saving model to ./rnn_classifier_en\\172weights.h5\n",
      "794/794 [==============================] - 53s 66ms/step - loss: 0.3827 - accuracy: 0.8131 - val_loss: 0.1886 - val_accuracy: 0.9259\n",
      "Epoch 2/100\n",
      "794/794 [==============================] - ETA: 0s - loss: 0.1283 - accuracy: 0.9494\n",
      "Epoch 00002: val_accuracy improved from 0.92594 to 0.94649, saving model to ./rnn_classifier_en\\172weights.h5\n",
      "794/794 [==============================] - 53s 66ms/step - loss: 0.1283 - accuracy: 0.9494 - val_loss: 0.1352 - val_accuracy: 0.9465\n",
      "Epoch 3/100\n",
      "794/794 [==============================] - ETA: 0s - loss: 0.0883 - accuracy: 0.9674\n",
      "Epoch 00003: val_accuracy improved from 0.94649 to 0.95748, saving model to ./rnn_classifier_en\\172weights.h5\n",
      "794/794 [==============================] - 52s 66ms/step - loss: 0.0883 - accuracy: 0.9674 - val_loss: 0.1081 - val_accuracy: 0.9575\n",
      "Epoch 4/100\n",
      "794/794 [==============================] - ETA: 0s - loss: 0.0701 - accuracy: 0.9732\n",
      "Epoch 00004: val_accuracy improved from 0.95748 to 0.95783, saving model to ./rnn_classifier_en\\172weights.h5\n",
      "794/794 [==============================] - 52s 65ms/step - loss: 0.0701 - accuracy: 0.9732 - val_loss: 0.1083 - val_accuracy: 0.9578\n",
      "Epoch 5/100\n",
      "794/794 [==============================] - ETA: 0s - loss: 0.0646 - accuracy: 0.9751\n",
      "Epoch 00005: val_accuracy improved from 0.95783 to 0.95854, saving model to ./rnn_classifier_en\\172weights.h5\n",
      "794/794 [==============================] - 53s 67ms/step - loss: 0.0646 - accuracy: 0.9751 - val_loss: 0.1190 - val_accuracy: 0.9585\n",
      "Epoch 6/100\n",
      "794/794 [==============================] - ETA: 0s - loss: 0.0596 - accuracy: 0.9762\n",
      "Epoch 00006: val_accuracy improved from 0.95854 to 0.95960, saving model to ./rnn_classifier_en\\172weights.h5\n",
      "794/794 [==============================] - 52s 66ms/step - loss: 0.0596 - accuracy: 0.9762 - val_loss: 0.1096 - val_accuracy: 0.9596\n",
      "Epoch 7/100\n",
      "794/794 [==============================] - ETA: 0s - loss: 0.0566 - accuracy: 0.9789\n",
      "Epoch 00007: val_accuracy did not improve from 0.95960\n",
      "794/794 [==============================] - 51s 65ms/step - loss: 0.0566 - accuracy: 0.9789 - val_loss: 0.1138 - val_accuracy: 0.9592\n",
      "0.015880913\n",
      "./rnn_classifier_en -- Folder already exists \n",
      "\n",
      "32\n",
      "./rnn_classifier_en -- Folder already exists \n",
      "\n",
      "Epoch 1/100\n",
      "794/795 [============================>.] - ETA: 0s - loss: 0.4129 - accuracy: 0.7921\n",
      "Epoch 00001: val_accuracy improved from -inf to 0.89381, saving model to ./rnn_classifier_en\\174weights.h5\n",
      "795/795 [==============================] - 52s 66ms/step - loss: 0.4128 - accuracy: 0.7921 - val_loss: 0.2414 - val_accuracy: 0.8938\n",
      "Epoch 2/100\n",
      "794/795 [============================>.] - ETA: 0s - loss: 0.1394 - accuracy: 0.9443\n",
      "Epoch 00002: val_accuracy improved from 0.89381 to 0.95292, saving model to ./rnn_classifier_en\\174weights.h5\n",
      "795/795 [==============================] - 52s 66ms/step - loss: 0.1394 - accuracy: 0.9443 - val_loss: 0.1218 - val_accuracy: 0.9529\n",
      "Epoch 3/100\n",
      "794/795 [============================>.] - ETA: 0s - loss: 0.0931 - accuracy: 0.9640\n",
      "Epoch 00003: val_accuracy improved from 0.95292 to 0.96248, saving model to ./rnn_classifier_en\\174weights.h5\n",
      "795/795 [==============================] - 52s 65ms/step - loss: 0.0931 - accuracy: 0.9640 - val_loss: 0.1019 - val_accuracy: 0.9625\n",
      "Epoch 4/100\n",
      "794/795 [============================>.] - ETA: 0s - loss: 0.0742 - accuracy: 0.9711\n",
      "Epoch 00004: val_accuracy did not improve from 0.96248\n",
      "795/795 [==============================] - 52s 65ms/step - loss: 0.0742 - accuracy: 0.9711 - val_loss: 0.1165 - val_accuracy: 0.9596\n",
      "0.057927966\n",
      "./rnn_classifier_en -- Folder already exists \n",
      "\n",
      "32\n",
      "./rnn_classifier_en -- Folder already exists \n",
      "\n",
      "Epoch 1/100\n",
      "795/795 [==============================] - ETA: 0s - loss: 0.3684 - accuracy: 0.8210\n",
      "Epoch 00001: val_accuracy improved from -inf to 0.93310, saving model to ./rnn_classifier_en\\176weights.h5\n",
      "795/795 [==============================] - 52s 66ms/step - loss: 0.3684 - accuracy: 0.8210 - val_loss: 0.1651 - val_accuracy: 0.9331\n",
      "Epoch 2/100\n",
      "795/795 [==============================] - ETA: 0s - loss: 0.1317 - accuracy: 0.9481\n",
      "Epoch 00002: val_accuracy improved from 0.93310 to 0.96177, saving model to ./rnn_classifier_en\\176weights.h5\n",
      "795/795 [==============================] - 52s 65ms/step - loss: 0.1317 - accuracy: 0.9481 - val_loss: 0.1076 - val_accuracy: 0.9618\n",
      "Epoch 3/100\n",
      "795/795 [==============================] - ETA: 0s - loss: 0.0945 - accuracy: 0.9642\n",
      "Epoch 00003: val_accuracy improved from 0.96177 to 0.96354, saving model to ./rnn_classifier_en\\176weights.h5\n",
      "795/795 [==============================] - 52s 65ms/step - loss: 0.0945 - accuracy: 0.9642 - val_loss: 0.0946 - val_accuracy: 0.9635\n",
      "Epoch 4/100\n",
      "795/795 [==============================] - ETA: 0s - loss: 0.0742 - accuracy: 0.9723\n",
      "Epoch 00004: val_accuracy did not improve from 0.96354\n",
      "795/795 [==============================] - 52s 65ms/step - loss: 0.0742 - accuracy: 0.9723 - val_loss: 0.0924 - val_accuracy: 0.9632\n",
      "0.009302348\n",
      "./rnn_classifier_en -- Folder already exists \n",
      "\n",
      "32\n",
      "./rnn_classifier_en -- Folder already exists \n",
      "\n",
      "Epoch 1/100\n",
      "795/795 [==============================] - ETA: 0s - loss: 0.3978 - accuracy: 0.8040\n",
      "Epoch 00001: val_accuracy improved from -inf to 0.92003, saving model to ./rnn_classifier_en\\178weights.h5\n",
      "795/795 [==============================] - 52s 66ms/step - loss: 0.3978 - accuracy: 0.8040 - val_loss: 0.1882 - val_accuracy: 0.9200\n",
      "Epoch 2/100\n",
      "795/795 [==============================] - ETA: 0s - loss: 0.1326 - accuracy: 0.9485\n",
      "Epoch 00002: val_accuracy improved from 0.92003 to 0.95541, saving model to ./rnn_classifier_en\\178weights.h5\n",
      "795/795 [==============================] - 52s 65ms/step - loss: 0.1326 - accuracy: 0.9485 - val_loss: 0.1189 - val_accuracy: 0.9554\n",
      "Epoch 3/100\n",
      "795/795 [==============================] - ETA: 0s - loss: 0.0902 - accuracy: 0.9654\n",
      "Epoch 00003: val_accuracy did not improve from 0.95541\n",
      "795/795 [==============================] - 52s 65ms/step - loss: 0.0902 - accuracy: 0.9654 - val_loss: 0.1137 - val_accuracy: 0.9540\n",
      "0.029550403\n",
      "./rnn_classifier_en -- Folder already exists \n",
      "\n",
      "32\n",
      "./rnn_classifier_en -- Folder already exists \n",
      "\n",
      "Epoch 1/100\n",
      "795/795 [==============================] - ETA: 0s - loss: 0.3978 - accuracy: 0.8009\n",
      "Epoch 00001: val_accuracy improved from -inf to 0.93067, saving model to ./rnn_classifier_en\\180weights.h5\n",
      "795/795 [==============================] - 52s 66ms/step - loss: 0.3978 - accuracy: 0.8009 - val_loss: 0.1815 - val_accuracy: 0.9307\n",
      "Epoch 2/100\n",
      "795/795 [==============================] - ETA: 0s - loss: 0.1346 - accuracy: 0.9483\n",
      "Epoch 00002: val_accuracy improved from 0.93067 to 0.95755, saving model to ./rnn_classifier_en\\180weights.h5\n",
      "795/795 [==============================] - 52s 66ms/step - loss: 0.1346 - accuracy: 0.9483 - val_loss: 0.1106 - val_accuracy: 0.9576\n",
      "Epoch 3/100\n",
      "795/795 [==============================] - ETA: 0s - loss: 0.0895 - accuracy: 0.9667\n",
      "Epoch 00003: val_accuracy improved from 0.95755 to 0.96109, saving model to ./rnn_classifier_en\\180weights.h5\n",
      "795/795 [==============================] - 52s 66ms/step - loss: 0.0895 - accuracy: 0.9667 - val_loss: 0.0869 - val_accuracy: 0.9611\n",
      "Epoch 4/100\n",
      "795/795 [==============================] - ETA: 0s - loss: 0.0752 - accuracy: 0.9716\n",
      "Epoch 00004: val_accuracy did not improve from 0.96109\n",
      "795/795 [==============================] - 52s 66ms/step - loss: 0.0752 - accuracy: 0.9716 - val_loss: 0.0894 - val_accuracy: 0.9590\n",
      "0.032877296\n",
      "./rnn_classifier_en -- Folder already exists \n",
      "\n",
      "32\n",
      "./rnn_classifier_en -- Folder already exists \n",
      "\n",
      "Epoch 1/100\n",
      "795/796 [============================>.] - ETA: 0s - loss: 0.3849 - accuracy: 0.8105\n",
      "Epoch 00001: val_accuracy improved from -inf to 0.92716, saving model to ./rnn_classifier_en\\182weights.h5\n",
      "796/796 [==============================] - 53s 67ms/step - loss: 0.3848 - accuracy: 0.8105 - val_loss: 0.1743 - val_accuracy: 0.9272\n",
      "Epoch 2/100\n",
      "795/796 [============================>.] - ETA: 0s - loss: 0.1372 - accuracy: 0.9462\n",
      "Epoch 00002: val_accuracy improved from 0.92716 to 0.95651, saving model to ./rnn_classifier_en\\182weights.h5\n",
      "796/796 [==============================] - 52s 66ms/step - loss: 0.1372 - accuracy: 0.9462 - val_loss: 0.1153 - val_accuracy: 0.9565\n",
      "Epoch 3/100\n",
      "795/796 [============================>.] - ETA: 0s - loss: 0.0932 - accuracy: 0.9642\n",
      "Epoch 00003: val_accuracy improved from 0.95651 to 0.96252, saving model to ./rnn_classifier_en\\182weights.h5\n",
      "796/796 [==============================] - 52s 65ms/step - loss: 0.0931 - accuracy: 0.9642 - val_loss: 0.0939 - val_accuracy: 0.9625\n",
      "Epoch 4/100\n",
      "795/796 [============================>.] - ETA: 0s - loss: 0.0725 - accuracy: 0.9728 ETA: 0s - loss: 0.0727 - accuracy: 0.\n",
      "Epoch 00004: val_accuracy improved from 0.96252 to 0.96535, saving model to ./rnn_classifier_en\\182weights.h5\n",
      "796/796 [==============================] - 52s 65ms/step - loss: 0.0725 - accuracy: 0.9728 - val_loss: 0.0895 - val_accuracy: 0.9653\n",
      "Epoch 5/100\n",
      "795/796 [============================>.] - ETA: 0s - loss: 0.0654 - accuracy: 0.9746\n",
      "Epoch 00005: val_accuracy did not improve from 0.96535\n",
      "796/796 [==============================] - 52s 65ms/step - loss: 0.0654 - accuracy: 0.9746 - val_loss: 0.1033 - val_accuracy: 0.9600\n",
      "0.026591182\n",
      "./rnn_classifier_en -- Folder already exists \n",
      "\n",
      "32\n",
      "./rnn_classifier_en -- Folder already exists \n",
      "\n",
      "Epoch 1/100\n"
     ]
    },
    {
     "name": "stdout",
     "output_type": "stream",
     "text": [
      "796/796 [==============================] - ETA: 0s - loss: 0.4059 - accuracy: 0.7995\n",
      "Epoch 00001: val_accuracy improved from -inf to 0.93284, saving model to ./rnn_classifier_en\\184weights.h5\n",
      "796/796 [==============================] - 54s 68ms/step - loss: 0.4059 - accuracy: 0.7995 - val_loss: 0.1898 - val_accuracy: 0.9328\n",
      "Epoch 2/100\n",
      "796/796 [==============================] - ETA: 0s - loss: 0.1369 - accuracy: 0.9460\n",
      "Epoch 00002: val_accuracy improved from 0.93284 to 0.96288, saving model to ./rnn_classifier_en\\184weights.h5\n",
      "796/796 [==============================] - 54s 68ms/step - loss: 0.1369 - accuracy: 0.9460 - val_loss: 0.0961 - val_accuracy: 0.9629\n",
      "Epoch 3/100\n",
      "796/796 [==============================] - ETA: 0s - loss: 0.0944 - accuracy: 0.9648\n",
      "Epoch 00003: val_accuracy improved from 0.96288 to 0.97137, saving model to ./rnn_classifier_en\\184weights.h5\n",
      "796/796 [==============================] - 53s 67ms/step - loss: 0.0944 - accuracy: 0.9648 - val_loss: 0.0786 - val_accuracy: 0.9714\n",
      "Epoch 4/100\n",
      "796/796 [==============================] - ETA: 0s - loss: 0.0750 - accuracy: 0.9707\n",
      "Epoch 00004: val_accuracy did not improve from 0.97137\n",
      "796/796 [==============================] - 53s 67ms/step - loss: 0.0750 - accuracy: 0.9707 - val_loss: 0.0778 - val_accuracy: 0.9682\n",
      "0.050284564\n",
      "./rnn_classifier_en -- Folder already exists \n",
      "\n",
      "32\n",
      "./rnn_classifier_en -- Folder already exists \n",
      "\n",
      "Epoch 1/100\n",
      "796/796 [==============================] - ETA: 0s - loss: 0.4238 - accuracy: 0.7859\n",
      "Epoch 00001: val_accuracy improved from -inf to 0.91908, saving model to ./rnn_classifier_en\\186weights.h5\n",
      "796/796 [==============================] - 54s 68ms/step - loss: 0.4238 - accuracy: 0.7859 - val_loss: 0.2032 - val_accuracy: 0.9191\n",
      "Epoch 2/100\n",
      "796/796 [==============================] - ETA: 0s - loss: 0.1419 - accuracy: 0.9439\n",
      "Epoch 00002: val_accuracy improved from 0.91908 to 0.95336, saving model to ./rnn_classifier_en\\186weights.h5\n",
      "796/796 [==============================] - 53s 66ms/step - loss: 0.1419 - accuracy: 0.9439 - val_loss: 0.1263 - val_accuracy: 0.9534\n",
      "Epoch 3/100\n",
      "796/796 [==============================] - ETA: 0s - loss: 0.0918 - accuracy: 0.9641\n",
      "Epoch 00003: val_accuracy improved from 0.95336 to 0.95866, saving model to ./rnn_classifier_en\\186weights.h5\n",
      "796/796 [==============================] - 53s 67ms/step - loss: 0.0918 - accuracy: 0.9641 - val_loss: 0.1148 - val_accuracy: 0.9587\n",
      "Epoch 4/100\n",
      "796/796 [==============================] - ETA: 0s - loss: 0.0761 - accuracy: 0.9706\n",
      "Epoch 00004: val_accuracy did not improve from 0.95866\n",
      "796/796 [==============================] - 53s 67ms/step - loss: 0.0761 - accuracy: 0.9706 - val_loss: 0.1086 - val_accuracy: 0.9558\n",
      "0.03380841\n",
      "./rnn_classifier_en -- Folder already exists \n",
      "\n",
      "32\n",
      "./rnn_classifier_en -- Folder already exists \n",
      "\n",
      "Epoch 1/100\n",
      "796/797 [============================>.] - ETA: 0s - loss: 0.4030 - accuracy: 0.7974\n",
      "Epoch 00001: val_accuracy improved from -inf to 0.92688, saving model to ./rnn_classifier_en\\188weights.h5\n",
      "797/797 [==============================] - 54s 68ms/step - loss: 0.4030 - accuracy: 0.7975 - val_loss: 0.1897 - val_accuracy: 0.9269\n",
      "Epoch 2/100\n",
      "796/797 [============================>.] - ETA: 0s - loss: 0.1370 - accuracy: 0.9457\n",
      "Epoch 00002: val_accuracy improved from 0.92688 to 0.94772, saving model to ./rnn_classifier_en\\188weights.h5\n",
      "797/797 [==============================] - 53s 67ms/step - loss: 0.1370 - accuracy: 0.9456 - val_loss: 0.1281 - val_accuracy: 0.9477\n",
      "Epoch 3/100\n",
      "130/797 [===>..........................] - ETA: 43s - loss: 0.0827 - accuracy: 0.9685"
     ]
    },
    {
     "ename": "KeyboardInterrupt",
     "evalue": "",
     "output_type": "error",
     "traceback": [
      "\u001b[1;31m---------------------------------------------------------------------------\u001b[0m",
      "\u001b[1;31mKeyboardInterrupt\u001b[0m                         Traceback (most recent call last)",
      "\u001b[1;32m<ipython-input-2306-3b23b1b0621b>\u001b[0m in \u001b[0;36m<module>\u001b[1;34m\u001b[0m\n\u001b[0;32m      8\u001b[0m     \u001b[0mcheck_tr\u001b[0m\u001b[1;33m(\u001b[0m\u001b[1;33m)\u001b[0m\u001b[1;33m\u001b[0m\u001b[1;33m\u001b[0m\u001b[0m\n\u001b[0;32m      9\u001b[0m \u001b[1;33m\u001b[0m\u001b[0m\n\u001b[1;32m---> 10\u001b[1;33m     \u001b[0mmodel_build_predict\u001b[0m\u001b[1;33m(\u001b[0m\u001b[1;36m0\u001b[0m\u001b[1;33m)\u001b[0m\u001b[1;33m\u001b[0m\u001b[1;33m\u001b[0m\u001b[0m\n\u001b[0m\u001b[0;32m     11\u001b[0m \u001b[1;33m\u001b[0m\u001b[0m\n\u001b[0;32m     12\u001b[0m     \u001b[1;32mwhile\u001b[0m \u001b[1;36m1\u001b[0m\u001b[1;33m:\u001b[0m\u001b[1;33m\u001b[0m\u001b[1;33m\u001b[0m\u001b[0m\n",
      "\u001b[1;32m<ipython-input-2304-257127922527>\u001b[0m in \u001b[0;36mmodel_build_predict\u001b[1;34m(b)\u001b[0m\n\u001b[0;32m     63\u001b[0m                   metrics=[tf.keras.metrics.BinaryAccuracy(name='accuracy')])\n\u001b[0;32m     64\u001b[0m \u001b[1;33m\u001b[0m\u001b[0m\n\u001b[1;32m---> 65\u001b[1;33m     history = model.fit(train_input, train_label, batch_size=BATCH_SIZE, epochs=NUM_EPOCHS,\n\u001b[0m\u001b[0;32m     66\u001b[0m                     validation_split=VALID_SPLIT, callbacks=[earlystop_callback, cp_callback])\n\u001b[0;32m     67\u001b[0m \u001b[1;33m\u001b[0m\u001b[0m\n",
      "\u001b[1;32m~\\anaconda3\\lib\\site-packages\\tensorflow\\python\\keras\\engine\\training.py\u001b[0m in \u001b[0;36m_method_wrapper\u001b[1;34m(self, *args, **kwargs)\u001b[0m\n\u001b[0;32m    106\u001b[0m   \u001b[1;32mdef\u001b[0m \u001b[0m_method_wrapper\u001b[0m\u001b[1;33m(\u001b[0m\u001b[0mself\u001b[0m\u001b[1;33m,\u001b[0m \u001b[1;33m*\u001b[0m\u001b[0margs\u001b[0m\u001b[1;33m,\u001b[0m \u001b[1;33m**\u001b[0m\u001b[0mkwargs\u001b[0m\u001b[1;33m)\u001b[0m\u001b[1;33m:\u001b[0m\u001b[1;33m\u001b[0m\u001b[1;33m\u001b[0m\u001b[0m\n\u001b[0;32m    107\u001b[0m     \u001b[1;32mif\u001b[0m \u001b[1;32mnot\u001b[0m \u001b[0mself\u001b[0m\u001b[1;33m.\u001b[0m\u001b[0m_in_multi_worker_mode\u001b[0m\u001b[1;33m(\u001b[0m\u001b[1;33m)\u001b[0m\u001b[1;33m:\u001b[0m  \u001b[1;31m# pylint: disable=protected-access\u001b[0m\u001b[1;33m\u001b[0m\u001b[1;33m\u001b[0m\u001b[0m\n\u001b[1;32m--> 108\u001b[1;33m       \u001b[1;32mreturn\u001b[0m \u001b[0mmethod\u001b[0m\u001b[1;33m(\u001b[0m\u001b[0mself\u001b[0m\u001b[1;33m,\u001b[0m \u001b[1;33m*\u001b[0m\u001b[0margs\u001b[0m\u001b[1;33m,\u001b[0m \u001b[1;33m**\u001b[0m\u001b[0mkwargs\u001b[0m\u001b[1;33m)\u001b[0m\u001b[1;33m\u001b[0m\u001b[1;33m\u001b[0m\u001b[0m\n\u001b[0m\u001b[0;32m    109\u001b[0m \u001b[1;33m\u001b[0m\u001b[0m\n\u001b[0;32m    110\u001b[0m     \u001b[1;31m# Running inside `run_distribute_coordinator` already.\u001b[0m\u001b[1;33m\u001b[0m\u001b[1;33m\u001b[0m\u001b[1;33m\u001b[0m\u001b[0m\n",
      "\u001b[1;32m~\\anaconda3\\lib\\site-packages\\tensorflow\\python\\keras\\engine\\training.py\u001b[0m in \u001b[0;36mfit\u001b[1;34m(self, x, y, batch_size, epochs, verbose, callbacks, validation_split, validation_data, shuffle, class_weight, sample_weight, initial_epoch, steps_per_epoch, validation_steps, validation_batch_size, validation_freq, max_queue_size, workers, use_multiprocessing)\u001b[0m\n\u001b[0;32m   1096\u001b[0m                 batch_size=batch_size):\n\u001b[0;32m   1097\u001b[0m               \u001b[0mcallbacks\u001b[0m\u001b[1;33m.\u001b[0m\u001b[0mon_train_batch_begin\u001b[0m\u001b[1;33m(\u001b[0m\u001b[0mstep\u001b[0m\u001b[1;33m)\u001b[0m\u001b[1;33m\u001b[0m\u001b[1;33m\u001b[0m\u001b[0m\n\u001b[1;32m-> 1098\u001b[1;33m               \u001b[0mtmp_logs\u001b[0m \u001b[1;33m=\u001b[0m \u001b[0mtrain_function\u001b[0m\u001b[1;33m(\u001b[0m\u001b[0miterator\u001b[0m\u001b[1;33m)\u001b[0m\u001b[1;33m\u001b[0m\u001b[1;33m\u001b[0m\u001b[0m\n\u001b[0m\u001b[0;32m   1099\u001b[0m               \u001b[1;32mif\u001b[0m \u001b[0mdata_handler\u001b[0m\u001b[1;33m.\u001b[0m\u001b[0mshould_sync\u001b[0m\u001b[1;33m:\u001b[0m\u001b[1;33m\u001b[0m\u001b[1;33m\u001b[0m\u001b[0m\n\u001b[0;32m   1100\u001b[0m                 \u001b[0mcontext\u001b[0m\u001b[1;33m.\u001b[0m\u001b[0masync_wait\u001b[0m\u001b[1;33m(\u001b[0m\u001b[1;33m)\u001b[0m\u001b[1;33m\u001b[0m\u001b[1;33m\u001b[0m\u001b[0m\n",
      "\u001b[1;32m~\\anaconda3\\lib\\site-packages\\tensorflow\\python\\eager\\def_function.py\u001b[0m in \u001b[0;36m__call__\u001b[1;34m(self, *args, **kwds)\u001b[0m\n\u001b[0;32m    778\u001b[0m       \u001b[1;32melse\u001b[0m\u001b[1;33m:\u001b[0m\u001b[1;33m\u001b[0m\u001b[1;33m\u001b[0m\u001b[0m\n\u001b[0;32m    779\u001b[0m         \u001b[0mcompiler\u001b[0m \u001b[1;33m=\u001b[0m \u001b[1;34m\"nonXla\"\u001b[0m\u001b[1;33m\u001b[0m\u001b[1;33m\u001b[0m\u001b[0m\n\u001b[1;32m--> 780\u001b[1;33m         \u001b[0mresult\u001b[0m \u001b[1;33m=\u001b[0m \u001b[0mself\u001b[0m\u001b[1;33m.\u001b[0m\u001b[0m_call\u001b[0m\u001b[1;33m(\u001b[0m\u001b[1;33m*\u001b[0m\u001b[0margs\u001b[0m\u001b[1;33m,\u001b[0m \u001b[1;33m**\u001b[0m\u001b[0mkwds\u001b[0m\u001b[1;33m)\u001b[0m\u001b[1;33m\u001b[0m\u001b[1;33m\u001b[0m\u001b[0m\n\u001b[0m\u001b[0;32m    781\u001b[0m \u001b[1;33m\u001b[0m\u001b[0m\n\u001b[0;32m    782\u001b[0m       \u001b[0mnew_tracing_count\u001b[0m \u001b[1;33m=\u001b[0m \u001b[0mself\u001b[0m\u001b[1;33m.\u001b[0m\u001b[0m_get_tracing_count\u001b[0m\u001b[1;33m(\u001b[0m\u001b[1;33m)\u001b[0m\u001b[1;33m\u001b[0m\u001b[1;33m\u001b[0m\u001b[0m\n",
      "\u001b[1;32m~\\anaconda3\\lib\\site-packages\\tensorflow\\python\\eager\\def_function.py\u001b[0m in \u001b[0;36m_call\u001b[1;34m(self, *args, **kwds)\u001b[0m\n\u001b[0;32m    805\u001b[0m       \u001b[1;31m# In this case we have created variables on the first call, so we run the\u001b[0m\u001b[1;33m\u001b[0m\u001b[1;33m\u001b[0m\u001b[1;33m\u001b[0m\u001b[0m\n\u001b[0;32m    806\u001b[0m       \u001b[1;31m# defunned version which is guaranteed to never create variables.\u001b[0m\u001b[1;33m\u001b[0m\u001b[1;33m\u001b[0m\u001b[1;33m\u001b[0m\u001b[0m\n\u001b[1;32m--> 807\u001b[1;33m       \u001b[1;32mreturn\u001b[0m \u001b[0mself\u001b[0m\u001b[1;33m.\u001b[0m\u001b[0m_stateless_fn\u001b[0m\u001b[1;33m(\u001b[0m\u001b[1;33m*\u001b[0m\u001b[0margs\u001b[0m\u001b[1;33m,\u001b[0m \u001b[1;33m**\u001b[0m\u001b[0mkwds\u001b[0m\u001b[1;33m)\u001b[0m  \u001b[1;31m# pylint: disable=not-callable\u001b[0m\u001b[1;33m\u001b[0m\u001b[1;33m\u001b[0m\u001b[0m\n\u001b[0m\u001b[0;32m    808\u001b[0m     \u001b[1;32melif\u001b[0m \u001b[0mself\u001b[0m\u001b[1;33m.\u001b[0m\u001b[0m_stateful_fn\u001b[0m \u001b[1;32mis\u001b[0m \u001b[1;32mnot\u001b[0m \u001b[1;32mNone\u001b[0m\u001b[1;33m:\u001b[0m\u001b[1;33m\u001b[0m\u001b[1;33m\u001b[0m\u001b[0m\n\u001b[0;32m    809\u001b[0m       \u001b[1;31m# Release the lock early so that multiple threads can perform the call\u001b[0m\u001b[1;33m\u001b[0m\u001b[1;33m\u001b[0m\u001b[1;33m\u001b[0m\u001b[0m\n",
      "\u001b[1;32m~\\anaconda3\\lib\\site-packages\\tensorflow\\python\\eager\\function.py\u001b[0m in \u001b[0;36m__call__\u001b[1;34m(self, *args, **kwargs)\u001b[0m\n\u001b[0;32m   2827\u001b[0m     \u001b[1;32mwith\u001b[0m \u001b[0mself\u001b[0m\u001b[1;33m.\u001b[0m\u001b[0m_lock\u001b[0m\u001b[1;33m:\u001b[0m\u001b[1;33m\u001b[0m\u001b[1;33m\u001b[0m\u001b[0m\n\u001b[0;32m   2828\u001b[0m       \u001b[0mgraph_function\u001b[0m\u001b[1;33m,\u001b[0m \u001b[0margs\u001b[0m\u001b[1;33m,\u001b[0m \u001b[0mkwargs\u001b[0m \u001b[1;33m=\u001b[0m \u001b[0mself\u001b[0m\u001b[1;33m.\u001b[0m\u001b[0m_maybe_define_function\u001b[0m\u001b[1;33m(\u001b[0m\u001b[0margs\u001b[0m\u001b[1;33m,\u001b[0m \u001b[0mkwargs\u001b[0m\u001b[1;33m)\u001b[0m\u001b[1;33m\u001b[0m\u001b[1;33m\u001b[0m\u001b[0m\n\u001b[1;32m-> 2829\u001b[1;33m     \u001b[1;32mreturn\u001b[0m \u001b[0mgraph_function\u001b[0m\u001b[1;33m.\u001b[0m\u001b[0m_filtered_call\u001b[0m\u001b[1;33m(\u001b[0m\u001b[0margs\u001b[0m\u001b[1;33m,\u001b[0m \u001b[0mkwargs\u001b[0m\u001b[1;33m)\u001b[0m  \u001b[1;31m# pylint: disable=protected-access\u001b[0m\u001b[1;33m\u001b[0m\u001b[1;33m\u001b[0m\u001b[0m\n\u001b[0m\u001b[0;32m   2830\u001b[0m \u001b[1;33m\u001b[0m\u001b[0m\n\u001b[0;32m   2831\u001b[0m   \u001b[1;33m@\u001b[0m\u001b[0mproperty\u001b[0m\u001b[1;33m\u001b[0m\u001b[1;33m\u001b[0m\u001b[0m\n",
      "\u001b[1;32m~\\anaconda3\\lib\\site-packages\\tensorflow\\python\\eager\\function.py\u001b[0m in \u001b[0;36m_filtered_call\u001b[1;34m(self, args, kwargs, cancellation_manager)\u001b[0m\n\u001b[0;32m   1841\u001b[0m       \u001b[0;31m`\u001b[0m\u001b[0margs\u001b[0m\u001b[0;31m`\u001b[0m \u001b[1;32mand\u001b[0m\u001b[0;31m \u001b[0m\u001b[0;31m`\u001b[0m\u001b[0mkwargs\u001b[0m\u001b[0;31m`\u001b[0m\u001b[1;33m.\u001b[0m\u001b[1;33m\u001b[0m\u001b[1;33m\u001b[0m\u001b[0m\n\u001b[0;32m   1842\u001b[0m     \"\"\"\n\u001b[1;32m-> 1843\u001b[1;33m     return self._call_flat(\n\u001b[0m\u001b[0;32m   1844\u001b[0m         [t for t in nest.flatten((args, kwargs), expand_composites=True)\n\u001b[0;32m   1845\u001b[0m          if isinstance(t, (ops.Tensor,\n",
      "\u001b[1;32m~\\anaconda3\\lib\\site-packages\\tensorflow\\python\\eager\\function.py\u001b[0m in \u001b[0;36m_call_flat\u001b[1;34m(self, args, captured_inputs, cancellation_manager)\u001b[0m\n\u001b[0;32m   1921\u001b[0m         and executing_eagerly):\n\u001b[0;32m   1922\u001b[0m       \u001b[1;31m# No tape is watching; skip to running the function.\u001b[0m\u001b[1;33m\u001b[0m\u001b[1;33m\u001b[0m\u001b[1;33m\u001b[0m\u001b[0m\n\u001b[1;32m-> 1923\u001b[1;33m       return self._build_call_outputs(self._inference_function.call(\n\u001b[0m\u001b[0;32m   1924\u001b[0m           ctx, args, cancellation_manager=cancellation_manager))\n\u001b[0;32m   1925\u001b[0m     forward_backward = self._select_forward_and_backward_functions(\n",
      "\u001b[1;32m~\\anaconda3\\lib\\site-packages\\tensorflow\\python\\eager\\function.py\u001b[0m in \u001b[0;36mcall\u001b[1;34m(self, ctx, args, cancellation_manager)\u001b[0m\n\u001b[0;32m    543\u001b[0m       \u001b[1;32mwith\u001b[0m \u001b[0m_InterpolateFunctionError\u001b[0m\u001b[1;33m(\u001b[0m\u001b[0mself\u001b[0m\u001b[1;33m)\u001b[0m\u001b[1;33m:\u001b[0m\u001b[1;33m\u001b[0m\u001b[1;33m\u001b[0m\u001b[0m\n\u001b[0;32m    544\u001b[0m         \u001b[1;32mif\u001b[0m \u001b[0mcancellation_manager\u001b[0m \u001b[1;32mis\u001b[0m \u001b[1;32mNone\u001b[0m\u001b[1;33m:\u001b[0m\u001b[1;33m\u001b[0m\u001b[1;33m\u001b[0m\u001b[0m\n\u001b[1;32m--> 545\u001b[1;33m           outputs = execute.execute(\n\u001b[0m\u001b[0;32m    546\u001b[0m               \u001b[0mstr\u001b[0m\u001b[1;33m(\u001b[0m\u001b[0mself\u001b[0m\u001b[1;33m.\u001b[0m\u001b[0msignature\u001b[0m\u001b[1;33m.\u001b[0m\u001b[0mname\u001b[0m\u001b[1;33m)\u001b[0m\u001b[1;33m,\u001b[0m\u001b[1;33m\u001b[0m\u001b[1;33m\u001b[0m\u001b[0m\n\u001b[0;32m    547\u001b[0m               \u001b[0mnum_outputs\u001b[0m\u001b[1;33m=\u001b[0m\u001b[0mself\u001b[0m\u001b[1;33m.\u001b[0m\u001b[0m_num_outputs\u001b[0m\u001b[1;33m,\u001b[0m\u001b[1;33m\u001b[0m\u001b[1;33m\u001b[0m\u001b[0m\n",
      "\u001b[1;32m~\\anaconda3\\lib\\site-packages\\tensorflow\\python\\eager\\execute.py\u001b[0m in \u001b[0;36mquick_execute\u001b[1;34m(op_name, num_outputs, inputs, attrs, ctx, name)\u001b[0m\n\u001b[0;32m     57\u001b[0m   \u001b[1;32mtry\u001b[0m\u001b[1;33m:\u001b[0m\u001b[1;33m\u001b[0m\u001b[1;33m\u001b[0m\u001b[0m\n\u001b[0;32m     58\u001b[0m     \u001b[0mctx\u001b[0m\u001b[1;33m.\u001b[0m\u001b[0mensure_initialized\u001b[0m\u001b[1;33m(\u001b[0m\u001b[1;33m)\u001b[0m\u001b[1;33m\u001b[0m\u001b[1;33m\u001b[0m\u001b[0m\n\u001b[1;32m---> 59\u001b[1;33m     tensors = pywrap_tfe.TFE_Py_Execute(ctx._handle, device_name, op_name,\n\u001b[0m\u001b[0;32m     60\u001b[0m                                         inputs, attrs, num_outputs)\n\u001b[0;32m     61\u001b[0m   \u001b[1;32mexcept\u001b[0m \u001b[0mcore\u001b[0m\u001b[1;33m.\u001b[0m\u001b[0m_NotOkStatusException\u001b[0m \u001b[1;32mas\u001b[0m \u001b[0me\u001b[0m\u001b[1;33m:\u001b[0m\u001b[1;33m\u001b[0m\u001b[1;33m\u001b[0m\u001b[0m\n",
      "\u001b[1;31mKeyboardInterrupt\u001b[0m: "
     ]
    }
   ],
   "source": [
    "while 1:\n",
    "    x,y,z = data_pre() #데이터 로드\n",
    "    t,s,y = token_pre(x,y,z) #토크나이저\n",
    "    \n",
    "    if len(s) < 50: #분리한 원본데이터셋이 50개 이하면 중지하고 나머지는 직접 라벨링\n",
    "        break\n",
    "    \n",
    "    model_build_predict(0)\n",
    "    \n",
    "    while 1:\n",
    "        \n",
    "        if (max_p - min_p) < 2: # 모델성능 높이기 위해서 예측값의 최고확률과 최저확률이 1이상 차이가 없다면 모호성 있다고 판단\n",
    "                                # 배치사이즈를 조절한다\n",
    "            if BATCH_SIZE > 32:\n",
    "                BATCH_SIZE = BATCH_SIZE/2\n",
    "                model_build_predict(1)\n",
    "                \n",
    "            else:\n",
    "                break\n",
    "        else:\n",
    "            break\n",
    "            \n",
    "    label_data() #예측값을 기준으로 1, 0 분류하기\n",
    "    no_label_data_delet() #이미 분류된 데이터는 원본 데이터에서 삭제\n",
    "    label_data_plus()  # 데이터 증식시키기"
   ]
  },
  {
   "cell_type": "markdown",
   "metadata": {},
   "source": [
    "* 중간에 중지해서 수동으로 멈추었지만, 그냥 진행해도 가능 (시간이 조금 걸림) 오류는 없었음\n",
    "* 원본 379개을 제외한 9,621는 자동 라벨링\n",
    "* 379개만 수작업\n",
    "* 중지시키는 임계값을 타이트하게 정해서 시간단축 필요"
   ]
  },
  {
   "cell_type": "markdown",
   "metadata": {},
   "source": [
    "###  1)  CNN  < 예측값이 모호함 - 선정하지 않음>\n",
    "* Yoon Kim(2014)가 쓴 합성곱 신경망 모델를 참고하여 추가로 신경망 구축하여 모델링\n",
    "---------------------------\n",
    "* 임베딩 벡터 생성\n",
    "* conv1D 활용하여 3개의 합성곱 레이어를 사용 각각의 필터의 크기를 다르게 해서 추출(3,4,5)\n",
    "* 맥스풀링레이어\n",
    "* 과적합 방지를 하기 위한 dropout과 완전 연결 계층 2개 층 쌓기\n",
    "* 최종 출력 차원인 kargs['output_dimension']과 출력을 맞춰 모델 구성"
   ]
  },
  {
   "cell_type": "code",
   "execution_count": null,
   "metadata": {},
   "outputs": [],
   "source": [
    "# train_input = np.load(open('./train_input.npy', 'rb'))\n",
    "# train_input = pad_sequences(train_input, maxlen=train_input.shape[1])\n",
    "# train_label = np.load(open('./train_label.npy', 'rb'))\n",
    "# test_input = np.load(open('./test_input.npy', 'rb'))\n",
    "# test_input = pad_sequences(test_input, maxlen=test_input.shape[1])\n",
    "# prepro_configs = json.load(open('./data_configs.json', 'r'))"
   ]
  },
  {
   "cell_type": "code",
   "execution_count": null,
   "metadata": {},
   "outputs": [],
   "source": [
    "# k = 1 # 학습데이터 크기에 따라서 조절\n",
    "\n",
    "# model_name = 'cnn_classifier_kr'\n",
    "# BATCH_SIZE = 128\n",
    "# NUM_EPOCHS = 5\n",
    "# VALID_SPLIT = 0.1\n",
    "# MAX_LEN = train_input.shape[1]\n",
    "\n",
    "# kargs = {'model_name': model_name,\n",
    "#          'vocab_size': prepro_configs['vocab_size'],\n",
    "#          'embedding_size':128,\n",
    "#          'num_filters': 100,\n",
    "#          'dropout_rate': 0.5,\n",
    "#          'hidden_dimension':250,\n",
    "#          'output_dimension':1\n",
    "#          }\n"
   ]
  },
  {
   "cell_type": "code",
   "execution_count": 1543,
   "metadata": {},
   "outputs": [],
   "source": [
    "# class CNNClassifier(tf.keras.Model):\n",
    "   \n",
    "#     def __init__(self, **kargs):\n",
    "        \n",
    "#         super(CNNClassifier, self).__init__(name=kargs['model_name']) \n",
    "#         self.embedding = layers.Embedding(input_dim=kargs['vocab_size'],\n",
    "#                                      output_dim=kargs['embedding_size'])  #임베딩 벡터 생성\n",
    "        \n",
    "#         self.conv_list = [layers.Conv1D(filters=kargs['num_filters'],\n",
    "#                                        kernel_size=kernel_size,\n",
    "#                                        padding='valid',\n",
    "#                                        activation=tf.keras.activations.relu,\n",
    "#                                        kernel_constraint=tf.keras.constraints.MaxNorm(max_value=3.)) \n",
    "#                           for kernel_size in [3,4,5]]\n",
    "#         #conv1D 활용하여 3개의 합성곱 레이어를 사용 각각의 필터의 크기를 다르게 해서 추출(3,4,5)\n",
    "        \n",
    "        \n",
    "#         self.pooling = layers.GlobalMaxPooling1D() # 맥스풀링레이어 (여기서 그로벌 말고 그냥도 해봐야지)\n",
    "#         self.dropout = layers.Dropout(kargs['dropout_rate']) #과적합 방지를 하기 위한 dropout과 완전 연결 계층 2개 층 쌓기\n",
    "#         self.fc1 = layers.Dense(units=kargs['hidden_dimension'],\n",
    "#                                 activation=tf.keras.activations.relu,\n",
    "#                                 kernel_constraint=tf.keras.constraints.MaxNorm(max_value=3.))\n",
    "#         self.fc2 = layers.Dense(units=kargs['output_dimension'], \n",
    "#                                activation=tf.keras.activations.sigmoid,\n",
    "#                                 kernel_constraint=tf.keras.constraints.MaxNorm(max_value=3.)) #norm -가중치 제약\n",
    "        \n",
    "#             #최종 출력 차원인 kargs['output_dimension']과 출력을 맞춰 모델 구성\n",
    "        \n",
    "#     def call(self, x):\n",
    "#         x = self.embedding(x)\n",
    "#         x = self.dropout(x)\n",
    "#         x = tf.concat([self.pooling(conv(x)) for conv in self.conv_list], axis=-1)\n",
    "#         x = self.fc1(x)\n",
    "#         x = self.fc2(x)\n",
    "    \n",
    "#         return x"
   ]
  },
  {
   "cell_type": "code",
   "execution_count": null,
   "metadata": {},
   "outputs": [],
   "source": [
    "# model = CNNClassifier(**kargs)\n",
    "\n",
    "# model.compile(optimizer=tf.keras.optimizers.Adam(1e-4),\n",
    "#              loss=tf.keras.losses.BinaryCrossentropy(),\n",
    "#              metrics=[tf.keras.metrics.BinaryAccuracy(name='accuray')])"
   ]
  },
  {
   "cell_type": "markdown",
   "metadata": {},
   "source": [
    "* 모델 학습 중에 발생하는 오버피팅문제 해결을 위해 Earlystopping 사용\n",
    "* modelcheckpoint는 에폭마다 모델을저장 가장 성능이좋은 모델만 저장"
   ]
  },
  {
   "cell_type": "code",
   "execution_count": null,
   "metadata": {},
   "outputs": [],
   "source": [
    "# earlystop_callback = EarlyStopping(monitor='val_accuray', min_delta=0.0001, patience=2) #오버피팅문제\n",
    "\n",
    "# checkpoint_path = './'+ model_name + '/weights.h5'\n",
    "# checkpoint_dir = os.path.dirname(checkpoint_path)\n",
    "\n",
    "# if os.path.exists(checkpoint_dir):\n",
    "#     print(\"{} -- Folder already\")\n",
    "# else:\n",
    "#     os.makedirs(checkpoint_dir, exist_ok=True)\n",
    "#     print(\"{} -- Folder create\")\n",
    " \n",
    "#     # 성능이좋은 모델만 저장\n",
    "# cp_callback = ModelCheckpoint(checkpoint_path, monitor='val_accuray', verbose=1, save_best_only=True, save_weights_only=True)\n",
    "\n",
    "# history = model.fit(train_input, train_label, batch_size=BATCH_SIZE, epochs=NUM_EPOCHS, validation_split=VALID_SPLIT, callbacks=[earlystop_callback, cp_callback])"
   ]
  },
  {
   "cell_type": "markdown",
   "metadata": {},
   "source": [
    "* 적정포인트로 에포크는 멈춘 곳에서  -2 정도 하기 "
   ]
  },
  {
   "cell_type": "code",
   "execution_count": null,
   "metadata": {},
   "outputs": [],
   "source": [
    "# DATA_OUT_PATH = './data_out_result_cnn.csv'\n",
    "# SAVE_FILE_NM = './'+ model_name + '/weights.h5'\n",
    "\n",
    "# model.load_weights(SAVE_FILE_NM)\n",
    "\n",
    "# predictions = model.predict(test_input, batch_size=BATCH_SIZE)\n",
    "# predictions = predictions.squeeze(-1)\n",
    "\n",
    "# output =  pd.DataFrame(data={\"sentiment\":list(predictions)})\n",
    "# output.to_csv(DATA_OUT_PATH , index=False, quoting=3)\n"
   ]
  },
  {
   "cell_type": "markdown",
   "metadata": {},
   "source": [
    "* 전처리된 원본데이터 모델에 적용 예측값 저장"
   ]
  },
  {
   "cell_type": "markdown",
   "metadata": {},
   "source": [
    "## 기존데이터 라벨링 확보후 저장"
   ]
  },
  {
   "cell_type": "markdown",
   "metadata": {},
   "source": [
    "* 입력값과 라벨값을 완성\n",
    "* 해당 데이터를 모델링 과정에서 사용 가능하도록 저장\n",
    "* 시간 관계상, 최종문장 저장 부분은 모델훈련에 큰 의미가 없어 생략"
   ]
  },
  {
   "cell_type": "code",
   "execution_count": 2394,
   "metadata": {},
   "outputs": [],
   "source": [
    "# right_text_result = pd.read_csv('./right_text_result.csv', header = 0) #원본 데이터\n",
    "# wrong_text_result = pd.read_csv('./wrong_text_result.csv', header = 0) #원본 데이터\n",
    "wrong_text = pd.read_csv('./wrong_text.csv', header = 0) #증식 + 원본 데이터\n",
    "right_text = pd.read_csv('./wrong_text.csv', header = 0) #증식 + 원본 데이터\n",
    "\n",
    "right_text = right_text['txt'].tolist()\n",
    "wrong_text = wrong_text['txt'].tolist()\n",
    "\n",
    "# right_text_result = right_text_result['txt'].tolist()\n",
    "# wrong_text_result = wrong_text_result['txt'].tolist()\n",
    "\n",
    "right_text_np = np.array(right_text)   \n",
    "wrong_text_np = np.array(wrong_text)   \n",
    "total_train = np.concatenate([right_text_np,wrong_text_np], axis=0) #병합\n",
    "\n",
    "right_label = np.ones(len(right_text))\n",
    "wrong_label = np.zeros(len(wrong_text))\n",
    "total_label = np.concatenate([right_label,wrong_label], axis=0) #병합\n",
    "\n",
    "# right_text_re = np.array(right_text_result)   \n",
    "# wrong_text_re = np.array(wrong_text_result)   \n",
    "# total_train_re = np.concatenate([right_text_re, wrong_text_re], axis=0) #병합\n",
    "\n",
    "# right_label_re = np.ones(len(right_text_re))\n",
    "# wrong_label_re = np.zeros(len(wrong_text_re))\n",
    "# total_label_re = np.concatenate([right_label_re,wrong_label_re], axis=0) #병합\n",
    "\n",
    "tmp = [[x,y] for x, y in zip(total_train, total_label)]\n",
    "#tmp_re = [[x,y] for x, y in zip(total_train_re, total_label_re)]\n",
    "\n",
    "random.shuffle(tmp) #데이터셋이 골고루 분포하도록 섞음\n",
    "\n",
    "result_train = [n[0] for n in tmp]\n",
    "result_label = [n[1] for n in tmp]\n",
    "\n",
    "# result_total_train = [n[0] for n in tmp_re]\n",
    "# result_total_label = [n[1] for n in tmp_re]\n",
    "\n",
    "# re_data_df = pd.DataFrame({'txt': result_total_train }) \n",
    "# re_label_df = pd.DataFrame({'label':result_total_label }) \n",
    "\n",
    "# re_data_df.to_csv('./result_total_train.csv', index=False ,encoding='utf-8-sig' )\n",
    "# re_label_df.to_csv('./result_total_label.csv', index=False ,encoding='utf-8-sig' )"
   ]
  },
  {
   "cell_type": "code",
   "execution_count": 2395,
   "metadata": {},
   "outputs": [],
   "source": [
    "result_train = pd.DataFrame({'txt': result_train }) \n",
    "result_label = pd.DataFrame({'label':result_label}) \n",
    "\n",
    "result_train.to_csv('./result_train_input.csv', header=False ) #증식데이터와 원본데이터 다 넣음\n",
    "result_label.to_csv('./result_train_label.csv', index=False  ) #데이터 증식될 문장만 넣는곳   "
   ]
  },
  {
   "cell_type": "code",
   "execution_count": 2404,
   "metadata": {},
   "outputs": [
    {
     "data": {
      "text/plain": [
       "36446"
      ]
     },
     "execution_count": 2404,
     "metadata": {},
     "output_type": "execute_result"
    }
   ],
   "source": [
    "len(result_label)"
   ]
  },
  {
   "cell_type": "markdown",
   "metadata": {},
   "source": [
    "* 최종 훈련용 라벨링된 데이터 저장"
   ]
  },
  {
   "cell_type": "code",
   "execution_count": 2369,
   "metadata": {},
   "outputs": [],
   "source": [
    "tokenizer = Tokenizer()\n",
    "tokenizer.fit_on_texts(clean_train_word) #전체데이터를 전처리했던 걸로 변환사전만들기(초기에 사용했던거)\n",
    "train_sequences = tokenizer.texts_to_sequences(result_train) #데이터증식한 라벨링된 데이터\n",
    "    # 인덱스의 벡터로 구성\n",
    "\n",
    "total_word_vocab = tokenizer.word_index \n",
    "\n",
    "MAX_SEQUENCE_LENGH = 100 # 문장 최대 길이 \n",
    "    \n",
    "# 패딩처리\n",
    "train_inputs = pad_sequences(train_sequences, maxlen=MAX_SEQUENCE_LENGH, padding='post')\n",
    "train_labels = np.array(result_label)\n",
    "TRAIN_INPUT_DATA = './result_train_input.npy'\n",
    "TRAIN_IABEL = './result_train_label.npy'\n",
    "DATA_CONFIGS = './data_configs.json'\n",
    "\n",
    "data_configs = {}\n",
    "    \n",
    "data_configs['vocab'] = word_vocab\n",
    "data_configs['vocab_size'] = len(word_vocab)+1 #vocab size 추가\n",
    "\n",
    "    #전처리된 학습 데이터를 넘파이 형태로 저장 \n",
    "np.save(open(TRAIN_INPUT_DATA, 'wb'), train_inputs)\n",
    "np.save(open(TEST_INPUT_DATA, 'wb'), test_inputs)\n",
    "np.save(open(TRAIN_IABEL, 'wb'), train_labels)\n",
    "    #평가데이터 넘파이 형태로 저장\n",
    "\n",
    "    #데이터 사전을 json 형태로 저장\n",
    "json.dump(data_configs, open(DATA_CONFIGS, 'w'), ensure_ascii=False)  "
   ]
  },
  {
   "cell_type": "markdown",
   "metadata": {},
   "source": [
    "## 최종모델"
   ]
  },
  {
   "cell_type": "code",
   "execution_count": 2370,
   "metadata": {},
   "outputs": [],
   "source": [
    "X_train = np.load(open('./result_train_input.npy', 'rb'))\n",
    "X_train = pad_sequences(X_train, maxlen=train_inputs.shape[1])\n",
    "Y_train = np.load(open('./result_train_label.npy', 'rb'))\n",
    "prepro_configs = json.load(open('./data_configs.json', 'r'))"
   ]
  },
  {
   "cell_type": "markdown",
   "metadata": {},
   "source": [
    "* 제가 보기편할려고 형식을 바꾸어작성했습니다."
   ]
  },
  {
   "cell_type": "code",
   "execution_count": 2372,
   "metadata": {},
   "outputs": [],
   "source": [
    "import json\n",
    "import os\n",
    "from konlpy.tag import Okt\n",
    "from tensorflow.keras.callbacks import EarlyStopping, ModelCheckpoint\n",
    "from tensorflow.keras import layers\n",
    "import matplotlib.pyplot as plt\n",
    "from tensorflow.keras.models import load_model"
   ]
  },
  {
   "cell_type": "code",
   "execution_count": 2373,
   "metadata": {},
   "outputs": [],
   "source": [
    "from tensorflow.keras.models import Model\n",
    "from tensorflow.keras.layers import LSTM, Activation, Dense, Dropout, Input, Embedding\n",
    "from tensorflow.keras.optimizers import RMSprop\n",
    "from tensorflow.keras.preprocessing.text import Tokenizer\n",
    "from tensorflow.keras.preprocessing import sequence\n",
    "from tensorflow.keras.utils import to_categorical\n",
    "from tensorflow.keras.callbacks import EarlyStopping"
   ]
  },
  {
   "cell_type": "code",
   "execution_count": 2374,
   "metadata": {},
   "outputs": [],
   "source": [
    "def result_model():\n",
    "    inputs = Input(name='inputs',shape=[MAX_SEQUENCE_LENGH])\n",
    "    layer = Embedding(data_configs['vocab_size'],100,input_length=MAX_SEQUENCE_LENGH)(inputs)\n",
    "    layer = LSTM(64, return_sequences=True)(layer)\n",
    "    layer = LSTM(150)(layer)\n",
    "    layer = Dense(256,name='FC1')(layer)\n",
    "    layer = Activation('relu')(layer)\n",
    "    layer = Dropout(0.2)(layer)\n",
    "    layer = Dense(1,name='out_layer')(layer)\n",
    "    layer = Activation('sigmoid')(layer)\n",
    "    model = Model(inputs=inputs,outputs=layer)\n",
    "    return model"
   ]
  },
  {
   "cell_type": "code",
   "execution_count": 2375,
   "metadata": {},
   "outputs": [
    {
     "name": "stdout",
     "output_type": "stream",
     "text": [
      "Model: \"functional_15\"\n",
      "_________________________________________________________________\n",
      "Layer (type)                 Output Shape              Param #   \n",
      "=================================================================\n",
      "inputs (InputLayer)          [(None, 100)]             0         \n",
      "_________________________________________________________________\n",
      "embedding_247 (Embedding)    (None, 100, 100)          1365500   \n",
      "_________________________________________________________________\n",
      "lstm_345 (LSTM)              (None, 100, 64)           42240     \n",
      "_________________________________________________________________\n",
      "lstm_346 (LSTM)              (None, 150)               129000    \n",
      "_________________________________________________________________\n",
      "FC1 (Dense)                  (None, 256)               38656     \n",
      "_________________________________________________________________\n",
      "activation_18 (Activation)   (None, 256)               0         \n",
      "_________________________________________________________________\n",
      "dropout_246 (Dropout)        (None, 256)               0         \n",
      "_________________________________________________________________\n",
      "out_layer (Dense)            (None, 1)                 257       \n",
      "_________________________________________________________________\n",
      "activation_19 (Activation)   (None, 1)                 0         \n",
      "=================================================================\n",
      "Total params: 1,575,653\n",
      "Trainable params: 1,575,653\n",
      "Non-trainable params: 0\n",
      "_________________________________________________________________\n",
      "Epoch 1/100\n",
      "228/228 [==============================] - 147s 644ms/step - loss: 0.6938 - accuracy: 0.4970 - val_loss: 0.6931 - val_accuracy: 0.5041\n",
      "Epoch 2/100\n",
      "228/228 [==============================] - 154s 673ms/step - loss: 0.6934 - accuracy: 0.4958 - val_loss: 0.6932 - val_accuracy: 0.4959\n"
     ]
    },
    {
     "data": {
      "text/plain": [
       "<tensorflow.python.keras.callbacks.History at 0x1c959ab5c40>"
      ]
     },
     "execution_count": 2375,
     "metadata": {},
     "output_type": "execute_result"
    }
   ],
   "source": [
    "model = result_model()\n",
    "model.summary()\n",
    "model.compile(loss='binary_crossentropy',optimizer=RMSprop(),metrics=['accuracy'])\n",
    "model.fit(X_train,Y_train,batch_size=128,epochs=100,validation_split=0.2,callbacks=[earlystop_callback])"
   ]
  },
  {
   "cell_type": "code",
   "execution_count": 2377,
   "metadata": {},
   "outputs": [],
   "source": [
    "model.save('./weights.h5')"
   ]
  },
  {
   "cell_type": "markdown",
   "metadata": {},
   "source": [
    "* 위에 rnn과는 옵티마이저와 lstm 2층 - > 1층 사용한 정도 미세 변화\n",
    "* 좀 더 파라미터를 수정하며 하고싶었으나 시간관계상 추후에 진행예정"
   ]
  },
  {
   "cell_type": "markdown",
   "metadata": {},
   "source": [
    "# 테스트셋 로딩 함수"
   ]
  },
  {
   "cell_type": "markdown",
   "metadata": {},
   "source": [
    "* 테스트셋이 있는 경로를 PATH 를 함수 변수로 넣어주세요(PATH_LABEL = 정답위치, PATH_DATA = 데이터 위치)\n",
    "* 테스트셋 형식은 csv로 맞춰서 진행되게 해놓았습니다.\n",
    "* 여기서 부터 실행하시면 됩니다!"
   ]
  },
  {
   "cell_type": "code",
   "execution_count": null,
   "metadata": {},
   "outputs": [],
   "source": [
    "#!pip install konlpy"
   ]
  },
  {
   "cell_type": "code",
   "execution_count": 2378,
   "metadata": {},
   "outputs": [],
   "source": [
    "import re\n",
    "import json\n",
    "from konlpy.tag import Okt\n",
    "import tensorflow as tf\n",
    "from tensorflow.python.keras.preprocessing.sequence import pad_sequences\n",
    "from tensorflow.python.keras.preprocessing.text import Tokenizer\n",
    "from tensorflow import keras "
   ]
  },
  {
   "cell_type": "code",
   "execution_count": 2379,
   "metadata": {},
   "outputs": [],
   "source": [
    " def preprocessing(text, okt, re_stopword = True):\n",
    "        \n",
    "        re_text = re.sub(\"[^가-힣ㄱ-ㅎㅏ-ㅣ\\\\s]\", \"\", text) #한글외 삭제\n",
    "         \n",
    "        re_text2 = okt.morphs(re_text, stem=True) #어간추출\n",
    "        \n",
    "        if re_stopword:\n",
    "            clean_text = [token for token in re_text2 if not token in stop_words] #불용어 처리\n",
    "            \n",
    "        clean_text = ' '.join(clean_text)\n",
    "\n",
    "        return clean_text"
   ]
  },
  {
   "cell_type": "markdown",
   "metadata": {},
   "source": [
    "## 테스트셋에 데이터 전처리(어간추출같은)가 필요하다면 이 함수\n",
    "* 단, okt를 사용하여 pip로 설치 필요"
   ]
  },
  {
   "cell_type": "code",
   "execution_count": 2,
   "metadata": {},
   "outputs": [],
   "source": [
    "def test_fu1(PATH_LABEL, PATH_DATA):\n",
    "    \n",
    "    tokenizer = Tokenizer()\n",
    "    \n",
    "    MAX_SEQUENCE_LENGH = 100 # 문장 최대 길이 \n",
    "    \n",
    "    test_input = pd.read_csv(PATH_DATA, header = 0) #증식 + 원본 데이터\n",
    "    test_label = pd.read_csv(PATH_LABEL, header = 0) #증식 + 원본 데이터\n",
    "    \n",
    "    clean_train=[]\n",
    "\n",
    "    for re_text in test_input['txt']:\n",
    "        \n",
    "        if type(re_text) == str:\n",
    "            clean_train.append(preprocessing(re_text, okt))\n",
    "        else:\n",
    "            clean_train.append([])\n",
    "    \n",
    "    test_input = np.array(clean_train)  \n",
    "    \n",
    "    prepro_configs = json.load(open('./data_configs.json', 'r'))\n",
    "    \n",
    "    with open('./data_configs.json') as json_file:\n",
    "        word_index = json.load(json_file)\n",
    "        tokenizer.word_index = word_index      \n",
    "            \n",
    "    test_sequences = tokenizer.texts_to_sequences(test_input) \n",
    "        # 인덱스의 벡터로 구성\n",
    "\n",
    "    total_word_vocab = tokenizer.word_index \n",
    "\n",
    "    # 패딩처리\n",
    "    test_input = pad_sequences(train_sequences, maxlen=MAX_SEQUENCE_LENGH, padding='post')\n",
    "    test_label = np.array(test_label)\n",
    "    \n",
    "    model = load_model('/weights.h5')\n",
    "    model.evaluate(test_input, test_label)\n",
    "    \n",
    "    "
   ]
  },
  {
   "cell_type": "markdown",
   "metadata": {},
   "source": [
    "## 테스트셋를 훈련모델에 적용만 한다면 이 함수"
   ]
  },
  {
   "cell_type": "code",
   "execution_count": 1,
   "metadata": {},
   "outputs": [],
   "source": [
    "def test_fu2(PATH_LABEL, PATH_DATA):\n",
    "    \n",
    "    tokenizer = Tokenizer()\n",
    "    \n",
    "    MAX_SEQUENCE_LENGH = 100 # 문장 최대 길이 \n",
    "\n",
    "    test_input = pd.read_csv(PATH_DATA, header = 0) #증식 + 원본 데이터\n",
    "    test_label = pd.read_csv(PATH_LABEL, header = 0) #증식 + 원본 데이터\n",
    "    \n",
    "    print(len(test_input))\n",
    "    \n",
    "    prepro_configs = json.load(open('./data_configs.json', 'r'))\n",
    "    \n",
    "    with open('./data_configs.json') as json_file:\n",
    "        word_index = json.load(json_file)\n",
    "        tokenizer.word_index = word_index      \n",
    "            \n",
    "    test_sequences = tokenizer.texts_to_sequences(test_input) \n",
    "        # 인덱스의 벡터로 구성\n",
    "    total_word_vocab = tokenizer.word_index \n",
    "    # 패딩처리\n",
    "    test_input = pad_sequences(train_sequences, maxlen=MAX_SEQUENCE_LENGH, padding='post')\n",
    "    \n",
    "    test_label = np.array(test_label)\n",
    "    #est_input = np.array(test_input)  \n",
    "    \n",
    "    model = load_model('./weights.h5')\n",
    "    model.evaluate(test_input, test_label)"
   ]
  },
  {
   "cell_type": "markdown",
   "metadata": {},
   "source": [
    "### 추후 개발 계획"
   ]
  },
  {
   "cell_type": "markdown",
   "metadata": {},
   "source": [
    "* k-fold로 적용하고 좀 더 깊은 층 개발할 예정(서치로 정보도 얻어서)\n",
    "* 자동라벨링도 멈추는 임계값을 수정해서 오래걸리지 않고 돌아가는 것\n",
    "* 토크나이징 할 때 단어사전에 수작업에서 사용한 영화리뷰를 데이터를 추가해서 모델을 돌려 성능향상 기대\n",
    "* 문자열 전처리를 진행 시, 개인적으로 만든 불용어사전의 단어 개수도 늘리고 문자열를 cg, cgv단어가 읽힐 수 있게\n",
    "  영어도 포함하여 정규화를 진행한 후 사전에 관련 용어들을 수집해서 넣으려 한다.\n",
    "* 자동 라벨링에 사용했던 모델에 가중치를 가져와서 테스트 모델로 사용해보려한다.\n",
    "  \n",
    "  ----> 전처리와 자동라벨링에 집중하여 모델을 깊게 만들지 못한게 아쉬워 이 부분을 집중해서 진행할 예정"
   ]
  },
  {
   "cell_type": "code",
   "execution_count": null,
   "metadata": {},
   "outputs": [],
   "source": [
    "#test_fu2('./result_train_label.csv','./result_train_input.csv')"
   ]
  }
 ],
 "metadata": {
  "kernelspec": {
   "display_name": "Python 3",
   "language": "python",
   "name": "python3"
  },
  "language_info": {
   "codemirror_mode": {
    "name": "ipython",
    "version": 3
   },
   "file_extension": ".py",
   "mimetype": "text/x-python",
   "name": "python",
   "nbconvert_exporter": "python",
   "pygments_lexer": "ipython3",
   "version": "3.8.5"
  }
 },
 "nbformat": 4,
 "nbformat_minor": 4
}
